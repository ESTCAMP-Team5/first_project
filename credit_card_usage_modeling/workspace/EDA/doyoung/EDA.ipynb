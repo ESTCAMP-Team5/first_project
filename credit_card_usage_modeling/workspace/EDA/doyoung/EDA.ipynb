{
 "cells": [
  {
   "metadata": {
    "collapsed": true,
    "ExecuteTime": {
     "end_time": "2025-05-30T01:15:19.297929Z",
     "start_time": "2025-05-30T01:15:18.776546Z"
    }
   },
   "cell_type": "code",
   "source": [
    "import os\n",
    "import pandas as pd\n",
    "import numpy as np\n",
    "import mysql.connector\n",
    "from dotenv import load_dotenv\n",
    "import seaborn as sns\n",
    "from scipy import stats\n",
    "from statsmodels.tsa.seasonal import seasonal_decompose\n",
    "from scipy.stats import tukey_hsd\n",
    "from itertools import combinations\n",
    "from sklearn.preprocessing import LabelEncoder\n",
    "from sklearn.linear_model import LinearRegression\n",
    "from sklearn.metrics import r2_score"
   ],
   "id": "initial_id",
   "outputs": [],
   "execution_count": 49
  },
  {
   "metadata": {
    "ExecuteTime": {
     "end_time": "2025-05-30T00:40:13.554746Z",
     "start_time": "2025-05-30T00:40:13.552642Z"
    }
   },
   "cell_type": "code",
   "source": [
    "import matplotlib.pyplot as plt\n",
    "plt.rc('font', family='AppleGothic')\n",
    "plt.rcParams['axes.unicode_minus'] = False"
   ],
   "id": "96a9999538fbaf37",
   "outputs": [],
   "execution_count": 20
  },
  {
   "metadata": {
    "ExecuteTime": {
     "end_time": "2025-05-30T00:40:13.576448Z",
     "start_time": "2025-05-30T00:40:13.564537Z"
    }
   },
   "cell_type": "code",
   "source": [
    "# DB 연결\n",
    "load_dotenv()\n",
    "\n",
    "conn = mysql.connector.connect(\n",
    "    host=os.getenv(\"DB_HOST\"),\n",
    "    user=os.getenv(\"DB_USER\"),\n",
    "    password=os.getenv(\"DB_PASSWORD\"),\n",
    "    database=\"suwon_business\"\n",
    ")\n",
    "\n",
    "cursor = conn.cursor()"
   ],
   "id": "122f30103a0abf7a",
   "outputs": [],
   "execution_count": 21
  },
  {
   "metadata": {
    "ExecuteTime": {
     "end_time": "2025-05-30T00:40:18.561670Z",
     "start_time": "2025-05-30T00:40:13.583391Z"
    }
   },
   "cell_type": "code",
   "source": [
    "# 쿼리 정의\n",
    "query = \"\"\"\n",
    "SELECT\n",
    "    t.transaction_date,\n",
    "    t.district_code,\n",
    "    d.name AS district_name,\n",
    "    t.time_block_code,\n",
    "    t.gender,\n",
    "    t.age_group_code,\n",
    "    t.day_of_week,\n",
    "    t.transaction_amount,\n",
    "    t.transaction_count,\n",
    "    w.avg_temp,\n",
    "    w.max_temp,\n",
    "    w.min_temp\n",
    "FROM card_transaction t\n",
    "JOIN district d ON t.district_code = d.district_id\n",
    "JOIN weather w ON t.transaction_date = w.weather_date AND t.district_code = w.district_id\n",
    "\"\"\"\n",
    "\n",
    "df = pd.read_sql(query, conn)\n",
    "conn.close()\n",
    "\n",
    "df"
   ],
   "id": "5d114a4fc34dc279",
   "outputs": [
    {
     "name": "stderr",
     "output_type": "stream",
     "text": [
      "/var/folders/36/pdpmp_4s2wv687klck6zglrm0000gn/T/ipykernel_44763/260202010.py:21: UserWarning: pandas only supports SQLAlchemy connectable (engine/connection) or database string URI or sqlite3 DBAPI2 connection. Other DBAPI2 objects are not tested. Please consider using SQLAlchemy.\n",
      "  df = pd.read_sql(query, conn)\n"
     ]
    },
    {
     "data": {
      "text/plain": [
       "        transaction_date  district_code district_name  time_block_code gender  \\\n",
       "0             2024-08-01          41111           장안구                1      F   \n",
       "1             2024-08-01          41111           장안구                1      M   \n",
       "2             2024-08-01          41111           장안구                1      M   \n",
       "3             2024-08-01          41111           장안구                1      M   \n",
       "4             2024-08-01          41111           장안구                1      M   \n",
       "...                  ...            ...           ...              ...    ...   \n",
       "1603317       2025-03-31          41117           영통구               10      F   \n",
       "1603318       2025-03-31          41117           영통구               10      F   \n",
       "1603319       2025-03-31          41117           영통구               10      M   \n",
       "1603320       2025-03-31          41117           영통구               10      M   \n",
       "1603321       2025-03-31          41117           영통구               10      M   \n",
       "\n",
       "         age_group_code  day_of_week  transaction_amount  transaction_count  \\\n",
       "0                     3            4               19556                  3   \n",
       "1                     2            4                4010                  2   \n",
       "2                     3            4               14393                  3   \n",
       "3                     4            4                 876                  2   \n",
       "4                     5            4                 939                  2   \n",
       "...                 ...          ...                 ...                ...   \n",
       "1603317               4            1               17503                  2   \n",
       "1603318               6            1              102472                  2   \n",
       "1603319               3            1                3442                  2   \n",
       "1603320               5            1              135210                  3   \n",
       "1603321               6            1                5163                  2   \n",
       "\n",
       "         avg_temp  max_temp   min_temp  \n",
       "0         29.2290   33.5963  24.861700  \n",
       "1         29.2290   33.5963  24.861700  \n",
       "2         29.2290   33.5963  24.861700  \n",
       "3         29.2290   33.5963  24.861700  \n",
       "4         29.2290   33.5963  24.861700  \n",
       "...           ...       ...        ...  \n",
       "1603317    8.0829   15.6633   0.502481  \n",
       "1603318    8.0829   15.6633   0.502481  \n",
       "1603319    8.0829   15.6633   0.502481  \n",
       "1603320    8.0829   15.6633   0.502481  \n",
       "1603321    8.0829   15.6633   0.502481  \n",
       "\n",
       "[1603322 rows x 12 columns]"
      ],
      "text/html": [
       "<div>\n",
       "<style scoped>\n",
       "    .dataframe tbody tr th:only-of-type {\n",
       "        vertical-align: middle;\n",
       "    }\n",
       "\n",
       "    .dataframe tbody tr th {\n",
       "        vertical-align: top;\n",
       "    }\n",
       "\n",
       "    .dataframe thead th {\n",
       "        text-align: right;\n",
       "    }\n",
       "</style>\n",
       "<table border=\"1\" class=\"dataframe\">\n",
       "  <thead>\n",
       "    <tr style=\"text-align: right;\">\n",
       "      <th></th>\n",
       "      <th>transaction_date</th>\n",
       "      <th>district_code</th>\n",
       "      <th>district_name</th>\n",
       "      <th>time_block_code</th>\n",
       "      <th>gender</th>\n",
       "      <th>age_group_code</th>\n",
       "      <th>day_of_week</th>\n",
       "      <th>transaction_amount</th>\n",
       "      <th>transaction_count</th>\n",
       "      <th>avg_temp</th>\n",
       "      <th>max_temp</th>\n",
       "      <th>min_temp</th>\n",
       "    </tr>\n",
       "  </thead>\n",
       "  <tbody>\n",
       "    <tr>\n",
       "      <th>0</th>\n",
       "      <td>2024-08-01</td>\n",
       "      <td>41111</td>\n",
       "      <td>장안구</td>\n",
       "      <td>1</td>\n",
       "      <td>F</td>\n",
       "      <td>3</td>\n",
       "      <td>4</td>\n",
       "      <td>19556</td>\n",
       "      <td>3</td>\n",
       "      <td>29.2290</td>\n",
       "      <td>33.5963</td>\n",
       "      <td>24.861700</td>\n",
       "    </tr>\n",
       "    <tr>\n",
       "      <th>1</th>\n",
       "      <td>2024-08-01</td>\n",
       "      <td>41111</td>\n",
       "      <td>장안구</td>\n",
       "      <td>1</td>\n",
       "      <td>M</td>\n",
       "      <td>2</td>\n",
       "      <td>4</td>\n",
       "      <td>4010</td>\n",
       "      <td>2</td>\n",
       "      <td>29.2290</td>\n",
       "      <td>33.5963</td>\n",
       "      <td>24.861700</td>\n",
       "    </tr>\n",
       "    <tr>\n",
       "      <th>2</th>\n",
       "      <td>2024-08-01</td>\n",
       "      <td>41111</td>\n",
       "      <td>장안구</td>\n",
       "      <td>1</td>\n",
       "      <td>M</td>\n",
       "      <td>3</td>\n",
       "      <td>4</td>\n",
       "      <td>14393</td>\n",
       "      <td>3</td>\n",
       "      <td>29.2290</td>\n",
       "      <td>33.5963</td>\n",
       "      <td>24.861700</td>\n",
       "    </tr>\n",
       "    <tr>\n",
       "      <th>3</th>\n",
       "      <td>2024-08-01</td>\n",
       "      <td>41111</td>\n",
       "      <td>장안구</td>\n",
       "      <td>1</td>\n",
       "      <td>M</td>\n",
       "      <td>4</td>\n",
       "      <td>4</td>\n",
       "      <td>876</td>\n",
       "      <td>2</td>\n",
       "      <td>29.2290</td>\n",
       "      <td>33.5963</td>\n",
       "      <td>24.861700</td>\n",
       "    </tr>\n",
       "    <tr>\n",
       "      <th>4</th>\n",
       "      <td>2024-08-01</td>\n",
       "      <td>41111</td>\n",
       "      <td>장안구</td>\n",
       "      <td>1</td>\n",
       "      <td>M</td>\n",
       "      <td>5</td>\n",
       "      <td>4</td>\n",
       "      <td>939</td>\n",
       "      <td>2</td>\n",
       "      <td>29.2290</td>\n",
       "      <td>33.5963</td>\n",
       "      <td>24.861700</td>\n",
       "    </tr>\n",
       "    <tr>\n",
       "      <th>...</th>\n",
       "      <td>...</td>\n",
       "      <td>...</td>\n",
       "      <td>...</td>\n",
       "      <td>...</td>\n",
       "      <td>...</td>\n",
       "      <td>...</td>\n",
       "      <td>...</td>\n",
       "      <td>...</td>\n",
       "      <td>...</td>\n",
       "      <td>...</td>\n",
       "      <td>...</td>\n",
       "      <td>...</td>\n",
       "    </tr>\n",
       "    <tr>\n",
       "      <th>1603317</th>\n",
       "      <td>2025-03-31</td>\n",
       "      <td>41117</td>\n",
       "      <td>영통구</td>\n",
       "      <td>10</td>\n",
       "      <td>F</td>\n",
       "      <td>4</td>\n",
       "      <td>1</td>\n",
       "      <td>17503</td>\n",
       "      <td>2</td>\n",
       "      <td>8.0829</td>\n",
       "      <td>15.6633</td>\n",
       "      <td>0.502481</td>\n",
       "    </tr>\n",
       "    <tr>\n",
       "      <th>1603318</th>\n",
       "      <td>2025-03-31</td>\n",
       "      <td>41117</td>\n",
       "      <td>영통구</td>\n",
       "      <td>10</td>\n",
       "      <td>F</td>\n",
       "      <td>6</td>\n",
       "      <td>1</td>\n",
       "      <td>102472</td>\n",
       "      <td>2</td>\n",
       "      <td>8.0829</td>\n",
       "      <td>15.6633</td>\n",
       "      <td>0.502481</td>\n",
       "    </tr>\n",
       "    <tr>\n",
       "      <th>1603319</th>\n",
       "      <td>2025-03-31</td>\n",
       "      <td>41117</td>\n",
       "      <td>영통구</td>\n",
       "      <td>10</td>\n",
       "      <td>M</td>\n",
       "      <td>3</td>\n",
       "      <td>1</td>\n",
       "      <td>3442</td>\n",
       "      <td>2</td>\n",
       "      <td>8.0829</td>\n",
       "      <td>15.6633</td>\n",
       "      <td>0.502481</td>\n",
       "    </tr>\n",
       "    <tr>\n",
       "      <th>1603320</th>\n",
       "      <td>2025-03-31</td>\n",
       "      <td>41117</td>\n",
       "      <td>영통구</td>\n",
       "      <td>10</td>\n",
       "      <td>M</td>\n",
       "      <td>5</td>\n",
       "      <td>1</td>\n",
       "      <td>135210</td>\n",
       "      <td>3</td>\n",
       "      <td>8.0829</td>\n",
       "      <td>15.6633</td>\n",
       "      <td>0.502481</td>\n",
       "    </tr>\n",
       "    <tr>\n",
       "      <th>1603321</th>\n",
       "      <td>2025-03-31</td>\n",
       "      <td>41117</td>\n",
       "      <td>영통구</td>\n",
       "      <td>10</td>\n",
       "      <td>M</td>\n",
       "      <td>6</td>\n",
       "      <td>1</td>\n",
       "      <td>5163</td>\n",
       "      <td>2</td>\n",
       "      <td>8.0829</td>\n",
       "      <td>15.6633</td>\n",
       "      <td>0.502481</td>\n",
       "    </tr>\n",
       "  </tbody>\n",
       "</table>\n",
       "<p>1603322 rows × 12 columns</p>\n",
       "</div>"
      ]
     },
     "execution_count": 22,
     "metadata": {},
     "output_type": "execute_result"
    }
   ],
   "execution_count": 22
  },
  {
   "metadata": {
    "ExecuteTime": {
     "end_time": "2025-05-30T00:40:18.585205Z",
     "start_time": "2025-05-30T00:40:18.582658Z"
    }
   },
   "cell_type": "code",
   "source": "df.columns",
   "id": "3ffc5522122202e5",
   "outputs": [
    {
     "data": {
      "text/plain": [
       "Index(['transaction_date', 'district_code', 'district_name', 'time_block_code',\n",
       "       'gender', 'age_group_code', 'day_of_week', 'transaction_amount',\n",
       "       'transaction_count', 'avg_temp', 'max_temp', 'min_temp'],\n",
       "      dtype='object')"
      ]
     },
     "execution_count": 23,
     "metadata": {},
     "output_type": "execute_result"
    }
   ],
   "execution_count": 23
  },
  {
   "metadata": {
    "ExecuteTime": {
     "end_time": "2025-05-30T00:40:18.775526Z",
     "start_time": "2025-05-30T00:40:18.606825Z"
    }
   },
   "cell_type": "code",
   "source": "df.count()",
   "id": "ca36ca8999f24de4",
   "outputs": [
    {
     "data": {
      "text/plain": [
       "transaction_date      1603322\n",
       "district_code         1603322\n",
       "district_name         1603322\n",
       "time_block_code       1603322\n",
       "gender                1603322\n",
       "age_group_code        1603322\n",
       "day_of_week           1603322\n",
       "transaction_amount    1603322\n",
       "transaction_count     1603322\n",
       "avg_temp              1603322\n",
       "max_temp              1603322\n",
       "min_temp              1603322\n",
       "dtype: int64"
      ]
     },
     "execution_count": 24,
     "metadata": {},
     "output_type": "execute_result"
    }
   ],
   "execution_count": 24
  },
  {
   "metadata": {
    "ExecuteTime": {
     "end_time": "2025-05-30T00:40:18.787724Z",
     "start_time": "2025-05-30T00:40:18.783963Z"
    }
   },
   "cell_type": "code",
   "source": "df.info",
   "id": "8ff1e58d519cad17",
   "outputs": [
    {
     "data": {
      "text/plain": [
       "<bound method DataFrame.info of         transaction_date  district_code district_name  time_block_code gender  \\\n",
       "0             2024-08-01          41111           장안구                1      F   \n",
       "1             2024-08-01          41111           장안구                1      M   \n",
       "2             2024-08-01          41111           장안구                1      M   \n",
       "3             2024-08-01          41111           장안구                1      M   \n",
       "4             2024-08-01          41111           장안구                1      M   \n",
       "...                  ...            ...           ...              ...    ...   \n",
       "1603317       2025-03-31          41117           영통구               10      F   \n",
       "1603318       2025-03-31          41117           영통구               10      F   \n",
       "1603319       2025-03-31          41117           영통구               10      M   \n",
       "1603320       2025-03-31          41117           영통구               10      M   \n",
       "1603321       2025-03-31          41117           영통구               10      M   \n",
       "\n",
       "         age_group_code  day_of_week  transaction_amount  transaction_count  \\\n",
       "0                     3            4               19556                  3   \n",
       "1                     2            4                4010                  2   \n",
       "2                     3            4               14393                  3   \n",
       "3                     4            4                 876                  2   \n",
       "4                     5            4                 939                  2   \n",
       "...                 ...          ...                 ...                ...   \n",
       "1603317               4            1               17503                  2   \n",
       "1603318               6            1              102472                  2   \n",
       "1603319               3            1                3442                  2   \n",
       "1603320               5            1              135210                  3   \n",
       "1603321               6            1                5163                  2   \n",
       "\n",
       "         avg_temp  max_temp   min_temp  \n",
       "0         29.2290   33.5963  24.861700  \n",
       "1         29.2290   33.5963  24.861700  \n",
       "2         29.2290   33.5963  24.861700  \n",
       "3         29.2290   33.5963  24.861700  \n",
       "4         29.2290   33.5963  24.861700  \n",
       "...           ...       ...        ...  \n",
       "1603317    8.0829   15.6633   0.502481  \n",
       "1603318    8.0829   15.6633   0.502481  \n",
       "1603319    8.0829   15.6633   0.502481  \n",
       "1603320    8.0829   15.6633   0.502481  \n",
       "1603321    8.0829   15.6633   0.502481  \n",
       "\n",
       "[1603322 rows x 12 columns]>"
      ]
     },
     "execution_count": 25,
     "metadata": {},
     "output_type": "execute_result"
    }
   ],
   "execution_count": 25
  },
  {
   "metadata": {
    "ExecuteTime": {
     "end_time": "2025-05-30T00:40:18.964448Z",
     "start_time": "2025-05-30T00:40:18.808453Z"
    }
   },
   "cell_type": "code",
   "source": "df.isnull().mean().sort_values(ascending=False)",
   "id": "8feaa2371ad8f361",
   "outputs": [
    {
     "data": {
      "text/plain": [
       "transaction_date      0.0\n",
       "district_code         0.0\n",
       "district_name         0.0\n",
       "time_block_code       0.0\n",
       "gender                0.0\n",
       "age_group_code        0.0\n",
       "day_of_week           0.0\n",
       "transaction_amount    0.0\n",
       "transaction_count     0.0\n",
       "avg_temp              0.0\n",
       "max_temp              0.0\n",
       "min_temp              0.0\n",
       "dtype: float64"
      ]
     },
     "execution_count": 26,
     "metadata": {},
     "output_type": "execute_result"
    }
   ],
   "execution_count": 26
  },
  {
   "metadata": {
    "ExecuteTime": {
     "end_time": "2025-05-30T00:40:19.177679Z",
     "start_time": "2025-05-30T00:40:18.972300Z"
    }
   },
   "cell_type": "code",
   "source": "df.describe()",
   "id": "11122015b0d42293",
   "outputs": [
    {
     "data": {
      "text/plain": [
       "       district_code  time_block_code  age_group_code   day_of_week  \\\n",
       "count   1.603322e+06     1.603322e+06    1.603322e+06  1.603322e+06   \n",
       "mean    4.111411e+04     5.464615e+00    5.050107e+00  3.999974e+00   \n",
       "std     2.268238e+00     2.490763e+00    1.803883e+00  1.995954e+00   \n",
       "min     4.111100e+04     1.000000e+00    1.000000e+00  1.000000e+00   \n",
       "25%     4.111300e+04     3.000000e+00    4.000000e+00  2.000000e+00   \n",
       "50%     4.111500e+04     5.000000e+00    5.000000e+00  4.000000e+00   \n",
       "75%     4.111700e+04     8.000000e+00    6.000000e+00  6.000000e+00   \n",
       "max     4.111700e+04     1.000000e+01    1.100000e+01  7.000000e+00   \n",
       "\n",
       "       transaction_amount  transaction_count      avg_temp      max_temp  \\\n",
       "count        1.603322e+06       1.603322e+06  1.603322e+06  1.603322e+06   \n",
       "mean         1.773111e+05       1.976734e+01  1.407041e+01  1.897826e+01   \n",
       "std          4.587060e+05       3.464352e+01  1.073996e+01  1.081094e+01   \n",
       "min          0.000000e+00       2.000000e+00 -1.024200e+01 -7.687200e+00   \n",
       "25%          1.595700e+04       3.000000e+00  3.514100e+00  8.685690e+00   \n",
       "50%          5.194000e+04       8.000000e+00  1.584370e+01  2.152600e+01   \n",
       "75%          1.595068e+05       2.000000e+01  2.359820e+01  2.786330e+01   \n",
       "max          5.460398e+07       1.009000e+03  3.020880e+01  3.512770e+01   \n",
       "\n",
       "           min_temp  \n",
       "count  1.603322e+06  \n",
       "mean   9.162558e+00  \n",
       "std    1.092608e+01  \n",
       "min   -1.353520e+01  \n",
       "25%   -1.174090e+00  \n",
       "50%    9.902900e+00  \n",
       "75%    1.917180e+01  \n",
       "max    2.625530e+01  "
      ],
      "text/html": [
       "<div>\n",
       "<style scoped>\n",
       "    .dataframe tbody tr th:only-of-type {\n",
       "        vertical-align: middle;\n",
       "    }\n",
       "\n",
       "    .dataframe tbody tr th {\n",
       "        vertical-align: top;\n",
       "    }\n",
       "\n",
       "    .dataframe thead th {\n",
       "        text-align: right;\n",
       "    }\n",
       "</style>\n",
       "<table border=\"1\" class=\"dataframe\">\n",
       "  <thead>\n",
       "    <tr style=\"text-align: right;\">\n",
       "      <th></th>\n",
       "      <th>district_code</th>\n",
       "      <th>time_block_code</th>\n",
       "      <th>age_group_code</th>\n",
       "      <th>day_of_week</th>\n",
       "      <th>transaction_amount</th>\n",
       "      <th>transaction_count</th>\n",
       "      <th>avg_temp</th>\n",
       "      <th>max_temp</th>\n",
       "      <th>min_temp</th>\n",
       "    </tr>\n",
       "  </thead>\n",
       "  <tbody>\n",
       "    <tr>\n",
       "      <th>count</th>\n",
       "      <td>1.603322e+06</td>\n",
       "      <td>1.603322e+06</td>\n",
       "      <td>1.603322e+06</td>\n",
       "      <td>1.603322e+06</td>\n",
       "      <td>1.603322e+06</td>\n",
       "      <td>1.603322e+06</td>\n",
       "      <td>1.603322e+06</td>\n",
       "      <td>1.603322e+06</td>\n",
       "      <td>1.603322e+06</td>\n",
       "    </tr>\n",
       "    <tr>\n",
       "      <th>mean</th>\n",
       "      <td>4.111411e+04</td>\n",
       "      <td>5.464615e+00</td>\n",
       "      <td>5.050107e+00</td>\n",
       "      <td>3.999974e+00</td>\n",
       "      <td>1.773111e+05</td>\n",
       "      <td>1.976734e+01</td>\n",
       "      <td>1.407041e+01</td>\n",
       "      <td>1.897826e+01</td>\n",
       "      <td>9.162558e+00</td>\n",
       "    </tr>\n",
       "    <tr>\n",
       "      <th>std</th>\n",
       "      <td>2.268238e+00</td>\n",
       "      <td>2.490763e+00</td>\n",
       "      <td>1.803883e+00</td>\n",
       "      <td>1.995954e+00</td>\n",
       "      <td>4.587060e+05</td>\n",
       "      <td>3.464352e+01</td>\n",
       "      <td>1.073996e+01</td>\n",
       "      <td>1.081094e+01</td>\n",
       "      <td>1.092608e+01</td>\n",
       "    </tr>\n",
       "    <tr>\n",
       "      <th>min</th>\n",
       "      <td>4.111100e+04</td>\n",
       "      <td>1.000000e+00</td>\n",
       "      <td>1.000000e+00</td>\n",
       "      <td>1.000000e+00</td>\n",
       "      <td>0.000000e+00</td>\n",
       "      <td>2.000000e+00</td>\n",
       "      <td>-1.024200e+01</td>\n",
       "      <td>-7.687200e+00</td>\n",
       "      <td>-1.353520e+01</td>\n",
       "    </tr>\n",
       "    <tr>\n",
       "      <th>25%</th>\n",
       "      <td>4.111300e+04</td>\n",
       "      <td>3.000000e+00</td>\n",
       "      <td>4.000000e+00</td>\n",
       "      <td>2.000000e+00</td>\n",
       "      <td>1.595700e+04</td>\n",
       "      <td>3.000000e+00</td>\n",
       "      <td>3.514100e+00</td>\n",
       "      <td>8.685690e+00</td>\n",
       "      <td>-1.174090e+00</td>\n",
       "    </tr>\n",
       "    <tr>\n",
       "      <th>50%</th>\n",
       "      <td>4.111500e+04</td>\n",
       "      <td>5.000000e+00</td>\n",
       "      <td>5.000000e+00</td>\n",
       "      <td>4.000000e+00</td>\n",
       "      <td>5.194000e+04</td>\n",
       "      <td>8.000000e+00</td>\n",
       "      <td>1.584370e+01</td>\n",
       "      <td>2.152600e+01</td>\n",
       "      <td>9.902900e+00</td>\n",
       "    </tr>\n",
       "    <tr>\n",
       "      <th>75%</th>\n",
       "      <td>4.111700e+04</td>\n",
       "      <td>8.000000e+00</td>\n",
       "      <td>6.000000e+00</td>\n",
       "      <td>6.000000e+00</td>\n",
       "      <td>1.595068e+05</td>\n",
       "      <td>2.000000e+01</td>\n",
       "      <td>2.359820e+01</td>\n",
       "      <td>2.786330e+01</td>\n",
       "      <td>1.917180e+01</td>\n",
       "    </tr>\n",
       "    <tr>\n",
       "      <th>max</th>\n",
       "      <td>4.111700e+04</td>\n",
       "      <td>1.000000e+01</td>\n",
       "      <td>1.100000e+01</td>\n",
       "      <td>7.000000e+00</td>\n",
       "      <td>5.460398e+07</td>\n",
       "      <td>1.009000e+03</td>\n",
       "      <td>3.020880e+01</td>\n",
       "      <td>3.512770e+01</td>\n",
       "      <td>2.625530e+01</td>\n",
       "    </tr>\n",
       "  </tbody>\n",
       "</table>\n",
       "</div>"
      ]
     },
     "execution_count": 27,
     "metadata": {},
     "output_type": "execute_result"
    }
   ],
   "execution_count": 27
  },
  {
   "metadata": {
    "ExecuteTime": {
     "end_time": "2025-05-30T00:40:19.189515Z",
     "start_time": "2025-05-30T00:40:19.186929Z"
    }
   },
   "cell_type": "code",
   "source": "df.shape",
   "id": "26f7172f39aadfc4",
   "outputs": [
    {
     "data": {
      "text/plain": [
       "(1603322, 12)"
      ]
     },
     "execution_count": 28,
     "metadata": {},
     "output_type": "execute_result"
    }
   ],
   "execution_count": 28
  },
  {
   "metadata": {
    "ExecuteTime": {
     "end_time": "2025-05-30T00:40:19.419858Z",
     "start_time": "2025-05-30T00:40:19.211976Z"
    }
   },
   "cell_type": "code",
   "source": [
    "# 상관계수 계산\n",
    "correlation_vars = ['transaction_amount', 'transaction_count', 'avg_temp', 'max_temp', 'min_temp']\n",
    "correlation_matrix = df[correlation_vars].corr()\n",
    "\n",
    "# 상관계수 히트맵\n",
    "plt.figure(figsize=(10, 8))\n",
    "sns.heatmap(correlation_matrix, annot=True, cmap='coolwarm', center=0,\n",
    "            square=True, fmt='.3f')\n",
    "plt.title('변수간 상관관계 히트맵')\n",
    "plt.show()\n",
    "\n",
    "\n",
    "# 통계적 유의성 검정\n",
    "print(\"📈 통계적 유의성 검정\")\n",
    "temp_amount_corr, temp_amount_p = stats.pearsonr(df['avg_temp'], df['transaction_amount'])\n",
    "print(f\"평균기온-매출 상관계수: {temp_amount_corr:.4f} (p-value: {temp_amount_p:.6f})\")\n",
    "\n",
    "temp_count_corr, temp_count_p = stats.pearsonr(df['avg_temp'], df['transaction_count'])\n",
    "print(f\"평균기온-거래건수 상관계수: {temp_count_corr:.4f} (p-value: {temp_count_p:.6f})\")\n",
    "print()"
   ],
   "id": "d0273e619dd99952",
   "outputs": [
    {
     "data": {
      "text/plain": [
       "<Figure size 1000x800 with 2 Axes>"
      ],
      "image/png": "[encoded data removed]"
     },
     "metadata": {},
     "output_type": "display_data"
    },
    {
     "name": "stdout",
     "output_type": "stream",
     "text": [
      "📈 통계적 유의성 검정\n",
      "평균기온-매출 상관계수: 0.0064 (p-value: 0.000000)\n",
      "평균기온-거래건수 상관계수: 0.0351 (p-value: 0.000000)\n",
      "\n"
     ]
    }
   ],
   "execution_count": 29
  },
  {
   "metadata": {
    "ExecuteTime": {
     "end_time": "2025-05-30T00:40:19.484866Z",
     "start_time": "2025-05-30T00:40:19.438329Z"
    }
   },
   "cell_type": "code",
   "source": [
    "# 통계적 유의성 검정\n",
    "print(\"📈 통계적 유의성 검정\")\n",
    "temp_amount_corr, temp_amount_p = stats.pearsonr(df['avg_temp'], df['transaction_amount'])\n",
    "print(f\"평균기온-매출 상관계수: {temp_amount_corr:.4f} (p-value: {temp_amount_p:.6f})\")\n",
    "\n",
    "temp_count_corr, temp_count_p = stats.pearsonr(df['avg_temp'], df['transaction_count'])\n",
    "print(f\"평균기온-거래건수 상관계수: {temp_count_corr:.4f} (p-value: {temp_count_p:.6f})\")\n",
    "print()"
   ],
   "id": "1b1d967c60c2b96",
   "outputs": [
    {
     "name": "stdout",
     "output_type": "stream",
     "text": [
      "📈 통계적 유의성 검정\n",
      "평균기온-매출 상관계수: 0.0064 (p-value: 0.000000)\n",
      "평균기온-거래건수 상관계수: 0.0351 (p-value: 0.000000)\n",
      "\n"
     ]
    }
   ],
   "execution_count": 30
  },
  {
   "metadata": {
    "ExecuteTime": {
     "end_time": "2025-05-30T00:40:21.833376Z",
     "start_time": "2025-05-30T00:40:19.490658Z"
    }
   },
   "cell_type": "code",
   "source": [
    "plt.figure(figsize=(12, 5))\n",
    "for i, col in enumerate(['transaction_amount', 'transaction_count']):\n",
    "    plt.subplot(1, 2, i+1)\n",
    "    sns.boxplot(y=df[col])\n",
    "    plt.title(f'{col}의 이상치 탐지')\n",
    "plt.tight_layout()\n",
    "plt.show()"
   ],
   "id": "8466cf5d994532cc",
   "outputs": [
    {
     "data": {
      "text/plain": [
       "<Figure size 1200x500 with 2 Axes>"
      ],
      "image/png": "[encoded data removed]"
     },
     "metadata": {},
     "output_type": "display_data"
    }
   ],
   "execution_count": 31
  },
  {
   "metadata": {
    "ExecuteTime": {
     "end_time": "2025-05-30T00:40:21.842788Z",
     "start_time": "2025-05-30T00:40:21.840537Z"
    }
   },
   "cell_type": "code",
   "source": [
    "def remove_outliers_iqr(df, columns):\n",
    "    mask = pd.Series([True] * len(df))\n",
    "    for col in columns:\n",
    "        Q1 = df[col].quantile(0.25)\n",
    "        Q3 = df[col].quantile(0.75)\n",
    "        IQR = Q3 - Q1\n",
    "        lower_bound = Q1 - 1.5 * IQR\n",
    "        upper_bound = Q3 + 1.5 * IQR\n",
    "        mask &= df[col].between(lower_bound, upper_bound)\n",
    "    return df[mask]"
   ],
   "id": "e086d5a8201b4b16",
   "outputs": [],
   "execution_count": 32
  },
  {
   "metadata": {
    "ExecuteTime": {
     "end_time": "2025-05-30T00:40:22.026347Z",
     "start_time": "2025-05-30T00:40:21.854917Z"
    }
   },
   "cell_type": "code",
   "source": [
    "target_cols = ['transaction_amount', 'transaction_count']\n",
    "\n",
    "# 이상치 제거된 데이터프레임 생성\n",
    "df_no_outliers = remove_outliers_iqr(df, target_cols)"
   ],
   "id": "2320ab65ca850991",
   "outputs": [],
   "execution_count": 33
  },
  {
   "metadata": {
    "ExecuteTime": {
     "end_time": "2025-05-30T00:41:00.395960Z",
     "start_time": "2025-05-30T00:41:00.238891Z"
    }
   },
   "cell_type": "code",
   "source": [
    "correlation_vars = ['transaction_amount', 'transaction_count',\n",
    "                    'avg_temp', 'max_temp', 'min_temp']\n",
    "\n",
    "# 상관계수 계산\n",
    "correlation_matrix = df_no_outliers[correlation_vars].corr()\n",
    "\n",
    "# 히트맵 시각화\n",
    "plt.figure(figsize=(10, 8))\n",
    "sns.heatmap(correlation_matrix, annot=True, cmap='coolwarm', center=0,\n",
    "            square=True, fmt='.3f')\n",
    "plt.title('이상치 제거 후 변수간 상관관계 히트맵')\n",
    "plt.show()"
   ],
   "id": "b45b5637c4e62f3c",
   "outputs": [
    {
     "data": {
      "text/plain": [
       "<Figure size 1000x800 with 2 Axes>"
      ],
      "image/png": "[encoded data removed]"
     },
     "metadata": {},
     "output_type": "display_data"
    }
   ],
   "execution_count": 36
  },
  {
   "metadata": {
    "ExecuteTime": {
     "end_time": "2025-05-30T00:45:14.377642Z",
     "start_time": "2025-05-30T00:45:14.304545Z"
    }
   },
   "cell_type": "code",
   "source": "df.groupby('day_of_week')['transaction_amount'].describe()",
   "id": "8a43355e5a81af37",
   "outputs": [
    {
     "data": {
      "text/plain": [
       "                count           mean            std   min       25%      50%  \\\n",
       "day_of_week                                                                    \n",
       "1            230486.0  149324.463061  376978.947870  78.0  14862.00  46413.5   \n",
       "2            226344.0  152953.161648  363667.786231   0.0  15235.75  48032.5   \n",
       "3            227411.0  166518.077138  447447.609970  47.0  15629.00  50063.0   \n",
       "4            228312.0  159682.488485  392710.464240  14.0  15488.00  49110.5   \n",
       "5            233617.0  170925.519829  395002.485975  47.0  16525.00  53159.0   \n",
       "6            233557.0  230450.491255  591265.036788  94.0  18461.00  63406.0   \n",
       "7            223595.0  210960.372965  577198.120049  94.0  16389.00  56300.0   \n",
       "\n",
       "                   75%         max  \n",
       "day_of_week                         \n",
       "1            140346.25  36056981.0  \n",
       "2            144795.00  30926732.0  \n",
       "3            151627.00  54603977.0  \n",
       "4            148373.00  33031231.0  \n",
       "5            161364.00  23394538.0  \n",
       "6            197231.00  17697419.0  \n",
       "7            178911.50  20785693.0  "
      ],
      "text/html": [
       "<div>\n",
       "<style scoped>\n",
       "    .dataframe tbody tr th:only-of-type {\n",
       "        vertical-align: middle;\n",
       "    }\n",
       "\n",
       "    .dataframe tbody tr th {\n",
       "        vertical-align: top;\n",
       "    }\n",
       "\n",
       "    .dataframe thead th {\n",
       "        text-align: right;\n",
       "    }\n",
       "</style>\n",
       "<table border=\"1\" class=\"dataframe\">\n",
       "  <thead>\n",
       "    <tr style=\"text-align: right;\">\n",
       "      <th></th>\n",
       "      <th>count</th>\n",
       "      <th>mean</th>\n",
       "      <th>std</th>\n",
       "      <th>min</th>\n",
       "      <th>25%</th>\n",
       "      <th>50%</th>\n",
       "      <th>75%</th>\n",
       "      <th>max</th>\n",
       "    </tr>\n",
       "    <tr>\n",
       "      <th>day_of_week</th>\n",
       "      <th></th>\n",
       "      <th></th>\n",
       "      <th></th>\n",
       "      <th></th>\n",
       "      <th></th>\n",
       "      <th></th>\n",
       "      <th></th>\n",
       "      <th></th>\n",
       "    </tr>\n",
       "  </thead>\n",
       "  <tbody>\n",
       "    <tr>\n",
       "      <th>1</th>\n",
       "      <td>230486.0</td>\n",
       "      <td>149324.463061</td>\n",
       "      <td>376978.947870</td>\n",
       "      <td>78.0</td>\n",
       "      <td>14862.00</td>\n",
       "      <td>46413.5</td>\n",
       "      <td>140346.25</td>\n",
       "      <td>36056981.0</td>\n",
       "    </tr>\n",
       "    <tr>\n",
       "      <th>2</th>\n",
       "      <td>226344.0</td>\n",
       "      <td>152953.161648</td>\n",
       "      <td>363667.786231</td>\n",
       "      <td>0.0</td>\n",
       "      <td>15235.75</td>\n",
       "      <td>48032.5</td>\n",
       "      <td>144795.00</td>\n",
       "      <td>30926732.0</td>\n",
       "    </tr>\n",
       "    <tr>\n",
       "      <th>3</th>\n",
       "      <td>227411.0</td>\n",
       "      <td>166518.077138</td>\n",
       "      <td>447447.609970</td>\n",
       "      <td>47.0</td>\n",
       "      <td>15629.00</td>\n",
       "      <td>50063.0</td>\n",
       "      <td>151627.00</td>\n",
       "      <td>54603977.0</td>\n",
       "    </tr>\n",
       "    <tr>\n",
       "      <th>4</th>\n",
       "      <td>228312.0</td>\n",
       "      <td>159682.488485</td>\n",
       "      <td>392710.464240</td>\n",
       "      <td>14.0</td>\n",
       "      <td>15488.00</td>\n",
       "      <td>49110.5</td>\n",
       "      <td>148373.00</td>\n",
       "      <td>33031231.0</td>\n",
       "    </tr>\n",
       "    <tr>\n",
       "      <th>5</th>\n",
       "      <td>233617.0</td>\n",
       "      <td>170925.519829</td>\n",
       "      <td>395002.485975</td>\n",
       "      <td>47.0</td>\n",
       "      <td>16525.00</td>\n",
       "      <td>53159.0</td>\n",
       "      <td>161364.00</td>\n",
       "      <td>23394538.0</td>\n",
       "    </tr>\n",
       "    <tr>\n",
       "      <th>6</th>\n",
       "      <td>233557.0</td>\n",
       "      <td>230450.491255</td>\n",
       "      <td>591265.036788</td>\n",
       "      <td>94.0</td>\n",
       "      <td>18461.00</td>\n",
       "      <td>63406.0</td>\n",
       "      <td>197231.00</td>\n",
       "      <td>17697419.0</td>\n",
       "    </tr>\n",
       "    <tr>\n",
       "      <th>7</th>\n",
       "      <td>223595.0</td>\n",
       "      <td>210960.372965</td>\n",
       "      <td>577198.120049</td>\n",
       "      <td>94.0</td>\n",
       "      <td>16389.00</td>\n",
       "      <td>56300.0</td>\n",
       "      <td>178911.50</td>\n",
       "      <td>20785693.0</td>\n",
       "    </tr>\n",
       "  </tbody>\n",
       "</table>\n",
       "</div>"
      ]
     },
     "execution_count": 37,
     "metadata": {},
     "output_type": "execute_result"
    }
   ],
   "execution_count": 37
  },
  {
   "metadata": {},
   "cell_type": "markdown",
   "source": "## 요일(X:day_of_week)에 따른 평균 커피 매출(y: amt) 은 영향이 없다.",
   "id": "8fbcdfac884c3ad7"
  },
  {
   "metadata": {
    "ExecuteTime": {
     "end_time": "2025-05-30T02:40:19.563209Z",
     "start_time": "2025-05-30T02:40:19.438153Z"
    }
   },
   "cell_type": "code",
   "source": [
    "print(\"=== 요일별 매출 현황 ===\")\n",
    "daily_stats = df.groupby('day_of_week')['transaction_amount'].agg([\n",
    "    'count', 'mean', 'median', 'std', 'min', 'max'\n",
    "])\n",
    "print(daily_stats)\n",
    "\n",
    "# 실질적 차이 크기\n",
    "daily_mean = df.groupby('day_of_week')['transaction_amount'].mean()\n",
    "print(f\"\\n최고 vs 최저 매출 차이: {daily_mean.max() - daily_mean.min():,.0f}원\")\n",
    "print(f\"상대적 차이: {(daily_mean.max() / daily_mean.min() - 1) * 100:.1f}%\")"
   ],
   "id": "ab7045ac647e9eba",
   "outputs": [
    {
     "name": "stdout",
     "output_type": "stream",
     "text": [
      "=== 요일별 매출 현황 ===\n",
      "              count           mean   median            std  min       max\n",
      "day_of_week                                                              \n",
      "1            230486  149324.463061  46413.5  376978.947870   78  36056981\n",
      "2            226344  152953.161648  48032.5  363667.786231    0  30926732\n",
      "3            227411  166518.077138  50063.0  447447.609970   47  54603977\n",
      "4            228312  159682.488485  49110.5  392710.464240   14  33031231\n",
      "5            233617  170925.519829  53159.0  395002.485975   47  23394538\n",
      "6            233557  230450.491255  63406.0  591265.036788   94  17697419\n",
      "7            223595  210960.372965  56300.0  577198.120049   94  20785693\n",
      "\n",
      "최고 vs 최저 매출 차이: 81,126원\n",
      "상대적 차이: 54.3%\n"
     ]
    }
   ],
   "execution_count": 74
  },
  {
   "metadata": {
    "ExecuteTime": {
     "end_time": "2025-05-30T02:44:56.079030Z",
     "start_time": "2025-05-30T02:44:55.937032Z"
    }
   },
   "cell_type": "code",
   "source": [
    "f_stat, p_value = stats.f_oneway(*[group['transaction_amount'].values\n",
    "                                   for name, group in df.groupby('day_of_week')])\n",
    "print(f'F-statistic: {f_stat}, p-value: {p_value}')"
   ],
   "id": "f47f17fab48f7ddc",
   "outputs": [
    {
     "name": "stdout",
     "output_type": "stream",
     "text": [
      "F-statistic: 1061.2332676886479, p-value: 0.0\n"
     ]
    }
   ],
   "execution_count": 78
  },
  {
   "metadata": {
    "ExecuteTime": {
     "end_time": "2025-05-30T02:44:10.748489Z",
     "start_time": "2025-05-30T02:44:10.554690Z"
    }
   },
   "cell_type": "code",
   "source": [
    "groups = [group['transaction_amount'].values for name, group in df.groupby('day_of_week')]\n",
    "day_names = ['월', '화', '수', '목', '금', '토', '일']\n",
    "\n",
    "# 모든 요일 쌍에 대해 t-검정\n",
    "for i, j in combinations(range(7), 2):\n",
    "    t_stat, p_val = stats.ttest_ind(groups[i], groups[j])\n",
    "    if p_val < 0.05:\n",
    "        print(f'{day_names[i]}요일 vs {day_names[j]}요일: 유의한 차이 (p={p_val:.6f})')"
   ],
   "id": "fefaa6cc3522bbb5",
   "outputs": [
    {
     "name": "stdout",
     "output_type": "stream",
     "text": [
      "월요일 vs 화요일: 유의한 차이 (p=0.000932)\n",
      "월요일 vs 수요일: 유의한 차이 (p=0.000000)\n",
      "월요일 vs 목요일: 유의한 차이 (p=0.000000)\n",
      "월요일 vs 금요일: 유의한 차이 (p=0.000000)\n",
      "월요일 vs 토요일: 유의한 차이 (p=0.000000)\n",
      "월요일 vs 일요일: 유의한 차이 (p=0.000000)\n",
      "화요일 vs 수요일: 유의한 차이 (p=0.000000)\n",
      "화요일 vs 목요일: 유의한 차이 (p=0.000000)\n",
      "화요일 vs 금요일: 유의한 차이 (p=0.000000)\n",
      "화요일 vs 토요일: 유의한 차이 (p=0.000000)\n",
      "화요일 vs 일요일: 유의한 차이 (p=0.000000)\n",
      "수요일 vs 목요일: 유의한 차이 (p=0.000000)\n",
      "수요일 vs 금요일: 유의한 차이 (p=0.000388)\n",
      "수요일 vs 토요일: 유의한 차이 (p=0.000000)\n",
      "수요일 vs 일요일: 유의한 차이 (p=0.000000)\n",
      "목요일 vs 금요일: 유의한 차이 (p=0.000000)\n",
      "목요일 vs 토요일: 유의한 차이 (p=0.000000)\n",
      "목요일 vs 일요일: 유의한 차이 (p=0.000000)\n",
      "금요일 vs 토요일: 유의한 차이 (p=0.000000)\n",
      "금요일 vs 일요일: 유의한 차이 (p=0.000000)\n",
      "토요일 vs 일요일: 유의한 차이 (p=0.000000)\n"
     ]
    }
   ],
   "execution_count": 77
  },
  {
   "metadata": {
    "ExecuteTime": {
     "end_time": "2025-05-30T01:56:25.760121Z",
     "start_time": "2025-05-30T01:56:24.435868Z"
    }
   },
   "cell_type": "code",
   "source": [
    "# 1-1. 요일별 매출 분포 박스플롯\n",
    "plt.figure(figsize=(12, 6))\n",
    "plt.subplot(1, 2, 1)\n",
    "sns.boxplot(data=df, x='day_of_week', y='transaction_amount')\n",
    "plt.title('요일별 매출 분포')\n",
    "plt.xticks(range(7), ['월', '화', '수', '목', '금', '토', '일'])\n",
    "\n",
    "# 1-2. 요일별 평균 매출 막대그래프\n",
    "plt.subplot(1, 2, 2)\n",
    "daily_avg = df.groupby('day_of_week')['transaction_amount'].mean()\n",
    "daily_avg.plot(kind='bar', color=['red' if i < 5 else 'blue' for i in range(7)])\n",
    "plt.title('요일별 평균 매출')\n",
    "plt.xticks(range(7), ['월', '화', '수', '목', '금', '토', '일'], rotation=0)\n",
    "plt.ylabel('평균 매출 (원)')\n",
    "plt.tight_layout()\n",
    "plt.show()"
   ],
   "id": "1d93a88a53260f37",
   "outputs": [
    {
     "data": {
      "text/plain": [
       "<Figure size 1200x600 with 2 Axes>"
      ],
      "image/png": "[encoded data removed]"
     },
     "metadata": {},
     "output_type": "display_data"
    }
   ],
   "execution_count": 71
  },
  {
   "metadata": {
    "ExecuteTime": {
     "end_time": "2025-05-30T02:46:06.814679Z",
     "start_time": "2025-05-30T02:46:06.704312Z"
    }
   },
   "cell_type": "code",
   "source": [
    "daily_median = df.groupby('day_of_week')['transaction_amount'].median()\n",
    "daily_mean = df.groupby('day_of_week')['transaction_amount'].mean()\n",
    "\n",
    "print(\"평균 vs 중앙값 비교:\")\n",
    "for day in range(1, 8):\n",
    "    mean_val = daily_mean[day]\n",
    "    median_val = daily_median[day]\n",
    "    diff_pct = (mean_val - median_val) / median_val * 100\n",
    "    print(f\"요일{day}: 평균 {mean_val:,.0f}원, 중앙값 {median_val:,.0f}원 (차이: {diff_pct:.1f}%)\")\n",
    "\n",
    "# 2변동계수\n",
    "daily_cv = df.groupby('day_of_week')['transaction_amount'].agg(['mean', 'std'])\n",
    "daily_cv['cv'] = daily_cv['std'] / daily_cv['mean']\n",
    "print(f\"\\n변동계수 (낮을수록 안정적):\")\n",
    "print(daily_cv['cv'].sort_values())"
   ],
   "id": "4638d051df676236",
   "outputs": [
    {
     "name": "stdout",
     "output_type": "stream",
     "text": [
      "평균 vs 중앙값 비교:\n",
      "요일1: 평균 149,324원, 중앙값 46,414원 (차이: 221.7%)\n",
      "요일2: 평균 152,953원, 중앙값 48,032원 (차이: 218.4%)\n",
      "요일3: 평균 166,518원, 중앙값 50,063원 (차이: 232.6%)\n",
      "요일4: 평균 159,682원, 중앙값 49,110원 (차이: 225.1%)\n",
      "요일5: 평균 170,926원, 중앙값 53,159원 (차이: 221.5%)\n",
      "요일6: 평균 230,450원, 중앙값 63,406원 (차이: 263.5%)\n",
      "요일7: 평균 210,960원, 중앙값 56,300원 (차이: 274.7%)\n",
      "\n",
      "변동계수 (낮을수록 안정적):\n",
      "day_of_week\n",
      "5    2.310963\n",
      "2    2.377642\n",
      "4    2.459321\n",
      "1    2.524563\n",
      "6    2.565692\n",
      "3    2.687081\n",
      "7    2.736050\n",
      "Name: cv, dtype: float64\n"
     ]
    }
   ],
   "execution_count": 80
  }
 ],
 "metadata": {
  "kernelspec": {
   "display_name": "Python 3",
   "language": "python",
   "name": "python3"
  },
  "language_info": {
   "codemirror_mode": {
    "name": "ipython",
    "version": 2
   },
   "file_extension": ".py",
   "mimetype": "text/x-python",
   "name": "python",
   "nbconvert_exporter": "python",
   "pygments_lexer": "ipython2",
   "version": "2.7.6"
  }
 },
 "nbformat": 4,
 "nbformat_minor": 5
}
