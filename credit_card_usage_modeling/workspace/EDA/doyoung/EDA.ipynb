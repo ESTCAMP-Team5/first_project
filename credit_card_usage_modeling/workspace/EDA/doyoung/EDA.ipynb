{
 "cells": [
  {
   "metadata": {
    "collapsed": true,
    "ExecuteTime": {
     "end_time": "2025-05-29T08:38:40.221414Z",
     "start_time": "2025-05-29T08:38:40.055188Z"
    }
   },
   "cell_type": "code",
   "source": [
    "import os\n",
    "import pandas as pd\n",
    "import numpy as np\n",
    "import mysql.connector\n",
    "from dotenv import load_dotenv\n",
    "import seaborn as sns\n",
    "from scipy import stats\n",
    "from statsmodels.tsa.seasonal import seasonal_decompose"
   ],
   "id": "initial_id",
   "outputs": [],
   "execution_count": 60
  },
  {
   "metadata": {
    "ExecuteTime": {
     "end_time": "2025-05-29T08:38:40.229487Z",
     "start_time": "2025-05-29T08:38:40.226323Z"
    }
   },
   "cell_type": "code",
   "source": [
    "import matplotlib.pyplot as plt\n",
    "plt.rc('font', family='AppleGothic')\n",
    "plt.rcParams['axes.unicode_minus'] = False"
   ],
   "id": "96a9999538fbaf37",
   "outputs": [],
   "execution_count": 61
  },
  {
   "metadata": {
    "ExecuteTime": {
     "end_time": "2025-05-29T08:38:40.253745Z",
     "start_time": "2025-05-29T08:38:40.239104Z"
    }
   },
   "cell_type": "code",
   "source": [
    "# DB 연결\n",
    "load_dotenv()\n",
    "\n",
    "conn = mysql.connector.connect(\n",
    "    host=os.getenv(\"DB_HOST\"),\n",
    "    user=os.getenv(\"DB_USER\"),\n",
    "    password=os.getenv(\"DB_PASSWORD\"),\n",
    "    database=\"suwon_business\"\n",
    ")\n",
    "\n",
    "cursor = conn.cursor()"
   ],
   "id": "122f30103a0abf7a",
   "outputs": [],
   "execution_count": 62
  },
  {
   "metadata": {
    "ExecuteTime": {
     "end_time": "2025-05-29T08:38:45.647261Z",
     "start_time": "2025-05-29T08:38:40.262250Z"
    }
   },
   "cell_type": "code",
   "source": [
    "# 쿼리 정의\n",
    "query = \"\"\"\n",
    "SELECT\n",
    "    t.transaction_date,\n",
    "    t.district_code,\n",
    "    d.name AS district_name,\n",
    "    t.time_block_code,\n",
    "    t.gender,\n",
    "    t.age_group_code,\n",
    "    t.day_of_week,\n",
    "    t.transaction_amount,\n",
    "    t.transaction_count,\n",
    "    w.avg_temp,\n",
    "    w.max_temp,\n",
    "    w.min_temp\n",
    "FROM card_transaction t\n",
    "JOIN district d ON t.district_code = d.district_id\n",
    "JOIN weather w ON t.transaction_date = w.weather_date AND t.district_code = w.district_id\n",
    "\"\"\"\n",
    "\n",
    "df = pd.read_sql(query, conn)\n",
    "conn.close()\n",
    "\n",
    "df"
   ],
   "id": "5d114a4fc34dc279",
   "outputs": [
    {
     "name": "stderr",
     "output_type": "stream",
     "text": [
      "/var/folders/36/pdpmp_4s2wv687klck6zglrm0000gn/T/ipykernel_60962/260202010.py:21: UserWarning: pandas only supports SQLAlchemy connectable (engine/connection) or database string URI or sqlite3 DBAPI2 connection. Other DBAPI2 objects are not tested. Please consider using SQLAlchemy.\n",
      "  df = pd.read_sql(query, conn)\n"
     ]
    },
    {
     "data": {
      "text/plain": [
       "        transaction_date  district_code district_name  time_block_code gender  \\\n",
       "0             2024-08-01          41111           장안구                1      F   \n",
       "1             2024-08-01          41111           장안구                1      M   \n",
       "2             2024-08-01          41111           장안구                1      M   \n",
       "3             2024-08-01          41111           장안구                1      M   \n",
       "4             2024-08-01          41111           장안구                1      M   \n",
       "...                  ...            ...           ...              ...    ...   \n",
       "1603317       2025-03-31          41117           영통구               10      F   \n",
       "1603318       2025-03-31          41117           영통구               10      F   \n",
       "1603319       2025-03-31          41117           영통구               10      M   \n",
       "1603320       2025-03-31          41117           영통구               10      M   \n",
       "1603321       2025-03-31          41117           영통구               10      M   \n",
       "\n",
       "         age_group_code  day_of_week  transaction_amount  transaction_count  \\\n",
       "0                     3            4               19556                  3   \n",
       "1                     2            4                4010                  2   \n",
       "2                     3            4               14393                  3   \n",
       "3                     4            4                 876                  2   \n",
       "4                     5            4                 939                  2   \n",
       "...                 ...          ...                 ...                ...   \n",
       "1603317               4            1               17503                  2   \n",
       "1603318               6            1              102472                  2   \n",
       "1603319               3            1                3442                  2   \n",
       "1603320               5            1              135210                  3   \n",
       "1603321               6            1                5163                  2   \n",
       "\n",
       "         avg_temp  max_temp   min_temp  \n",
       "0         29.2290   33.5963  24.861700  \n",
       "1         29.2290   33.5963  24.861700  \n",
       "2         29.2290   33.5963  24.861700  \n",
       "3         29.2290   33.5963  24.861700  \n",
       "4         29.2290   33.5963  24.861700  \n",
       "...           ...       ...        ...  \n",
       "1603317    8.0829   15.6633   0.502481  \n",
       "1603318    8.0829   15.6633   0.502481  \n",
       "1603319    8.0829   15.6633   0.502481  \n",
       "1603320    8.0829   15.6633   0.502481  \n",
       "1603321    8.0829   15.6633   0.502481  \n",
       "\n",
       "[1603322 rows x 12 columns]"
      ],
      "text/html": [
       "<div>\n",
       "<style scoped>\n",
       "    .dataframe tbody tr th:only-of-type {\n",
       "        vertical-align: middle;\n",
       "    }\n",
       "\n",
       "    .dataframe tbody tr th {\n",
       "        vertical-align: top;\n",
       "    }\n",
       "\n",
       "    .dataframe thead th {\n",
       "        text-align: right;\n",
       "    }\n",
       "</style>\n",
       "<table border=\"1\" class=\"dataframe\">\n",
       "  <thead>\n",
       "    <tr style=\"text-align: right;\">\n",
       "      <th></th>\n",
       "      <th>transaction_date</th>\n",
       "      <th>district_code</th>\n",
       "      <th>district_name</th>\n",
       "      <th>time_block_code</th>\n",
       "      <th>gender</th>\n",
       "      <th>age_group_code</th>\n",
       "      <th>day_of_week</th>\n",
       "      <th>transaction_amount</th>\n",
       "      <th>transaction_count</th>\n",
       "      <th>avg_temp</th>\n",
       "      <th>max_temp</th>\n",
       "      <th>min_temp</th>\n",
       "    </tr>\n",
       "  </thead>\n",
       "  <tbody>\n",
       "    <tr>\n",
       "      <th>0</th>\n",
       "      <td>2024-08-01</td>\n",
       "      <td>41111</td>\n",
       "      <td>장안구</td>\n",
       "      <td>1</td>\n",
       "      <td>F</td>\n",
       "      <td>3</td>\n",
       "      <td>4</td>\n",
       "      <td>19556</td>\n",
       "      <td>3</td>\n",
       "      <td>29.2290</td>\n",
       "      <td>33.5963</td>\n",
       "      <td>24.861700</td>\n",
       "    </tr>\n",
       "    <tr>\n",
       "      <th>1</th>\n",
       "      <td>2024-08-01</td>\n",
       "      <td>41111</td>\n",
       "      <td>장안구</td>\n",
       "      <td>1</td>\n",
       "      <td>M</td>\n",
       "      <td>2</td>\n",
       "      <td>4</td>\n",
       "      <td>4010</td>\n",
       "      <td>2</td>\n",
       "      <td>29.2290</td>\n",
       "      <td>33.5963</td>\n",
       "      <td>24.861700</td>\n",
       "    </tr>\n",
       "    <tr>\n",
       "      <th>2</th>\n",
       "      <td>2024-08-01</td>\n",
       "      <td>41111</td>\n",
       "      <td>장안구</td>\n",
       "      <td>1</td>\n",
       "      <td>M</td>\n",
       "      <td>3</td>\n",
       "      <td>4</td>\n",
       "      <td>14393</td>\n",
       "      <td>3</td>\n",
       "      <td>29.2290</td>\n",
       "      <td>33.5963</td>\n",
       "      <td>24.861700</td>\n",
       "    </tr>\n",
       "    <tr>\n",
       "      <th>3</th>\n",
       "      <td>2024-08-01</td>\n",
       "      <td>41111</td>\n",
       "      <td>장안구</td>\n",
       "      <td>1</td>\n",
       "      <td>M</td>\n",
       "      <td>4</td>\n",
       "      <td>4</td>\n",
       "      <td>876</td>\n",
       "      <td>2</td>\n",
       "      <td>29.2290</td>\n",
       "      <td>33.5963</td>\n",
       "      <td>24.861700</td>\n",
       "    </tr>\n",
       "    <tr>\n",
       "      <th>4</th>\n",
       "      <td>2024-08-01</td>\n",
       "      <td>41111</td>\n",
       "      <td>장안구</td>\n",
       "      <td>1</td>\n",
       "      <td>M</td>\n",
       "      <td>5</td>\n",
       "      <td>4</td>\n",
       "      <td>939</td>\n",
       "      <td>2</td>\n",
       "      <td>29.2290</td>\n",
       "      <td>33.5963</td>\n",
       "      <td>24.861700</td>\n",
       "    </tr>\n",
       "    <tr>\n",
       "      <th>...</th>\n",
       "      <td>...</td>\n",
       "      <td>...</td>\n",
       "      <td>...</td>\n",
       "      <td>...</td>\n",
       "      <td>...</td>\n",
       "      <td>...</td>\n",
       "      <td>...</td>\n",
       "      <td>...</td>\n",
       "      <td>...</td>\n",
       "      <td>...</td>\n",
       "      <td>...</td>\n",
       "      <td>...</td>\n",
       "    </tr>\n",
       "    <tr>\n",
       "      <th>1603317</th>\n",
       "      <td>2025-03-31</td>\n",
       "      <td>41117</td>\n",
       "      <td>영통구</td>\n",
       "      <td>10</td>\n",
       "      <td>F</td>\n",
       "      <td>4</td>\n",
       "      <td>1</td>\n",
       "      <td>17503</td>\n",
       "      <td>2</td>\n",
       "      <td>8.0829</td>\n",
       "      <td>15.6633</td>\n",
       "      <td>0.502481</td>\n",
       "    </tr>\n",
       "    <tr>\n",
       "      <th>1603318</th>\n",
       "      <td>2025-03-31</td>\n",
       "      <td>41117</td>\n",
       "      <td>영통구</td>\n",
       "      <td>10</td>\n",
       "      <td>F</td>\n",
       "      <td>6</td>\n",
       "      <td>1</td>\n",
       "      <td>102472</td>\n",
       "      <td>2</td>\n",
       "      <td>8.0829</td>\n",
       "      <td>15.6633</td>\n",
       "      <td>0.502481</td>\n",
       "    </tr>\n",
       "    <tr>\n",
       "      <th>1603319</th>\n",
       "      <td>2025-03-31</td>\n",
       "      <td>41117</td>\n",
       "      <td>영통구</td>\n",
       "      <td>10</td>\n",
       "      <td>M</td>\n",
       "      <td>3</td>\n",
       "      <td>1</td>\n",
       "      <td>3442</td>\n",
       "      <td>2</td>\n",
       "      <td>8.0829</td>\n",
       "      <td>15.6633</td>\n",
       "      <td>0.502481</td>\n",
       "    </tr>\n",
       "    <tr>\n",
       "      <th>1603320</th>\n",
       "      <td>2025-03-31</td>\n",
       "      <td>41117</td>\n",
       "      <td>영통구</td>\n",
       "      <td>10</td>\n",
       "      <td>M</td>\n",
       "      <td>5</td>\n",
       "      <td>1</td>\n",
       "      <td>135210</td>\n",
       "      <td>3</td>\n",
       "      <td>8.0829</td>\n",
       "      <td>15.6633</td>\n",
       "      <td>0.502481</td>\n",
       "    </tr>\n",
       "    <tr>\n",
       "      <th>1603321</th>\n",
       "      <td>2025-03-31</td>\n",
       "      <td>41117</td>\n",
       "      <td>영통구</td>\n",
       "      <td>10</td>\n",
       "      <td>M</td>\n",
       "      <td>6</td>\n",
       "      <td>1</td>\n",
       "      <td>5163</td>\n",
       "      <td>2</td>\n",
       "      <td>8.0829</td>\n",
       "      <td>15.6633</td>\n",
       "      <td>0.502481</td>\n",
       "    </tr>\n",
       "  </tbody>\n",
       "</table>\n",
       "<p>1603322 rows × 12 columns</p>\n",
       "</div>"
      ]
     },
     "execution_count": 63,
     "metadata": {},
     "output_type": "execute_result"
    }
   ],
   "execution_count": 63
  },
  {
   "metadata": {
    "ExecuteTime": {
     "end_time": "2025-05-29T08:38:45.661079Z",
     "start_time": "2025-05-29T08:38:45.657811Z"
    }
   },
   "cell_type": "code",
   "source": "df.columns",
   "id": "3ffc5522122202e5",
   "outputs": [
    {
     "data": {
      "text/plain": [
       "Index(['transaction_date', 'district_code', 'district_name', 'time_block_code',\n",
       "       'gender', 'age_group_code', 'day_of_week', 'transaction_amount',\n",
       "       'transaction_count', 'avg_temp', 'max_temp', 'min_temp'],\n",
       "      dtype='object')"
      ]
     },
     "execution_count": 64,
     "metadata": {},
     "output_type": "execute_result"
    }
   ],
   "execution_count": 64
  },
  {
   "metadata": {
    "ExecuteTime": {
     "end_time": "2025-05-29T08:38:45.858275Z",
     "start_time": "2025-05-29T08:38:45.677520Z"
    }
   },
   "cell_type": "code",
   "source": "df.count()",
   "id": "ca36ca8999f24de4",
   "outputs": [
    {
     "data": {
      "text/plain": [
       "transaction_date      1603322\n",
       "district_code         1603322\n",
       "district_name         1603322\n",
       "time_block_code       1603322\n",
       "gender                1603322\n",
       "age_group_code        1603322\n",
       "day_of_week           1603322\n",
       "transaction_amount    1603322\n",
       "transaction_count     1603322\n",
       "avg_temp              1603322\n",
       "max_temp              1603322\n",
       "min_temp              1603322\n",
       "dtype: int64"
      ]
     },
     "execution_count": 65,
     "metadata": {},
     "output_type": "execute_result"
    }
   ],
   "execution_count": 65
  },
  {
   "metadata": {
    "ExecuteTime": {
     "end_time": "2025-05-29T08:38:45.879768Z",
     "start_time": "2025-05-29T08:38:45.875240Z"
    }
   },
   "cell_type": "code",
   "source": "df.info",
   "id": "8ff1e58d519cad17",
   "outputs": [
    {
     "data": {
      "text/plain": [
       "<bound method DataFrame.info of         transaction_date  district_code district_name  time_block_code gender  \\\n",
       "0             2024-08-01          41111           장안구                1      F   \n",
       "1             2024-08-01          41111           장안구                1      M   \n",
       "2             2024-08-01          41111           장안구                1      M   \n",
       "3             2024-08-01          41111           장안구                1      M   \n",
       "4             2024-08-01          41111           장안구                1      M   \n",
       "...                  ...            ...           ...              ...    ...   \n",
       "1603317       2025-03-31          41117           영통구               10      F   \n",
       "1603318       2025-03-31          41117           영통구               10      F   \n",
       "1603319       2025-03-31          41117           영통구               10      M   \n",
       "1603320       2025-03-31          41117           영통구               10      M   \n",
       "1603321       2025-03-31          41117           영통구               10      M   \n",
       "\n",
       "         age_group_code  day_of_week  transaction_amount  transaction_count  \\\n",
       "0                     3            4               19556                  3   \n",
       "1                     2            4                4010                  2   \n",
       "2                     3            4               14393                  3   \n",
       "3                     4            4                 876                  2   \n",
       "4                     5            4                 939                  2   \n",
       "...                 ...          ...                 ...                ...   \n",
       "1603317               4            1               17503                  2   \n",
       "1603318               6            1              102472                  2   \n",
       "1603319               3            1                3442                  2   \n",
       "1603320               5            1              135210                  3   \n",
       "1603321               6            1                5163                  2   \n",
       "\n",
       "         avg_temp  max_temp   min_temp  \n",
       "0         29.2290   33.5963  24.861700  \n",
       "1         29.2290   33.5963  24.861700  \n",
       "2         29.2290   33.5963  24.861700  \n",
       "3         29.2290   33.5963  24.861700  \n",
       "4         29.2290   33.5963  24.861700  \n",
       "...           ...       ...        ...  \n",
       "1603317    8.0829   15.6633   0.502481  \n",
       "1603318    8.0829   15.6633   0.502481  \n",
       "1603319    8.0829   15.6633   0.502481  \n",
       "1603320    8.0829   15.6633   0.502481  \n",
       "1603321    8.0829   15.6633   0.502481  \n",
       "\n",
       "[1603322 rows x 12 columns]>"
      ]
     },
     "execution_count": 66,
     "metadata": {},
     "output_type": "execute_result"
    }
   ],
   "execution_count": 66
  },
  {
   "metadata": {
    "ExecuteTime": {
     "end_time": "2025-05-29T08:38:46.059885Z",
     "start_time": "2025-05-29T08:38:45.896521Z"
    }
   },
   "cell_type": "code",
   "source": "df.isnull().mean().sort_values(ascending=False)",
   "id": "8feaa2371ad8f361",
   "outputs": [
    {
     "data": {
      "text/plain": [
       "transaction_date      0.0\n",
       "district_code         0.0\n",
       "district_name         0.0\n",
       "time_block_code       0.0\n",
       "gender                0.0\n",
       "age_group_code        0.0\n",
       "day_of_week           0.0\n",
       "transaction_amount    0.0\n",
       "transaction_count     0.0\n",
       "avg_temp              0.0\n",
       "max_temp              0.0\n",
       "min_temp              0.0\n",
       "dtype: float64"
      ]
     },
     "execution_count": 67,
     "metadata": {},
     "output_type": "execute_result"
    }
   ],
   "execution_count": 67
  },
  {
   "metadata": {
    "ExecuteTime": {
     "end_time": "2025-05-29T08:38:46.285392Z",
     "start_time": "2025-05-29T08:38:46.067550Z"
    }
   },
   "cell_type": "code",
   "source": "df.describe()",
   "id": "11122015b0d42293",
   "outputs": [
    {
     "data": {
      "text/plain": [
       "       district_code  time_block_code  age_group_code   day_of_week  \\\n",
       "count   1.603322e+06     1.603322e+06    1.603322e+06  1.603322e+06   \n",
       "mean    4.111411e+04     5.464615e+00    5.050107e+00  3.999974e+00   \n",
       "std     2.268238e+00     2.490763e+00    1.803883e+00  1.995954e+00   \n",
       "min     4.111100e+04     1.000000e+00    1.000000e+00  1.000000e+00   \n",
       "25%     4.111300e+04     3.000000e+00    4.000000e+00  2.000000e+00   \n",
       "50%     4.111500e+04     5.000000e+00    5.000000e+00  4.000000e+00   \n",
       "75%     4.111700e+04     8.000000e+00    6.000000e+00  6.000000e+00   \n",
       "max     4.111700e+04     1.000000e+01    1.100000e+01  7.000000e+00   \n",
       "\n",
       "       transaction_amount  transaction_count      avg_temp      max_temp  \\\n",
       "count        1.603322e+06       1.603322e+06  1.603322e+06  1.603322e+06   \n",
       "mean         1.773111e+05       1.976734e+01  1.407041e+01  1.897826e+01   \n",
       "std          4.587060e+05       3.464352e+01  1.073996e+01  1.081094e+01   \n",
       "min          0.000000e+00       2.000000e+00 -1.024200e+01 -7.687200e+00   \n",
       "25%          1.595700e+04       3.000000e+00  3.514100e+00  8.685690e+00   \n",
       "50%          5.194000e+04       8.000000e+00  1.584370e+01  2.152600e+01   \n",
       "75%          1.595068e+05       2.000000e+01  2.359820e+01  2.786330e+01   \n",
       "max          5.460398e+07       1.009000e+03  3.020880e+01  3.512770e+01   \n",
       "\n",
       "           min_temp  \n",
       "count  1.603322e+06  \n",
       "mean   9.162558e+00  \n",
       "std    1.092608e+01  \n",
       "min   -1.353520e+01  \n",
       "25%   -1.174090e+00  \n",
       "50%    9.902900e+00  \n",
       "75%    1.917180e+01  \n",
       "max    2.625530e+01  "
      ],
      "text/html": [
       "<div>\n",
       "<style scoped>\n",
       "    .dataframe tbody tr th:only-of-type {\n",
       "        vertical-align: middle;\n",
       "    }\n",
       "\n",
       "    .dataframe tbody tr th {\n",
       "        vertical-align: top;\n",
       "    }\n",
       "\n",
       "    .dataframe thead th {\n",
       "        text-align: right;\n",
       "    }\n",
       "</style>\n",
       "<table border=\"1\" class=\"dataframe\">\n",
       "  <thead>\n",
       "    <tr style=\"text-align: right;\">\n",
       "      <th></th>\n",
       "      <th>district_code</th>\n",
       "      <th>time_block_code</th>\n",
       "      <th>age_group_code</th>\n",
       "      <th>day_of_week</th>\n",
       "      <th>transaction_amount</th>\n",
       "      <th>transaction_count</th>\n",
       "      <th>avg_temp</th>\n",
       "      <th>max_temp</th>\n",
       "      <th>min_temp</th>\n",
       "    </tr>\n",
       "  </thead>\n",
       "  <tbody>\n",
       "    <tr>\n",
       "      <th>count</th>\n",
       "      <td>1.603322e+06</td>\n",
       "      <td>1.603322e+06</td>\n",
       "      <td>1.603322e+06</td>\n",
       "      <td>1.603322e+06</td>\n",
       "      <td>1.603322e+06</td>\n",
       "      <td>1.603322e+06</td>\n",
       "      <td>1.603322e+06</td>\n",
       "      <td>1.603322e+06</td>\n",
       "      <td>1.603322e+06</td>\n",
       "    </tr>\n",
       "    <tr>\n",
       "      <th>mean</th>\n",
       "      <td>4.111411e+04</td>\n",
       "      <td>5.464615e+00</td>\n",
       "      <td>5.050107e+00</td>\n",
       "      <td>3.999974e+00</td>\n",
       "      <td>1.773111e+05</td>\n",
       "      <td>1.976734e+01</td>\n",
       "      <td>1.407041e+01</td>\n",
       "      <td>1.897826e+01</td>\n",
       "      <td>9.162558e+00</td>\n",
       "    </tr>\n",
       "    <tr>\n",
       "      <th>std</th>\n",
       "      <td>2.268238e+00</td>\n",
       "      <td>2.490763e+00</td>\n",
       "      <td>1.803883e+00</td>\n",
       "      <td>1.995954e+00</td>\n",
       "      <td>4.587060e+05</td>\n",
       "      <td>3.464352e+01</td>\n",
       "      <td>1.073996e+01</td>\n",
       "      <td>1.081094e+01</td>\n",
       "      <td>1.092608e+01</td>\n",
       "    </tr>\n",
       "    <tr>\n",
       "      <th>min</th>\n",
       "      <td>4.111100e+04</td>\n",
       "      <td>1.000000e+00</td>\n",
       "      <td>1.000000e+00</td>\n",
       "      <td>1.000000e+00</td>\n",
       "      <td>0.000000e+00</td>\n",
       "      <td>2.000000e+00</td>\n",
       "      <td>-1.024200e+01</td>\n",
       "      <td>-7.687200e+00</td>\n",
       "      <td>-1.353520e+01</td>\n",
       "    </tr>\n",
       "    <tr>\n",
       "      <th>25%</th>\n",
       "      <td>4.111300e+04</td>\n",
       "      <td>3.000000e+00</td>\n",
       "      <td>4.000000e+00</td>\n",
       "      <td>2.000000e+00</td>\n",
       "      <td>1.595700e+04</td>\n",
       "      <td>3.000000e+00</td>\n",
       "      <td>3.514100e+00</td>\n",
       "      <td>8.685690e+00</td>\n",
       "      <td>-1.174090e+00</td>\n",
       "    </tr>\n",
       "    <tr>\n",
       "      <th>50%</th>\n",
       "      <td>4.111500e+04</td>\n",
       "      <td>5.000000e+00</td>\n",
       "      <td>5.000000e+00</td>\n",
       "      <td>4.000000e+00</td>\n",
       "      <td>5.194000e+04</td>\n",
       "      <td>8.000000e+00</td>\n",
       "      <td>1.584370e+01</td>\n",
       "      <td>2.152600e+01</td>\n",
       "      <td>9.902900e+00</td>\n",
       "    </tr>\n",
       "    <tr>\n",
       "      <th>75%</th>\n",
       "      <td>4.111700e+04</td>\n",
       "      <td>8.000000e+00</td>\n",
       "      <td>6.000000e+00</td>\n",
       "      <td>6.000000e+00</td>\n",
       "      <td>1.595068e+05</td>\n",
       "      <td>2.000000e+01</td>\n",
       "      <td>2.359820e+01</td>\n",
       "      <td>2.786330e+01</td>\n",
       "      <td>1.917180e+01</td>\n",
       "    </tr>\n",
       "    <tr>\n",
       "      <th>max</th>\n",
       "      <td>4.111700e+04</td>\n",
       "      <td>1.000000e+01</td>\n",
       "      <td>1.100000e+01</td>\n",
       "      <td>7.000000e+00</td>\n",
       "      <td>5.460398e+07</td>\n",
       "      <td>1.009000e+03</td>\n",
       "      <td>3.020880e+01</td>\n",
       "      <td>3.512770e+01</td>\n",
       "      <td>2.625530e+01</td>\n",
       "    </tr>\n",
       "  </tbody>\n",
       "</table>\n",
       "</div>"
      ]
     },
     "execution_count": 68,
     "metadata": {},
     "output_type": "execute_result"
    }
   ],
   "execution_count": 68
  },
  {
   "metadata": {
    "ExecuteTime": {
     "end_time": "2025-05-29T08:38:46.305625Z",
     "start_time": "2025-05-29T08:38:46.299402Z"
    }
   },
   "cell_type": "code",
   "source": "df.shape",
   "id": "26f7172f39aadfc4",
   "outputs": [
    {
     "data": {
      "text/plain": [
       "(1603322, 12)"
      ]
     },
     "execution_count": 69,
     "metadata": {},
     "output_type": "execute_result"
    }
   ],
   "execution_count": 69
  },
  {
   "metadata": {
    "ExecuteTime": {
     "end_time": "2025-05-29T08:38:46.754686Z",
     "start_time": "2025-05-29T08:38:46.323522Z"
    }
   },
   "cell_type": "code",
   "source": [
    "# 상관계수 계산\n",
    "correlation_vars = ['transaction_amount', 'transaction_count', 'avg_temp', 'max_temp', 'min_temp', 'temp_diff']\n",
    "correlation_matrix = df[correlation_vars].corr()\n",
    "\n",
    "# 상관계수 히트맵\n",
    "plt.figure(figsize=(10, 8))\n",
    "sns.heatmap(correlation_matrix, annot=True, cmap='coolwarm', center=0,\n",
    "            square=True, fmt='.3f')\n",
    "plt.title('변수간 상관관계 히트맵')\n",
    "plt.show()\n",
    "\n",
    "\n",
    "# 통계적 유의성 검정\n",
    "print(\"📈 통계적 유의성 검정\")\n",
    "temp_amount_corr, temp_amount_p = stats.pearsonr(df['avg_temp'], df['transaction_amount'])\n",
    "print(f\"평균기온-매출 상관계수: {temp_amount_corr:.4f} (p-value: {temp_amount_p:.6f})\")\n",
    "\n",
    "temp_count_corr, temp_count_p = stats.pearsonr(df['avg_temp'], df['transaction_count'])\n",
    "print(f\"평균기온-거래건수 상관계수: {temp_count_corr:.4f} (p-value: {temp_count_p:.6f})\")\n",
    "print()"
   ],
   "id": "d0273e619dd99952",
   "outputs": [
    {
     "ename": "KeyError",
     "evalue": "\"['temp_diff'] not in index\"",
     "output_type": "error",
     "traceback": [
      "\u001B[31m---------------------------------------------------------------------------\u001B[39m",
      "\u001B[31mKeyError\u001B[39m                                  Traceback (most recent call last)",
      "\u001B[36mCell\u001B[39m\u001B[36m \u001B[39m\u001B[32mIn[70]\u001B[39m\u001B[32m, line 3\u001B[39m\n\u001B[32m      1\u001B[39m \u001B[38;5;66;03m# 상관계수 계산\u001B[39;00m\n\u001B[32m      2\u001B[39m correlation_vars = [\u001B[33m'\u001B[39m\u001B[33mtransaction_amount\u001B[39m\u001B[33m'\u001B[39m, \u001B[33m'\u001B[39m\u001B[33mtransaction_count\u001B[39m\u001B[33m'\u001B[39m, \u001B[33m'\u001B[39m\u001B[33mavg_temp\u001B[39m\u001B[33m'\u001B[39m, \u001B[33m'\u001B[39m\u001B[33mmax_temp\u001B[39m\u001B[33m'\u001B[39m, \u001B[33m'\u001B[39m\u001B[33mmin_temp\u001B[39m\u001B[33m'\u001B[39m, \u001B[33m'\u001B[39m\u001B[33mtemp_diff\u001B[39m\u001B[33m'\u001B[39m]\n\u001B[32m----> \u001B[39m\u001B[32m3\u001B[39m correlation_matrix = \u001B[43mdf\u001B[49m\u001B[43m[\u001B[49m\u001B[43mcorrelation_vars\u001B[49m\u001B[43m]\u001B[49m.corr()\n\u001B[32m      5\u001B[39m \u001B[38;5;66;03m# 상관계수 히트맵\u001B[39;00m\n\u001B[32m      6\u001B[39m plt.figure(figsize=(\u001B[32m10\u001B[39m, \u001B[32m8\u001B[39m))\n",
      "\u001B[36mFile \u001B[39m\u001B[32m~/Developer/ML/VirtualMachine/estcamp_env/lib/python3.13/site-packages/pandas/core/frame.py:4108\u001B[39m, in \u001B[36mDataFrame.__getitem__\u001B[39m\u001B[34m(self, key)\u001B[39m\n\u001B[32m   4106\u001B[39m     \u001B[38;5;28;01mif\u001B[39;00m is_iterator(key):\n\u001B[32m   4107\u001B[39m         key = \u001B[38;5;28mlist\u001B[39m(key)\n\u001B[32m-> \u001B[39m\u001B[32m4108\u001B[39m     indexer = \u001B[38;5;28;43mself\u001B[39;49m\u001B[43m.\u001B[49m\u001B[43mcolumns\u001B[49m\u001B[43m.\u001B[49m\u001B[43m_get_indexer_strict\u001B[49m\u001B[43m(\u001B[49m\u001B[43mkey\u001B[49m\u001B[43m,\u001B[49m\u001B[43m \u001B[49m\u001B[33;43m\"\u001B[39;49m\u001B[33;43mcolumns\u001B[39;49m\u001B[33;43m\"\u001B[39;49m\u001B[43m)\u001B[49m[\u001B[32m1\u001B[39m]\n\u001B[32m   4110\u001B[39m \u001B[38;5;66;03m# take() does not accept boolean indexers\u001B[39;00m\n\u001B[32m   4111\u001B[39m \u001B[38;5;28;01mif\u001B[39;00m \u001B[38;5;28mgetattr\u001B[39m(indexer, \u001B[33m\"\u001B[39m\u001B[33mdtype\u001B[39m\u001B[33m\"\u001B[39m, \u001B[38;5;28;01mNone\u001B[39;00m) == \u001B[38;5;28mbool\u001B[39m:\n",
      "\u001B[36mFile \u001B[39m\u001B[32m~/Developer/ML/VirtualMachine/estcamp_env/lib/python3.13/site-packages/pandas/core/indexes/base.py:6200\u001B[39m, in \u001B[36mIndex._get_indexer_strict\u001B[39m\u001B[34m(self, key, axis_name)\u001B[39m\n\u001B[32m   6197\u001B[39m \u001B[38;5;28;01melse\u001B[39;00m:\n\u001B[32m   6198\u001B[39m     keyarr, indexer, new_indexer = \u001B[38;5;28mself\u001B[39m._reindex_non_unique(keyarr)\n\u001B[32m-> \u001B[39m\u001B[32m6200\u001B[39m \u001B[38;5;28;43mself\u001B[39;49m\u001B[43m.\u001B[49m\u001B[43m_raise_if_missing\u001B[49m\u001B[43m(\u001B[49m\u001B[43mkeyarr\u001B[49m\u001B[43m,\u001B[49m\u001B[43m \u001B[49m\u001B[43mindexer\u001B[49m\u001B[43m,\u001B[49m\u001B[43m \u001B[49m\u001B[43maxis_name\u001B[49m\u001B[43m)\u001B[49m\n\u001B[32m   6202\u001B[39m keyarr = \u001B[38;5;28mself\u001B[39m.take(indexer)\n\u001B[32m   6203\u001B[39m \u001B[38;5;28;01mif\u001B[39;00m \u001B[38;5;28misinstance\u001B[39m(key, Index):\n\u001B[32m   6204\u001B[39m     \u001B[38;5;66;03m# GH 42790 - Preserve name from an Index\u001B[39;00m\n",
      "\u001B[36mFile \u001B[39m\u001B[32m~/Developer/ML/VirtualMachine/estcamp_env/lib/python3.13/site-packages/pandas/core/indexes/base.py:6252\u001B[39m, in \u001B[36mIndex._raise_if_missing\u001B[39m\u001B[34m(self, key, indexer, axis_name)\u001B[39m\n\u001B[32m   6249\u001B[39m     \u001B[38;5;28;01mraise\u001B[39;00m \u001B[38;5;167;01mKeyError\u001B[39;00m(\u001B[33mf\u001B[39m\u001B[33m\"\u001B[39m\u001B[33mNone of [\u001B[39m\u001B[38;5;132;01m{\u001B[39;00mkey\u001B[38;5;132;01m}\u001B[39;00m\u001B[33m] are in the [\u001B[39m\u001B[38;5;132;01m{\u001B[39;00maxis_name\u001B[38;5;132;01m}\u001B[39;00m\u001B[33m]\u001B[39m\u001B[33m\"\u001B[39m)\n\u001B[32m   6251\u001B[39m not_found = \u001B[38;5;28mlist\u001B[39m(ensure_index(key)[missing_mask.nonzero()[\u001B[32m0\u001B[39m]].unique())\n\u001B[32m-> \u001B[39m\u001B[32m6252\u001B[39m \u001B[38;5;28;01mraise\u001B[39;00m \u001B[38;5;167;01mKeyError\u001B[39;00m(\u001B[33mf\u001B[39m\u001B[33m\"\u001B[39m\u001B[38;5;132;01m{\u001B[39;00mnot_found\u001B[38;5;132;01m}\u001B[39;00m\u001B[33m not in index\u001B[39m\u001B[33m\"\u001B[39m)\n",
      "\u001B[31mKeyError\u001B[39m: \"['temp_diff'] not in index\""
     ]
    }
   ],
   "execution_count": 70
  },
  {
   "metadata": {
    "ExecuteTime": {
     "end_time": "2025-05-29T08:38:46.764659Z",
     "start_time": "2025-05-29T04:59:05.157776Z"
    }
   },
   "cell_type": "code",
   "source": [
    "# 통계적 유의성 검정\n",
    "print(\"📈 통계적 유의성 검정\")\n",
    "temp_amount_corr, temp_amount_p = stats.pearsonr(df['avg_temp'], df['transaction_amount'])\n",
    "print(f\"평균기온-매출 상관계수: {temp_amount_corr:.4f} (p-value: {temp_amount_p:.6f})\")\n",
    "\n",
    "temp_count_corr, temp_count_p = stats.pearsonr(df['avg_temp'], df['transaction_count'])\n",
    "print(f\"평균기온-거래건수 상관계수: {temp_count_corr:.4f} (p-value: {temp_count_p:.6f})\")\n",
    "print()"
   ],
   "id": "1b1d967c60c2b96",
   "outputs": [
    {
     "name": "stdout",
     "output_type": "stream",
     "text": [
      "📈 통계적 유의성 검정\n",
      "평균기온-매출 상관계수: 0.0064 (p-value: 0.000000)\n",
      "평균기온-거래건수 상관계수: 0.0351 (p-value: 0.000000)\n",
      "\n"
     ]
    }
   ],
   "execution_count": 50
  },
  {
   "metadata": {
    "ExecuteTime": {
     "end_time": "2025-05-29T08:38:46.766813Z",
     "start_time": "2025-05-29T08:14:57.276374Z"
    }
   },
   "cell_type": "code",
   "source": [
    "plt.figure(figsize=(12, 5))\n",
    "for i, col in enumerate(['transaction_amount', 'transaction_count']):\n",
    "    plt.subplot(1, 2, i+1)\n",
    "    sns.boxplot(y=df[col])\n",
    "    plt.title(f'{col}의 이상치 탐지')\n",
    "plt.tight_layout()\n",
    "plt.show()"
   ],
   "id": "8466cf5d994532cc",
   "outputs": [
    {
     "data": {
      "text/plain": [
       "<Figure size 1200x500 with 2 Axes>"
      ],
      "image/png": "[encoded data removed]"
     },
     "metadata": {},
     "output_type": "display_data"
    }
   ],
   "execution_count": 56
  },
  {
   "metadata": {
    "ExecuteTime": {
     "end_time": "2025-05-29T08:38:46.775277Z",
     "start_time": "2025-05-29T08:19:24.879569Z"
    }
   },
   "cell_type": "code",
   "source": [
    "def remove_outliers_iqr(df, columns):\n",
    "    mask = pd.Series([True] * len(df))\n",
    "    for col in columns:\n",
    "        Q1 = df[col].quantile(0.25)\n",
    "        Q3 = df[col].quantile(0.75)\n",
    "        IQR = Q3 - Q1\n",
    "        lower_bound = Q1 - 1.5 * IQR\n",
    "        upper_bound = Q3 + 1.5 * IQR\n",
    "        mask &= df[col].between(lower_bound, upper_bound)\n",
    "    return df[mask]"
   ],
   "id": "e086d5a8201b4b16",
   "outputs": [],
   "execution_count": 57
  },
  {
   "metadata": {
    "ExecuteTime": {
     "end_time": "2025-05-29T08:38:46.776418Z",
     "start_time": "2025-05-29T08:19:26.410651Z"
    }
   },
   "cell_type": "code",
   "source": [
    "target_cols = ['transaction_amount', 'transaction_count']\n",
    "\n",
    "# 이상치 제거된 데이터프레임 생성\n",
    "df_no_outliers = remove_outliers_iqr(df, target_cols)"
   ],
   "id": "2320ab65ca850991",
   "outputs": [],
   "execution_count": 58
  },
  {
   "metadata": {
    "ExecuteTime": {
     "end_time": "2025-05-29T08:38:46.776607Z",
     "start_time": "2025-05-29T08:24:12.825870Z"
    }
   },
   "cell_type": "code",
   "source": [
    "correlation_vars = ['transaction_amount', 'transaction_count',\n",
    "                    'avg_temp', 'max_temp', 'min_temp', 'temp_diff']\n",
    "\n",
    "# 상관계수 계산\n",
    "correlation_matrix = df_no_outliers[correlation_vars].corr()\n",
    "\n",
    "# 히트맵 시각화\n",
    "plt.figure(figsize=(10, 8))\n",
    "sns.heatmap(correlation_matrix, annot=True, cmap='coolwarm', center=0,\n",
    "            square=True, fmt='.3f')\n",
    "plt.title('이상치 제거 후 변수간 상관관계 히트맵')\n",
    "plt.show()"
   ],
   "id": "b45b5637c4e62f3c",
   "outputs": [
    {
     "data": {
      "text/plain": [
       "<Figure size 1000x800 with 2 Axes>"
      ],
      "image/png": "[encoded data removed]"
     },
     "metadata": {},
     "output_type": "display_data"
    }
   ],
   "execution_count": 59
  }
 ],
 "metadata": {
  "kernelspec": {
   "display_name": "Python 3",
   "language": "python",
   "name": "python3"
  },
  "language_info": {
   "codemirror_mode": {
    "name": "ipython",
    "version": 2
   },
   "file_extension": ".py",
   "mimetype": "text/x-python",
   "name": "python",
   "nbconvert_exporter": "python",
   "pygments_lexer": "ipython2",
   "version": "2.7.6"
  }
 },
 "nbformat": 4,
 "nbformat_minor": 5
}
