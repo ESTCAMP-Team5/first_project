{
 "cells": [
  {
   "metadata": {
    "collapsed": true,
    "ExecuteTime": {
     "end_time": "2025-06-04T04:11:22.015800Z",
     "start_time": "2025-06-04T04:11:21.602660Z"
    }
   },
   "cell_type": "code",
   "source": [
    "import os\n",
    "import pandas as pd\n",
    "import numpy as np\n",
    "import mysql.connector\n",
    "from dotenv import load_dotenv\n",
    "import seaborn as sns\n",
    "from scipy import stats\n",
    "from statsmodels.tsa.seasonal import seasonal_decompose\n",
    "from scipy.stats import tukey_hsd\n",
    "from itertools import combinations\n",
    "from sklearn.preprocessing import LabelEncoder\n",
    "from sklearn.linear_model import LinearRegression\n",
    "from sklearn.metrics import r2_score\n",
    "from sklearn.ensemble import RandomForestRegressor, GradientBoostingRegressor\n",
    "from sklearn.model_selection import train_test_split, cross_val_score\n",
    "from sklearn.preprocessing import OneHotEncoder\n",
    "from sklearn.compose import ColumnTransformer\n",
    "from sklearn.pipeline import Pipeline\n",
    "from sklearn.metrics import mean_squared_error, r2_score\n",
    "from lightgbm import LGBMRegressor"
   ],
   "id": "initial_id",
   "outputs": [
    {
     "ename": "OSError",
     "evalue": "dlopen(/Users/doyoung/Developer/ML/VirtualMachine/estcamp_env/lib/python3.13/site-packages/lightgbm/lib/lib_lightgbm.dylib, 0x0006): Library not loaded: @rpath/libomp.dylib\n  Referenced from: <D44045CD-B874-3A27-9A61-F131D99AACE4> /Users/doyoung/Developer/ML/VirtualMachine/estcamp_env/lib/python3.13/site-packages/lightgbm/lib/lib_lightgbm.dylib\n  Reason: tried: '/opt/homebrew/opt/libomp/lib/libomp.dylib' (no such file), '/System/Volumes/Preboot/Cryptexes/OS/opt/homebrew/opt/libomp/lib/libomp.dylib' (no such file), '/opt/local/lib/libomp/libomp.dylib' (no such file), '/System/Volumes/Preboot/Cryptexes/OS/opt/local/lib/libomp/libomp.dylib' (no such file), '/opt/homebrew/opt/libomp/lib/libomp.dylib' (no such file), '/System/Volumes/Preboot/Cryptexes/OS/opt/homebrew/opt/libomp/lib/libomp.dylib' (no such file), '/opt/local/lib/libomp/libomp.dylib' (no such file), '/System/Volumes/Preboot/Cryptexes/OS/opt/local/lib/libomp/libomp.dylib' (no such file), '/opt/homebrew/lib/libomp.dylib' (no such file), '/System/Volumes/Preboot/Cryptexes/OS/opt/homebrew/lib/libomp.dylib' (no such file), '/opt/homebrew/lib/libomp.dylib' (no such file), '/System/Volumes/Preboot/Cryptexes/OS/opt/homebrew/lib/libomp.dylib' (no such file)",
     "output_type": "error",
     "traceback": [
      "\u001B[31m---------------------------------------------------------------------------\u001B[39m",
      "\u001B[31mOSError\u001B[39m                                   Traceback (most recent call last)",
      "\u001B[36mCell\u001B[39m\u001B[36m \u001B[39m\u001B[32mIn[5]\u001B[39m\u001B[32m, line 20\u001B[39m\n\u001B[32m     18\u001B[39m \u001B[38;5;28;01mfrom\u001B[39;00m\u001B[38;5;250m \u001B[39m\u001B[34;01msklearn\u001B[39;00m\u001B[34;01m.\u001B[39;00m\u001B[34;01mpipeline\u001B[39;00m\u001B[38;5;250m \u001B[39m\u001B[38;5;28;01mimport\u001B[39;00m Pipeline\n\u001B[32m     19\u001B[39m \u001B[38;5;28;01mfrom\u001B[39;00m\u001B[38;5;250m \u001B[39m\u001B[34;01msklearn\u001B[39;00m\u001B[34;01m.\u001B[39;00m\u001B[34;01mmetrics\u001B[39;00m\u001B[38;5;250m \u001B[39m\u001B[38;5;28;01mimport\u001B[39;00m mean_squared_error, r2_score\n\u001B[32m---> \u001B[39m\u001B[32m20\u001B[39m \u001B[38;5;28;01mfrom\u001B[39;00m\u001B[38;5;250m \u001B[39m\u001B[34;01mlightgbm\u001B[39;00m\u001B[38;5;250m \u001B[39m\u001B[38;5;28;01mimport\u001B[39;00m LGBMRegressor\n",
      "\u001B[36mFile \u001B[39m\u001B[32m~/Developer/ML/VirtualMachine/estcamp_env/lib/python3.13/site-packages/lightgbm/__init__.py:11\u001B[39m\n\u001B[32m      7\u001B[39m \u001B[38;5;28;01mfrom\u001B[39;00m\u001B[38;5;250m \u001B[39m\u001B[34;01mpathlib\u001B[39;00m\u001B[38;5;250m \u001B[39m\u001B[38;5;28;01mimport\u001B[39;00m Path\n\u001B[32m      9\u001B[39m \u001B[38;5;66;03m# .basic is intentionally loaded as early as possible, to dlopen() lib_lightgbm.{dll,dylib,so}\u001B[39;00m\n\u001B[32m     10\u001B[39m \u001B[38;5;66;03m# and its dependencies as early as possible\u001B[39;00m\n\u001B[32m---> \u001B[39m\u001B[32m11\u001B[39m \u001B[38;5;28;01mfrom\u001B[39;00m\u001B[38;5;250m \u001B[39m\u001B[34;01m.\u001B[39;00m\u001B[34;01mbasic\u001B[39;00m\u001B[38;5;250m \u001B[39m\u001B[38;5;28;01mimport\u001B[39;00m Booster, Dataset, Sequence, register_logger\n\u001B[32m     12\u001B[39m \u001B[38;5;28;01mfrom\u001B[39;00m\u001B[38;5;250m \u001B[39m\u001B[34;01m.\u001B[39;00m\u001B[34;01mcallback\u001B[39;00m\u001B[38;5;250m \u001B[39m\u001B[38;5;28;01mimport\u001B[39;00m EarlyStopException, early_stopping, log_evaluation, record_evaluation, reset_parameter\n\u001B[32m     13\u001B[39m \u001B[38;5;28;01mfrom\u001B[39;00m\u001B[38;5;250m \u001B[39m\u001B[34;01m.\u001B[39;00m\u001B[34;01mengine\u001B[39;00m\u001B[38;5;250m \u001B[39m\u001B[38;5;28;01mimport\u001B[39;00m CVBooster, cv, train\n",
      "\u001B[36mFile \u001B[39m\u001B[32m~/Developer/ML/VirtualMachine/estcamp_env/lib/python3.13/site-packages/lightgbm/basic.py:9\u001B[39m\n\u001B[32m      2\u001B[39m \u001B[33;03m\"\"\"Wrapper for C API of LightGBM.\"\"\"\u001B[39;00m\n\u001B[32m      4\u001B[39m \u001B[38;5;66;03m# This import causes lib_lightgbm.{dll,dylib,so} to be loaded.\u001B[39;00m\n\u001B[32m      5\u001B[39m \u001B[38;5;66;03m# It's intentionally done here, as early as possible, to avoid issues like\u001B[39;00m\n\u001B[32m      6\u001B[39m \u001B[38;5;66;03m# \"libgomp.so.1: cannot allocate memory in static TLS block\" on aarch64 Linux.\u001B[39;00m\n\u001B[32m      7\u001B[39m \u001B[38;5;66;03m#\u001B[39;00m\n\u001B[32m      8\u001B[39m \u001B[38;5;66;03m# For details, see the \"cannot allocate memory in static TLS block\" entry in docs/FAQ.rst.\u001B[39;00m\n\u001B[32m----> \u001B[39m\u001B[32m9\u001B[39m \u001B[38;5;28;01mfrom\u001B[39;00m\u001B[38;5;250m \u001B[39m\u001B[34;01m.\u001B[39;00m\u001B[34;01mlibpath\u001B[39;00m\u001B[38;5;250m \u001B[39m\u001B[38;5;28;01mimport\u001B[39;00m _LIB  \u001B[38;5;66;03m# isort: skip\u001B[39;00m\n\u001B[32m     11\u001B[39m \u001B[38;5;28;01mimport\u001B[39;00m\u001B[38;5;250m \u001B[39m\u001B[34;01mabc\u001B[39;00m\n\u001B[32m     12\u001B[39m \u001B[38;5;28;01mimport\u001B[39;00m\u001B[38;5;250m \u001B[39m\u001B[34;01mctypes\u001B[39;00m\n",
      "\u001B[36mFile \u001B[39m\u001B[32m~/Developer/ML/VirtualMachine/estcamp_env/lib/python3.13/site-packages/lightgbm/libpath.py:49\u001B[39m\n\u001B[32m     47\u001B[39m     _LIB = Mock(ctypes.CDLL)  \u001B[38;5;66;03m# type: ignore\u001B[39;00m\n\u001B[32m     48\u001B[39m \u001B[38;5;28;01melse\u001B[39;00m:\n\u001B[32m---> \u001B[39m\u001B[32m49\u001B[39m     _LIB = \u001B[43mctypes\u001B[49m\u001B[43m.\u001B[49m\u001B[43mcdll\u001B[49m\u001B[43m.\u001B[49m\u001B[43mLoadLibrary\u001B[49m\u001B[43m(\u001B[49m\u001B[43m_find_lib_path\u001B[49m\u001B[43m(\u001B[49m\u001B[43m)\u001B[49m\u001B[43m[\u001B[49m\u001B[32;43m0\u001B[39;49m\u001B[43m]\u001B[49m\u001B[43m)\u001B[49m\n",
      "\u001B[36mFile \u001B[39m\u001B[32m/opt/homebrew/Cellar/python@3.13/3.13.3/Frameworks/Python.framework/Versions/3.13/lib/python3.13/ctypes/__init__.py:471\u001B[39m, in \u001B[36mLibraryLoader.LoadLibrary\u001B[39m\u001B[34m(self, name)\u001B[39m\n\u001B[32m    470\u001B[39m \u001B[38;5;28;01mdef\u001B[39;00m\u001B[38;5;250m \u001B[39m\u001B[34mLoadLibrary\u001B[39m(\u001B[38;5;28mself\u001B[39m, name):\n\u001B[32m--> \u001B[39m\u001B[32m471\u001B[39m     \u001B[38;5;28;01mreturn\u001B[39;00m \u001B[38;5;28;43mself\u001B[39;49m\u001B[43m.\u001B[49m\u001B[43m_dlltype\u001B[49m\u001B[43m(\u001B[49m\u001B[43mname\u001B[49m\u001B[43m)\u001B[49m\n",
      "\u001B[36mFile \u001B[39m\u001B[32m/opt/homebrew/Cellar/python@3.13/3.13.3/Frameworks/Python.framework/Versions/3.13/lib/python3.13/ctypes/__init__.py:390\u001B[39m, in \u001B[36mCDLL.__init__\u001B[39m\u001B[34m(self, name, mode, handle, use_errno, use_last_error, winmode)\u001B[39m\n\u001B[32m    387\u001B[39m \u001B[38;5;28mself\u001B[39m._FuncPtr = _FuncPtr\n\u001B[32m    389\u001B[39m \u001B[38;5;28;01mif\u001B[39;00m handle \u001B[38;5;129;01mis\u001B[39;00m \u001B[38;5;28;01mNone\u001B[39;00m:\n\u001B[32m--> \u001B[39m\u001B[32m390\u001B[39m     \u001B[38;5;28mself\u001B[39m._handle = \u001B[43m_dlopen\u001B[49m\u001B[43m(\u001B[49m\u001B[38;5;28;43mself\u001B[39;49m\u001B[43m.\u001B[49m\u001B[43m_name\u001B[49m\u001B[43m,\u001B[49m\u001B[43m \u001B[49m\u001B[43mmode\u001B[49m\u001B[43m)\u001B[49m\n\u001B[32m    391\u001B[39m \u001B[38;5;28;01melse\u001B[39;00m:\n\u001B[32m    392\u001B[39m     \u001B[38;5;28mself\u001B[39m._handle = handle\n",
      "\u001B[31mOSError\u001B[39m: dlopen(/Users/doyoung/Developer/ML/VirtualMachine/estcamp_env/lib/python3.13/site-packages/lightgbm/lib/lib_lightgbm.dylib, 0x0006): Library not loaded: @rpath/libomp.dylib\n  Referenced from: <D44045CD-B874-3A27-9A61-F131D99AACE4> /Users/doyoung/Developer/ML/VirtualMachine/estcamp_env/lib/python3.13/site-packages/lightgbm/lib/lib_lightgbm.dylib\n  Reason: tried: '/opt/homebrew/opt/libomp/lib/libomp.dylib' (no such file), '/System/Volumes/Preboot/Cryptexes/OS/opt/homebrew/opt/libomp/lib/libomp.dylib' (no such file), '/opt/local/lib/libomp/libomp.dylib' (no such file), '/System/Volumes/Preboot/Cryptexes/OS/opt/local/lib/libomp/libomp.dylib' (no such file), '/opt/homebrew/opt/libomp/lib/libomp.dylib' (no such file), '/System/Volumes/Preboot/Cryptexes/OS/opt/homebrew/opt/libomp/lib/libomp.dylib' (no such file), '/opt/local/lib/libomp/libomp.dylib' (no such file), '/System/Volumes/Preboot/Cryptexes/OS/opt/local/lib/libomp/libomp.dylib' (no such file), '/opt/homebrew/lib/libomp.dylib' (no such file), '/System/Volumes/Preboot/Cryptexes/OS/opt/homebrew/lib/libomp.dylib' (no such file), '/opt/homebrew/lib/libomp.dylib' (no such file), '/System/Volumes/Preboot/Cryptexes/OS/opt/homebrew/lib/libomp.dylib' (no such file)"
     ]
    }
   ],
   "execution_count": 5
  },
  {
   "metadata": {
    "ExecuteTime": {
     "end_time": "2025-06-04T04:13:18.930210Z",
     "start_time": "2025-06-04T04:13:18.927240Z"
    }
   },
   "cell_type": "code",
   "source": [
    "import matplotlib.pyplot as plt\n",
    "plt.rc('font', family='AppleGothic')\n",
    "plt.rcParams['axes.unicode_minus'] = False"
   ],
   "id": "96a9999538fbaf37",
   "outputs": [],
   "execution_count": 9
  },
  {
   "metadata": {
    "ExecuteTime": {
     "end_time": "2025-06-04T04:13:19.971248Z",
     "start_time": "2025-06-04T04:13:19.934891Z"
    }
   },
   "cell_type": "code",
   "source": [
    "# DB 연결\n",
    "load_dotenv()\n",
    "\n",
    "conn = mysql.connector.connect(\n",
    "    host=os.getenv(\"DB_HOST\"),\n",
    "    user=os.getenv(\"DB_USER\"),\n",
    "    password=os.getenv(\"DB_PASSWORD\"),\n",
    "    database=\"suwon_business\"\n",
    ")\n",
    "\n",
    "cursor = conn.cursor()"
   ],
   "id": "122f30103a0abf7a",
   "outputs": [],
   "execution_count": 10
  },
  {
   "metadata": {
    "ExecuteTime": {
     "end_time": "2025-06-04T04:13:25.992898Z",
     "start_time": "2025-06-04T04:13:21.355679Z"
    }
   },
   "cell_type": "code",
   "source": [
    "# 쿼리 정의\n",
    "query = \"\"\"\n",
    "SELECT\n",
    "    t.transaction_date,\n",
    "    t.district_code,\n",
    "    d.name AS district_name,\n",
    "    t.time_block_code,\n",
    "    t.gender,\n",
    "    t.age_group_code,\n",
    "    t.day_of_week,\n",
    "    t.transaction_amount,\n",
    "    t.transaction_count,\n",
    "    w.avg_temp\n",
    "FROM card_transaction t\n",
    "JOIN district d ON t.district_code = d.district_id\n",
    "JOIN weather w ON t.transaction_date = w.weather_date AND t.district_code = w.district_id\n",
    "\"\"\"\n",
    "\n",
    "df = pd.read_sql(query, conn)\n",
    "conn.close()\n",
    "\n",
    "print(df.head())"
   ],
   "id": "5d114a4fc34dc279",
   "outputs": [
    {
     "name": "stderr",
     "output_type": "stream",
     "text": [
      "/var/folders/36/pdpmp_4s2wv687klck6zglrm0000gn/T/ipykernel_58242/3308682761.py:19: UserWarning: pandas only supports SQLAlchemy connectable (engine/connection) or database string URI or sqlite3 DBAPI2 connection. Other DBAPI2 objects are not tested. Please consider using SQLAlchemy.\n",
      "  df = pd.read_sql(query, conn)\n"
     ]
    },
    {
     "name": "stdout",
     "output_type": "stream",
     "text": [
      "  transaction_date  district_code district_name  time_block_code gender  \\\n",
      "0       2024-08-01          41111           장안구                1      F   \n",
      "1       2024-08-01          41111           장안구                1      M   \n",
      "2       2024-08-01          41111           장안구                1      M   \n",
      "3       2024-08-01          41111           장안구                1      M   \n",
      "4       2024-08-01          41111           장안구                1      M   \n",
      "\n",
      "   age_group_code  day_of_week  transaction_amount  transaction_count  \\\n",
      "0               3            4               19556                  3   \n",
      "1               2            4                4010                  2   \n",
      "2               3            4               14393                  3   \n",
      "3               4            4                 876                  2   \n",
      "4               5            4                 939                  2   \n",
      "\n",
      "   avg_temp  \n",
      "0    29.229  \n",
      "1    29.229  \n",
      "2    29.229  \n",
      "3    29.229  \n",
      "4    29.229  \n"
     ]
    }
   ],
   "execution_count": 11
  },
  {
   "metadata": {
    "ExecuteTime": {
     "end_time": "2025-06-04T04:10:26.837038Z",
     "start_time": "2025-06-04T01:08:52.090094Z"
    }
   },
   "cell_type": "code",
   "source": "df.columns",
   "id": "3ffc5522122202e5",
   "outputs": [
    {
     "data": {
      "text/plain": [
       "Index(['transaction_date', 'district_code', 'district_name', 'time_block_code',\n",
       "       'gender', 'age_group_code', 'day_of_week', 'transaction_amount',\n",
       "       'transaction_count', 'avg_temp'],\n",
       "      dtype='object')"
      ]
     },
     "execution_count": 8,
     "metadata": {},
     "output_type": "execute_result"
    }
   ],
   "execution_count": 8
  },
  {
   "metadata": {
    "ExecuteTime": {
     "end_time": "2025-06-04T04:10:26.837928Z",
     "start_time": "2025-06-04T01:08:54.002856Z"
    }
   },
   "cell_type": "code",
   "source": "df.count()",
   "id": "ca36ca8999f24de4",
   "outputs": [
    {
     "data": {
      "text/plain": [
       "transaction_date      1603322\n",
       "district_code         1603322\n",
       "district_name         1603322\n",
       "time_block_code       1603322\n",
       "gender                1603322\n",
       "age_group_code        1603322\n",
       "day_of_week           1603322\n",
       "transaction_amount    1603322\n",
       "transaction_count     1603322\n",
       "avg_temp              1603322\n",
       "dtype: int64"
      ]
     },
     "execution_count": 9,
     "metadata": {},
     "output_type": "execute_result"
    }
   ],
   "execution_count": 9
  },
  {
   "metadata": {
    "ExecuteTime": {
     "end_time": "2025-06-04T04:10:26.838631Z",
     "start_time": "2025-06-04T01:08:56.015358Z"
    }
   },
   "cell_type": "code",
   "source": "df.info",
   "id": "8ff1e58d519cad17",
   "outputs": [
    {
     "data": {
      "text/plain": [
       "<bound method DataFrame.info of         transaction_date  district_code district_name  time_block_code gender  \\\n",
       "0             2024-08-01          41111           장안구                1      F   \n",
       "1             2024-08-01          41111           장안구                1      M   \n",
       "2             2024-08-01          41111           장안구                1      M   \n",
       "3             2024-08-01          41111           장안구                1      M   \n",
       "4             2024-08-01          41111           장안구                1      M   \n",
       "...                  ...            ...           ...              ...    ...   \n",
       "1603317       2025-03-31          41117           영통구               10      F   \n",
       "1603318       2025-03-31          41117           영통구               10      F   \n",
       "1603319       2025-03-31          41117           영통구               10      M   \n",
       "1603320       2025-03-31          41117           영통구               10      M   \n",
       "1603321       2025-03-31          41117           영통구               10      M   \n",
       "\n",
       "         age_group_code  day_of_week  transaction_amount  transaction_count  \\\n",
       "0                     3            4               19556                  3   \n",
       "1                     2            4                4010                  2   \n",
       "2                     3            4               14393                  3   \n",
       "3                     4            4                 876                  2   \n",
       "4                     5            4                 939                  2   \n",
       "...                 ...          ...                 ...                ...   \n",
       "1603317               4            1               17503                  2   \n",
       "1603318               6            1              102472                  2   \n",
       "1603319               3            1                3442                  2   \n",
       "1603320               5            1              135210                  3   \n",
       "1603321               6            1                5163                  2   \n",
       "\n",
       "         avg_temp  \n",
       "0         29.2290  \n",
       "1         29.2290  \n",
       "2         29.2290  \n",
       "3         29.2290  \n",
       "4         29.2290  \n",
       "...           ...  \n",
       "1603317    8.0829  \n",
       "1603318    8.0829  \n",
       "1603319    8.0829  \n",
       "1603320    8.0829  \n",
       "1603321    8.0829  \n",
       "\n",
       "[1603322 rows x 10 columns]>"
      ]
     },
     "execution_count": 10,
     "metadata": {},
     "output_type": "execute_result"
    }
   ],
   "execution_count": 10
  },
  {
   "metadata": {
    "ExecuteTime": {
     "end_time": "2025-06-04T04:10:26.839266Z",
     "start_time": "2025-06-04T01:08:59.439364Z"
    }
   },
   "cell_type": "code",
   "source": "df.isnull().mean().sort_values(ascending=False)",
   "id": "8feaa2371ad8f361",
   "outputs": [
    {
     "data": {
      "text/plain": [
       "transaction_date      0.0\n",
       "district_code         0.0\n",
       "district_name         0.0\n",
       "time_block_code       0.0\n",
       "gender                0.0\n",
       "age_group_code        0.0\n",
       "day_of_week           0.0\n",
       "transaction_amount    0.0\n",
       "transaction_count     0.0\n",
       "avg_temp              0.0\n",
       "dtype: float64"
      ]
     },
     "execution_count": 11,
     "metadata": {},
     "output_type": "execute_result"
    }
   ],
   "execution_count": 11
  },
  {
   "metadata": {
    "ExecuteTime": {
     "end_time": "2025-06-04T04:10:26.839881Z",
     "start_time": "2025-06-04T01:09:01.572868Z"
    }
   },
   "cell_type": "code",
   "source": "df.describe()",
   "id": "11122015b0d42293",
   "outputs": [
    {
     "data": {
      "text/plain": [
       "       district_code  time_block_code  age_group_code   day_of_week  \\\n",
       "count   1.603322e+06     1.603322e+06    1.603322e+06  1.603322e+06   \n",
       "mean    4.111411e+04     5.464615e+00    5.050107e+00  3.999974e+00   \n",
       "std     2.268238e+00     2.490763e+00    1.803883e+00  1.995954e+00   \n",
       "min     4.111100e+04     1.000000e+00    1.000000e+00  1.000000e+00   \n",
       "25%     4.111300e+04     3.000000e+00    4.000000e+00  2.000000e+00   \n",
       "50%     4.111500e+04     5.000000e+00    5.000000e+00  4.000000e+00   \n",
       "75%     4.111700e+04     8.000000e+00    6.000000e+00  6.000000e+00   \n",
       "max     4.111700e+04     1.000000e+01    1.100000e+01  7.000000e+00   \n",
       "\n",
       "       transaction_amount  transaction_count      avg_temp  \n",
       "count        1.603322e+06       1.603322e+06  1.603322e+06  \n",
       "mean         1.773111e+05       1.976734e+01  1.407041e+01  \n",
       "std          4.587060e+05       3.464352e+01  1.073996e+01  \n",
       "min          0.000000e+00       2.000000e+00 -1.024200e+01  \n",
       "25%          1.595700e+04       3.000000e+00  3.514100e+00  \n",
       "50%          5.194000e+04       8.000000e+00  1.584370e+01  \n",
       "75%          1.595068e+05       2.000000e+01  2.359820e+01  \n",
       "max          5.460398e+07       1.009000e+03  3.020880e+01  "
      ],
      "text/html": [
       "<div>\n",
       "<style scoped>\n",
       "    .dataframe tbody tr th:only-of-type {\n",
       "        vertical-align: middle;\n",
       "    }\n",
       "\n",
       "    .dataframe tbody tr th {\n",
       "        vertical-align: top;\n",
       "    }\n",
       "\n",
       "    .dataframe thead th {\n",
       "        text-align: right;\n",
       "    }\n",
       "</style>\n",
       "<table border=\"1\" class=\"dataframe\">\n",
       "  <thead>\n",
       "    <tr style=\"text-align: right;\">\n",
       "      <th></th>\n",
       "      <th>district_code</th>\n",
       "      <th>time_block_code</th>\n",
       "      <th>age_group_code</th>\n",
       "      <th>day_of_week</th>\n",
       "      <th>transaction_amount</th>\n",
       "      <th>transaction_count</th>\n",
       "      <th>avg_temp</th>\n",
       "    </tr>\n",
       "  </thead>\n",
       "  <tbody>\n",
       "    <tr>\n",
       "      <th>count</th>\n",
       "      <td>1.603322e+06</td>\n",
       "      <td>1.603322e+06</td>\n",
       "      <td>1.603322e+06</td>\n",
       "      <td>1.603322e+06</td>\n",
       "      <td>1.603322e+06</td>\n",
       "      <td>1.603322e+06</td>\n",
       "      <td>1.603322e+06</td>\n",
       "    </tr>\n",
       "    <tr>\n",
       "      <th>mean</th>\n",
       "      <td>4.111411e+04</td>\n",
       "      <td>5.464615e+00</td>\n",
       "      <td>5.050107e+00</td>\n",
       "      <td>3.999974e+00</td>\n",
       "      <td>1.773111e+05</td>\n",
       "      <td>1.976734e+01</td>\n",
       "      <td>1.407041e+01</td>\n",
       "    </tr>\n",
       "    <tr>\n",
       "      <th>std</th>\n",
       "      <td>2.268238e+00</td>\n",
       "      <td>2.490763e+00</td>\n",
       "      <td>1.803883e+00</td>\n",
       "      <td>1.995954e+00</td>\n",
       "      <td>4.587060e+05</td>\n",
       "      <td>3.464352e+01</td>\n",
       "      <td>1.073996e+01</td>\n",
       "    </tr>\n",
       "    <tr>\n",
       "      <th>min</th>\n",
       "      <td>4.111100e+04</td>\n",
       "      <td>1.000000e+00</td>\n",
       "      <td>1.000000e+00</td>\n",
       "      <td>1.000000e+00</td>\n",
       "      <td>0.000000e+00</td>\n",
       "      <td>2.000000e+00</td>\n",
       "      <td>-1.024200e+01</td>\n",
       "    </tr>\n",
       "    <tr>\n",
       "      <th>25%</th>\n",
       "      <td>4.111300e+04</td>\n",
       "      <td>3.000000e+00</td>\n",
       "      <td>4.000000e+00</td>\n",
       "      <td>2.000000e+00</td>\n",
       "      <td>1.595700e+04</td>\n",
       "      <td>3.000000e+00</td>\n",
       "      <td>3.514100e+00</td>\n",
       "    </tr>\n",
       "    <tr>\n",
       "      <th>50%</th>\n",
       "      <td>4.111500e+04</td>\n",
       "      <td>5.000000e+00</td>\n",
       "      <td>5.000000e+00</td>\n",
       "      <td>4.000000e+00</td>\n",
       "      <td>5.194000e+04</td>\n",
       "      <td>8.000000e+00</td>\n",
       "      <td>1.584370e+01</td>\n",
       "    </tr>\n",
       "    <tr>\n",
       "      <th>75%</th>\n",
       "      <td>4.111700e+04</td>\n",
       "      <td>8.000000e+00</td>\n",
       "      <td>6.000000e+00</td>\n",
       "      <td>6.000000e+00</td>\n",
       "      <td>1.595068e+05</td>\n",
       "      <td>2.000000e+01</td>\n",
       "      <td>2.359820e+01</td>\n",
       "    </tr>\n",
       "    <tr>\n",
       "      <th>max</th>\n",
       "      <td>4.111700e+04</td>\n",
       "      <td>1.000000e+01</td>\n",
       "      <td>1.100000e+01</td>\n",
       "      <td>7.000000e+00</td>\n",
       "      <td>5.460398e+07</td>\n",
       "      <td>1.009000e+03</td>\n",
       "      <td>3.020880e+01</td>\n",
       "    </tr>\n",
       "  </tbody>\n",
       "</table>\n",
       "</div>"
      ]
     },
     "execution_count": 12,
     "metadata": {},
     "output_type": "execute_result"
    }
   ],
   "execution_count": 12
  },
  {
   "metadata": {
    "ExecuteTime": {
     "end_time": "2025-06-04T04:10:26.840510Z",
     "start_time": "2025-06-02T05:39:27.454737Z"
    }
   },
   "cell_type": "code",
   "source": "df.shape",
   "id": "26f7172f39aadfc4",
   "outputs": [
    {
     "data": {
      "text/plain": [
       "(1603322, 10)"
      ]
     },
     "execution_count": 35,
     "metadata": {},
     "output_type": "execute_result"
    }
   ],
   "execution_count": 35
  },
  {
   "metadata": {
    "ExecuteTime": {
     "end_time": "2025-06-04T04:10:26.841097Z",
     "start_time": "2025-06-04T01:09:11.451817Z"
    }
   },
   "cell_type": "code",
   "source": [
    "# 상관관계 분석 대상 수치형 컬럼만 선택\n",
    "numeric_cols = [\n",
    "    'transaction_amount', 'transaction_count',\n",
    "    'avg_temp',\n",
    "    'time_block_code', 'age_group_code',\n",
    "    'day_of_week', 'district_code'\n",
    "]\n",
    "\n",
    "# 데이터프레임에서 숫자형 열 추출\n",
    "corr_df = df[numeric_cols]\n",
    "\n",
    "# 상관관계 행렬 계산\n",
    "corr_matrix = corr_df.corr()\n",
    "\n",
    "# 히트맵 시각화\n",
    "plt.figure(figsize=(10, 8))\n",
    "sns.heatmap(corr_matrix, annot=True, cmap='coolwarm', fmt=\".2f\", square=True)\n",
    "plt.title(\"전체 수치형 변수 간 상관관계 히트맵\")\n",
    "plt.tight_layout()\n",
    "plt.show()"
   ],
   "id": "f45793aac5606f08",
   "outputs": [
    {
     "data": {
      "text/plain": [
       "<Figure size 1000x800 with 2 Axes>"
      ],
      "image/png": "[encoded data removed]"
     },
     "metadata": {},
     "output_type": "display_data"
    }
   ],
   "execution_count": 13
  },
  {
   "metadata": {
    "ExecuteTime": {
     "end_time": "2025-06-04T04:10:26.841670Z",
     "start_time": "2025-06-02T05:39:45.397528Z"
    }
   },
   "cell_type": "code",
   "source": [
    "# 상관계수 계산\n",
    "correlation_vars = ['transaction_amount', 'transaction_count', 'avg_temp']\n",
    "correlation_matrix = df[correlation_vars].corr()\n",
    "\n",
    "# 상관계수 히트맵\n",
    "plt.figure(figsize=(10, 8))\n",
    "sns.heatmap(correlation_matrix, annot=True, cmap='coolwarm', center=0,\n",
    "            square=True, fmt='.3f')\n",
    "plt.title('변수간 상관관계 히트맵')\n",
    "plt.show()\n",
    "\n",
    "\n",
    "# 통계적 유의성 검정\n",
    "print(\"📈 통계적 유의성 검정\")\n",
    "temp_amount_corr, temp_amount_p = stats.pearsonr(df['avg_temp'], df['transaction_amount'])\n",
    "print(f\"평균기온-매출 상관계수: {temp_amount_corr:.4f} (p-value: {temp_amount_p:.6f})\")\n",
    "\n",
    "temp_count_corr, temp_count_p = stats.pearsonr(df['avg_temp'], df['transaction_count'])\n",
    "print(f\"평균기온-거래건수 상관계수: {temp_count_corr:.4f} (p-value: {temp_count_p:.6f})\")"
   ],
   "id": "d0273e619dd99952",
   "outputs": [
    {
     "data": {
      "text/plain": [
       "<Figure size 1000x800 with 2 Axes>"
      ],
      "image/png": "[encoded data removed]"
     },
     "metadata": {},
     "output_type": "display_data"
    },
    {
     "name": "stdout",
     "output_type": "stream",
     "text": [
      "📈 통계적 유의성 검정\n",
      "평균기온-매출 상관계수: 0.0064 (p-value: 0.000000)\n",
      "평균기온-거래건수 상관계수: 0.0351 (p-value: 0.000000)\n",
      "\n"
     ]
    }
   ],
   "execution_count": 38
  },
  {
   "metadata": {
    "ExecuteTime": {
     "end_time": "2025-06-04T04:10:26.842252Z",
     "start_time": "2025-06-04T04:01:28.066493Z"
    }
   },
   "cell_type": "code",
   "source": [
    "X = df[['avg_temp', 'time_block_code', 'gender', 'age_group_code', 'day_of_week', 'district_code']]\n",
    "y = df['transaction_amount']\n",
    "\n",
    "categorical_features = ['gender', 'district_code']\n",
    "numeric_features = ['avg_temp', 'time_block_code', 'age_group_code', 'day_of_week']\n",
    "\n",
    "preprocessor = ColumnTransformer(\n",
    "    transformers=[\n",
    "        ('cat', OneHotEncoder(drop='first'), categorical_features)\n",
    "    ],\n",
    "    remainder='passthrough'\n",
    ")\n",
    "\n",
    "model = Pipeline(steps=[\n",
    "    ('preprocessor', preprocessor),\n",
    "    ('regressor', LinearRegression())\n",
    "])\n",
    "\n",
    "X_train, X_test, y_train, y_test = train_test_split(X, y, test_size=0.2, random_state=42)\n",
    "\n",
    "model.fit(X_train, y_train)\n",
    "\n",
    "y_pred = model.predict(X_test)\n",
    "\n",
    "mse = mean_squared_error(y_test, y_pred)\n",
    "rmse = np.sqrt(mse)\n",
    "r2 = r2_score(y_test, y_pred)\n",
    "\n",
    "print(\"모델 평가 결과:\")\n",
    "print(f\"RMSE: {rmse:.2f}\")\n",
    "print(f\"R² score: {r2:.4f}\")"
   ],
   "id": "7031ddfad4dd065a",
   "outputs": [
    {
     "name": "stdout",
     "output_type": "stream",
     "text": [
      "✅ 모델 평가 결과:\n",
      "RMSE: 450100.86\n",
      "R² score: 0.0148\n"
     ]
    }
   ],
   "execution_count": 32
  },
  {
   "metadata": {
    "ExecuteTime": {
     "end_time": "2025-06-04T04:10:26.848772Z",
     "start_time": "2025-05-30T00:40:19.490658Z"
    }
   },
   "cell_type": "code",
   "source": [
    "plt.figure(figsize=(12, 5))\n",
    "for i, col in enumerate(['transaction_amount', 'transaction_count']):\n",
    "    plt.subplot(1, 2, i+1)\n",
    "    sns.boxplot(y=df[col])\n",
    "    plt.title(f'{col}의 이상치 탐지')\n",
    "plt.tight_layout()\n",
    "plt.show()"
   ],
   "id": "8466cf5d994532cc",
   "outputs": [
    {
     "data": {
      "text/plain": [
       "<Figure size 1200x500 with 2 Axes>"
      ],
      "image/png": "[encoded data removed]"
     },
     "metadata": {},
     "output_type": "display_data"
    }
   ],
   "execution_count": 31
  },
  {
   "metadata": {
    "ExecuteTime": {
     "end_time": "2025-06-04T04:10:26.850044Z",
     "start_time": "2025-05-30T00:40:21.840537Z"
    }
   },
   "cell_type": "code",
   "source": [
    "def remove_outliers_iqr(df, columns):\n",
    "    mask = pd.Series([True] * len(df))\n",
    "    for col in columns:\n",
    "        Q1 = df[col].quantile(0.25)\n",
    "        Q3 = df[col].quantile(0.75)\n",
    "        IQR = Q3 - Q1\n",
    "        lower_bound = Q1 - 1.5 * IQR\n",
    "        upper_bound = Q3 + 1.5 * IQR\n",
    "        mask &= df[col].between(lower_bound, upper_bound)\n",
    "    return df[mask]"
   ],
   "id": "e086d5a8201b4b16",
   "outputs": [],
   "execution_count": 32
  },
  {
   "metadata": {
    "ExecuteTime": {
     "end_time": "2025-06-04T04:10:26.850716Z",
     "start_time": "2025-05-30T00:40:21.854917Z"
    }
   },
   "cell_type": "code",
   "source": [
    "target_cols = ['transaction_amount', 'transaction_count']\n",
    "\n",
    "# 이상치 제거된 데이터프레임 생성\n",
    "df_no_outliers = remove_outliers_iqr(df, target_cols)"
   ],
   "id": "2320ab65ca850991",
   "outputs": [],
   "execution_count": 33
  },
  {
   "metadata": {
    "ExecuteTime": {
     "end_time": "2025-06-04T04:10:26.851309Z",
     "start_time": "2025-05-30T00:41:00.238891Z"
    }
   },
   "cell_type": "code",
   "source": [
    "correlation_vars = ['transaction_amount', 'transaction_count',\n",
    "                    'avg_temp', 'max_temp', 'min_temp']\n",
    "\n",
    "# 상관계수 계산\n",
    "correlation_matrix = df_no_outliers[correlation_vars].corr()\n",
    "\n",
    "# 히트맵 시각화\n",
    "plt.figure(figsize=(10, 8))\n",
    "sns.heatmap(correlation_matrix, annot=True, cmap='coolwarm', center=0,\n",
    "            square=True, fmt='.3f')\n",
    "plt.title('이상치 제거 후 변수간 상관관계 히트맵')\n",
    "plt.show()"
   ],
   "id": "b45b5637c4e62f3c",
   "outputs": [
    {
     "data": {
      "text/plain": [
       "<Figure size 1000x800 with 2 Axes>"
      ],
      "image/png": "[encoded data removed]"
     },
     "metadata": {},
     "output_type": "display_data"
    }
   ],
   "execution_count": 36
  },
  {
   "metadata": {
    "ExecuteTime": {
     "end_time": "2025-06-04T04:10:26.851917Z",
     "start_time": "2025-06-02T06:03:51.799657Z"
    }
   },
   "cell_type": "code",
   "source": [
    "df['transaction_date'] = pd.to_datetime(df['transaction_date'])\n",
    "\n",
    "# 고객 기준 최근 7일 누적 소비 금액\n",
    "df = df.sort_values(by=['gender', 'age_group_code', 'transaction_date'])  # 고객 proxy: sex + age\n",
    "df['past_7day_amt'] = df.groupby(['gender', 'age_group_code'])['transaction_amount'].transform(lambda x: x.rolling(window=7, min_periods=1).sum())\n",
    "\n",
    "# 고객 기준 최근 30일 누적 구매 횟수\n",
    "df['past_30day_cnt'] = df.groupby(['gender', 'age_group_code'])['transaction_count'].transform(lambda x: x.rolling(window=30, min_periods=1).sum())\n",
    "\n",
    "# 고객의 평균 방문당 지출 금액\n",
    "df['mean_amt_per_visit'] = df['transaction_amount'] / (df['transaction_count'] + 1e-5)  # 분모 0 방지\n"
   ],
   "id": "4b79962b14dc163a",
   "outputs": [],
   "execution_count": 45
  },
  {
   "metadata": {
    "ExecuteTime": {
     "end_time": "2025-06-04T04:10:26.852501Z",
     "start_time": "2025-06-02T06:11:31.286318Z"
    }
   },
   "cell_type": "code",
   "source": [
    "df.groupby('day_of_week')['transaction_amount'].describe()\n",
    "df"
   ],
   "id": "c9494022e1f723e2",
   "outputs": [
    {
     "data": {
      "text/plain": [
       "        transaction_date  district_code district_name  time_block_code gender  \\\n",
       "304918        2025-01-20          41111           장안구                6      F   \n",
       "763660        2025-02-27          41113           권선구                7      F   \n",
       "97371         2024-04-01          41111           장안구                1      F   \n",
       "97377         2024-04-01          41111           장안구                2      F   \n",
       "97415         2024-04-01          41111           장안구                5      F   \n",
       "...                  ...            ...           ...              ...    ...   \n",
       "1476275       2024-06-16          41117           영통구                4      M   \n",
       "1408623       2024-07-24          41117           영통구                9      M   \n",
       "1226986       2024-10-02          41117           영통구                6      M   \n",
       "1349282       2024-11-06          41117           영통구                6      M   \n",
       "293690        2025-01-08          41111           장안구                6      M   \n",
       "\n",
       "         age_group_code  day_of_week  transaction_amount  transaction_count  \\\n",
       "304918                1            1                1564                  2   \n",
       "763660                1            4                5163                  2   \n",
       "97371                 2            1                 782                  2   \n",
       "97377                 2            1               13927                  6   \n",
       "97415                 2            1               16286                  3   \n",
       "...                 ...          ...                 ...                ...   \n",
       "1476275              11            7                8448                  2   \n",
       "1408623              11            3               18773                  2   \n",
       "1226986              11            3               18773                  2   \n",
       "1349282              11            3               16896                  2   \n",
       "293690               11            3              217459                  2   \n",
       "\n",
       "         avg_temp  past_7day_amt  past_30day_cnt  mean_amt_per_visit  \n",
       "304918    1.62220         1564.0             2.0          781.996090  \n",
       "763660    6.40588         6727.0             4.0         2581.487093  \n",
       "97371    10.71700          782.0             2.0          390.998045  \n",
       "97377    10.71700        14709.0             8.0         2321.162798  \n",
       "97415    10.71700        30995.0            11.0         5428.648571  \n",
       "...           ...            ...             ...                 ...  \n",
       "1476275  22.58230        31133.0             4.0         4223.978880  \n",
       "1408623  27.07770        49906.0             6.0         9386.453068  \n",
       "1226986  14.49680        68679.0             8.0         9386.453068  \n",
       "1349282   6.90411        85575.0            10.0         8447.957760  \n",
       "293690   -9.57600       303034.0            12.0       108728.956355  \n",
       "\n",
       "[1603322 rows x 13 columns]"
      ],
      "text/html": [
       "<div>\n",
       "<style scoped>\n",
       "    .dataframe tbody tr th:only-of-type {\n",
       "        vertical-align: middle;\n",
       "    }\n",
       "\n",
       "    .dataframe tbody tr th {\n",
       "        vertical-align: top;\n",
       "    }\n",
       "\n",
       "    .dataframe thead th {\n",
       "        text-align: right;\n",
       "    }\n",
       "</style>\n",
       "<table border=\"1\" class=\"dataframe\">\n",
       "  <thead>\n",
       "    <tr style=\"text-align: right;\">\n",
       "      <th></th>\n",
       "      <th>transaction_date</th>\n",
       "      <th>district_code</th>\n",
       "      <th>district_name</th>\n",
       "      <th>time_block_code</th>\n",
       "      <th>gender</th>\n",
       "      <th>age_group_code</th>\n",
       "      <th>day_of_week</th>\n",
       "      <th>transaction_amount</th>\n",
       "      <th>transaction_count</th>\n",
       "      <th>avg_temp</th>\n",
       "      <th>past_7day_amt</th>\n",
       "      <th>past_30day_cnt</th>\n",
       "      <th>mean_amt_per_visit</th>\n",
       "    </tr>\n",
       "  </thead>\n",
       "  <tbody>\n",
       "    <tr>\n",
       "      <th>304918</th>\n",
       "      <td>2025-01-20</td>\n",
       "      <td>41111</td>\n",
       "      <td>장안구</td>\n",
       "      <td>6</td>\n",
       "      <td>F</td>\n",
       "      <td>1</td>\n",
       "      <td>1</td>\n",
       "      <td>1564</td>\n",
       "      <td>2</td>\n",
       "      <td>1.62220</td>\n",
       "      <td>1564.0</td>\n",
       "      <td>2.0</td>\n",
       "      <td>781.996090</td>\n",
       "    </tr>\n",
       "    <tr>\n",
       "      <th>763660</th>\n",
       "      <td>2025-02-27</td>\n",
       "      <td>41113</td>\n",
       "      <td>권선구</td>\n",
       "      <td>7</td>\n",
       "      <td>F</td>\n",
       "      <td>1</td>\n",
       "      <td>4</td>\n",
       "      <td>5163</td>\n",
       "      <td>2</td>\n",
       "      <td>6.40588</td>\n",
       "      <td>6727.0</td>\n",
       "      <td>4.0</td>\n",
       "      <td>2581.487093</td>\n",
       "    </tr>\n",
       "    <tr>\n",
       "      <th>97371</th>\n",
       "      <td>2024-04-01</td>\n",
       "      <td>41111</td>\n",
       "      <td>장안구</td>\n",
       "      <td>1</td>\n",
       "      <td>F</td>\n",
       "      <td>2</td>\n",
       "      <td>1</td>\n",
       "      <td>782</td>\n",
       "      <td>2</td>\n",
       "      <td>10.71700</td>\n",
       "      <td>782.0</td>\n",
       "      <td>2.0</td>\n",
       "      <td>390.998045</td>\n",
       "    </tr>\n",
       "    <tr>\n",
       "      <th>97377</th>\n",
       "      <td>2024-04-01</td>\n",
       "      <td>41111</td>\n",
       "      <td>장안구</td>\n",
       "      <td>2</td>\n",
       "      <td>F</td>\n",
       "      <td>2</td>\n",
       "      <td>1</td>\n",
       "      <td>13927</td>\n",
       "      <td>6</td>\n",
       "      <td>10.71700</td>\n",
       "      <td>14709.0</td>\n",
       "      <td>8.0</td>\n",
       "      <td>2321.162798</td>\n",
       "    </tr>\n",
       "    <tr>\n",
       "      <th>97415</th>\n",
       "      <td>2024-04-01</td>\n",
       "      <td>41111</td>\n",
       "      <td>장안구</td>\n",
       "      <td>5</td>\n",
       "      <td>F</td>\n",
       "      <td>2</td>\n",
       "      <td>1</td>\n",
       "      <td>16286</td>\n",
       "      <td>3</td>\n",
       "      <td>10.71700</td>\n",
       "      <td>30995.0</td>\n",
       "      <td>11.0</td>\n",
       "      <td>5428.648571</td>\n",
       "    </tr>\n",
       "    <tr>\n",
       "      <th>...</th>\n",
       "      <td>...</td>\n",
       "      <td>...</td>\n",
       "      <td>...</td>\n",
       "      <td>...</td>\n",
       "      <td>...</td>\n",
       "      <td>...</td>\n",
       "      <td>...</td>\n",
       "      <td>...</td>\n",
       "      <td>...</td>\n",
       "      <td>...</td>\n",
       "      <td>...</td>\n",
       "      <td>...</td>\n",
       "      <td>...</td>\n",
       "    </tr>\n",
       "    <tr>\n",
       "      <th>1476275</th>\n",
       "      <td>2024-06-16</td>\n",
       "      <td>41117</td>\n",
       "      <td>영통구</td>\n",
       "      <td>4</td>\n",
       "      <td>M</td>\n",
       "      <td>11</td>\n",
       "      <td>7</td>\n",
       "      <td>8448</td>\n",
       "      <td>2</td>\n",
       "      <td>22.58230</td>\n",
       "      <td>31133.0</td>\n",
       "      <td>4.0</td>\n",
       "      <td>4223.978880</td>\n",
       "    </tr>\n",
       "    <tr>\n",
       "      <th>1408623</th>\n",
       "      <td>2024-07-24</td>\n",
       "      <td>41117</td>\n",
       "      <td>영통구</td>\n",
       "      <td>9</td>\n",
       "      <td>M</td>\n",
       "      <td>11</td>\n",
       "      <td>3</td>\n",
       "      <td>18773</td>\n",
       "      <td>2</td>\n",
       "      <td>27.07770</td>\n",
       "      <td>49906.0</td>\n",
       "      <td>6.0</td>\n",
       "      <td>9386.453068</td>\n",
       "    </tr>\n",
       "    <tr>\n",
       "      <th>1226986</th>\n",
       "      <td>2024-10-02</td>\n",
       "      <td>41117</td>\n",
       "      <td>영통구</td>\n",
       "      <td>6</td>\n",
       "      <td>M</td>\n",
       "      <td>11</td>\n",
       "      <td>3</td>\n",
       "      <td>18773</td>\n",
       "      <td>2</td>\n",
       "      <td>14.49680</td>\n",
       "      <td>68679.0</td>\n",
       "      <td>8.0</td>\n",
       "      <td>9386.453068</td>\n",
       "    </tr>\n",
       "    <tr>\n",
       "      <th>1349282</th>\n",
       "      <td>2024-11-06</td>\n",
       "      <td>41117</td>\n",
       "      <td>영통구</td>\n",
       "      <td>6</td>\n",
       "      <td>M</td>\n",
       "      <td>11</td>\n",
       "      <td>3</td>\n",
       "      <td>16896</td>\n",
       "      <td>2</td>\n",
       "      <td>6.90411</td>\n",
       "      <td>85575.0</td>\n",
       "      <td>10.0</td>\n",
       "      <td>8447.957760</td>\n",
       "    </tr>\n",
       "    <tr>\n",
       "      <th>293690</th>\n",
       "      <td>2025-01-08</td>\n",
       "      <td>41111</td>\n",
       "      <td>장안구</td>\n",
       "      <td>6</td>\n",
       "      <td>M</td>\n",
       "      <td>11</td>\n",
       "      <td>3</td>\n",
       "      <td>217459</td>\n",
       "      <td>2</td>\n",
       "      <td>-9.57600</td>\n",
       "      <td>303034.0</td>\n",
       "      <td>12.0</td>\n",
       "      <td>108728.956355</td>\n",
       "    </tr>\n",
       "  </tbody>\n",
       "</table>\n",
       "<p>1603322 rows × 13 columns</p>\n",
       "</div>"
      ]
     },
     "execution_count": 46,
     "metadata": {},
     "output_type": "execute_result"
    }
   ],
   "execution_count": 46
  },
  {
   "metadata": {},
   "cell_type": "markdown",
   "source": "## 요일(X:day_of_week)에 따른 평균 커피 매출(y: amt) 은 영향이 없다.",
   "id": "f6ad47f8901f6446"
  },
  {
   "metadata": {
    "ExecuteTime": {
     "end_time": "2025-06-04T04:10:26.853547Z",
     "start_time": "2025-05-30T05:24:57.344768Z"
    }
   },
   "cell_type": "code",
   "source": [
    "print(\"=== 요일별 매출 현황 ===\")\n",
    "daily_stats = df.groupby('day_of_week')['transaction_amount'].agg([\n",
    "    'count', 'mean', 'median', 'std', 'min', 'max'\n",
    "])\n",
    "print(daily_stats)\n",
    "\n",
    "# 실질적 차이 크기\n",
    "daily_mean = df.groupby('day_of_week')['transaction_amount'].mean()\n",
    "print(f\"\\n최고 vs 최저 매출 차이: {daily_mean.max() - daily_mean.min():,.0f}원\")\n",
    "print(f\"상대적 차이: {(daily_mean.max() / daily_mean.min() - 1) * 100:.1f}%\")"
   ],
   "id": "3056746afc49fd51",
   "outputs": [
    {
     "name": "stdout",
     "output_type": "stream",
     "text": [
      "=== 요일별 매출 현황 ===\n",
      "              count           mean   median            std  min       max\n",
      "day_of_week                                                              \n",
      "1            230486  149324.463061  46413.5  376978.947870   78  36056981\n",
      "2            226344  152953.161648  48032.5  363667.786231    0  30926732\n",
      "3            227411  166518.077138  50063.0  447447.609970   47  54603977\n",
      "4            228312  159682.488485  49110.5  392710.464240   14  33031231\n",
      "5            233617  170925.519829  53159.0  395002.485975   47  23394538\n",
      "6            233557  230450.491255  63406.0  591265.036788   94  17697419\n",
      "7            223595  210960.372965  56300.0  577198.120049   94  20785693\n",
      "\n",
      "최고 vs 최저 매출 차이: 81,126원\n",
      "상대적 차이: 54.3%\n"
     ]
    }
   ],
   "execution_count": 113
  },
  {
   "metadata": {
    "ExecuteTime": {
     "end_time": "2025-06-04T04:10:26.854568Z",
     "start_time": "2025-05-30T02:44:10.554690Z"
    }
   },
   "cell_type": "code",
   "source": [
    "groups = [group['transaction_amount'].values for name, group in df.groupby('day_of_week')]\n",
    "day_names = ['월', '화', '수', '목', '금', '토', '일']\n",
    "\n",
    "# 모든 요일 쌍에 대해 t-검정\n",
    "for i, j in combinations(range(7), 2):\n",
    "    t_stat, p_val = stats.ttest_ind(groups[i], groups[j])\n",
    "    if p_val < 0.05:\n",
    "        print(f'{day_names[i]}요일 vs {day_names[j]}요일: 유의한 차이 (p={p_val:.6f})')"
   ],
   "id": "fefaa6cc3522bbb5",
   "outputs": [
    {
     "name": "stdout",
     "output_type": "stream",
     "text": [
      "월요일 vs 화요일: 유의한 차이 (p=0.000932)\n",
      "월요일 vs 수요일: 유의한 차이 (p=0.000000)\n",
      "월요일 vs 목요일: 유의한 차이 (p=0.000000)\n",
      "월요일 vs 금요일: 유의한 차이 (p=0.000000)\n",
      "월요일 vs 토요일: 유의한 차이 (p=0.000000)\n",
      "월요일 vs 일요일: 유의한 차이 (p=0.000000)\n",
      "화요일 vs 수요일: 유의한 차이 (p=0.000000)\n",
      "화요일 vs 목요일: 유의한 차이 (p=0.000000)\n",
      "화요일 vs 금요일: 유의한 차이 (p=0.000000)\n",
      "화요일 vs 토요일: 유의한 차이 (p=0.000000)\n",
      "화요일 vs 일요일: 유의한 차이 (p=0.000000)\n",
      "수요일 vs 목요일: 유의한 차이 (p=0.000000)\n",
      "수요일 vs 금요일: 유의한 차이 (p=0.000388)\n",
      "수요일 vs 토요일: 유의한 차이 (p=0.000000)\n",
      "수요일 vs 일요일: 유의한 차이 (p=0.000000)\n",
      "목요일 vs 금요일: 유의한 차이 (p=0.000000)\n",
      "목요일 vs 토요일: 유의한 차이 (p=0.000000)\n",
      "목요일 vs 일요일: 유의한 차이 (p=0.000000)\n",
      "금요일 vs 토요일: 유의한 차이 (p=0.000000)\n",
      "금요일 vs 일요일: 유의한 차이 (p=0.000000)\n",
      "토요일 vs 일요일: 유의한 차이 (p=0.000000)\n"
     ]
    }
   ],
   "execution_count": 77
  },
  {
   "metadata": {
    "ExecuteTime": {
     "end_time": "2025-06-04T04:10:26.855276Z",
     "start_time": "2025-05-30T01:56:24.435868Z"
    }
   },
   "cell_type": "code",
   "source": [
    "# 1-1. 요일별 매출 분포 박스플롯\n",
    "plt.figure(figsize=(12, 6))\n",
    "plt.subplot(1, 2, 1)\n",
    "sns.boxplot(data=df, x='day_of_week', y='transaction_amount')\n",
    "plt.title('요일별 매출 분포')\n",
    "plt.xticks(range(7), ['월', '화', '수', '목', '금', '토', '일'])\n",
    "\n",
    "# 1-2. 요일별 평균 매출 막대그래프\n",
    "plt.subplot(1, 2, 2)\n",
    "daily_avg = df.groupby('day_of_week')['transaction_amount'].mean()\n",
    "daily_avg.plot(kind='bar', color=['red' if i < 5 else 'blue' for i in range(7)])\n",
    "plt.title('요일별 평균 매출')\n",
    "plt.xticks(range(7), ['월', '화', '수', '목', '금', '토', '일'], rotation=0)\n",
    "plt.ylabel('평균 매출 (원)')\n",
    "plt.tight_layout()\n",
    "plt.show()"
   ],
   "id": "1d93a88a53260f37",
   "outputs": [
    {
     "data": {
      "text/plain": [
       "<Figure size 1200x600 with 2 Axes>"
      ],
      "image/png": "[encoded data removed]"
     },
     "metadata": {},
     "output_type": "display_data"
    }
   ],
   "execution_count": 71
  },
  {
   "metadata": {
    "ExecuteTime": {
     "end_time": "2025-06-04T04:10:26.855921Z",
     "start_time": "2025-05-30T05:02:32.401281Z"
    }
   },
   "cell_type": "code",
   "source": [
    "groups = [group['transaction_amount'].values for name, group in df.groupby('day_of_week')]\n",
    "day_names = ['월', '화', '수', '목', '금', '토', '일']\n",
    "\n",
    "# 모든 요일 쌍에 대해 t-검정\n",
    "for i, j in combinations(range(7), 2):\n",
    "    t_stat, p_val = stats.ttest_ind(groups[i], groups[j])\n",
    "    if p_val < 0.05:\n",
    "        print(f'{day_names[i]}요일 vs {day_names[j]}요일: 유의한 차이 (p={p_val:.6f})')\n"
   ],
   "id": "393b057ae9a6995b",
   "outputs": [
    {
     "name": "stdout",
     "output_type": "stream",
     "text": [
      "월요일 vs 화요일: 유의한 차이 (p=0.000932)\n",
      "월요일 vs 수요일: 유의한 차이 (p=0.000000)\n",
      "월요일 vs 목요일: 유의한 차이 (p=0.000000)\n",
      "월요일 vs 금요일: 유의한 차이 (p=0.000000)\n",
      "월요일 vs 토요일: 유의한 차이 (p=0.000000)\n",
      "월요일 vs 일요일: 유의한 차이 (p=0.000000)\n",
      "화요일 vs 수요일: 유의한 차이 (p=0.000000)\n",
      "화요일 vs 목요일: 유의한 차이 (p=0.000000)\n",
      "화요일 vs 금요일: 유의한 차이 (p=0.000000)\n",
      "화요일 vs 토요일: 유의한 차이 (p=0.000000)\n",
      "화요일 vs 일요일: 유의한 차이 (p=0.000000)\n",
      "수요일 vs 목요일: 유의한 차이 (p=0.000000)\n",
      "수요일 vs 금요일: 유의한 차이 (p=0.000388)\n",
      "수요일 vs 토요일: 유의한 차이 (p=0.000000)\n",
      "수요일 vs 일요일: 유의한 차이 (p=0.000000)\n",
      "목요일 vs 금요일: 유의한 차이 (p=0.000000)\n",
      "목요일 vs 토요일: 유의한 차이 (p=0.000000)\n",
      "목요일 vs 일요일: 유의한 차이 (p=0.000000)\n",
      "금요일 vs 토요일: 유의한 차이 (p=0.000000)\n",
      "금요일 vs 일요일: 유의한 차이 (p=0.000000)\n",
      "토요일 vs 일요일: 유의한 차이 (p=0.000000)\n"
     ]
    }
   ],
   "execution_count": 102
  },
  {
   "metadata": {
    "ExecuteTime": {
     "end_time": "2025-06-04T04:10:26.856523Z",
     "start_time": "2025-05-30T05:03:05.787770Z"
    }
   },
   "cell_type": "code",
   "source": [
    "# 분산 분석\n",
    "f_stat, p_value = stats.f_oneway(*[group['transaction_amount'].values\n",
    "                                   for name, group in df.groupby('day_of_week')])\n",
    "print(f'F-statistic: {f_stat}, p-value: {p_value}')"
   ],
   "id": "f29f51b0c3814f2e",
   "outputs": [
    {
     "name": "stdout",
     "output_type": "stream",
     "text": [
      "F-statistic: 1061.2332676886479, p-value: 0.0\n"
     ]
    }
   ],
   "execution_count": 104
  },
  {
   "metadata": {
    "ExecuteTime": {
     "end_time": "2025-06-04T04:10:26.857110Z",
     "start_time": "2025-05-30T05:11:57.283949Z"
    }
   },
   "cell_type": "code",
   "source": [
    "#회귀 분석\n",
    "df_regression = pd.get_dummies(df, columns=['day_of_week', 'gender', 'age_group_code', 'time_block_code'])\n",
    "\n",
    "X = df_regression.drop(['transaction_amount', 'transaction_date', 'district_code', 'district_name'], axis=1)\n",
    "y = df_regression['transaction_amount']\n"
   ],
   "id": "866ce7b4aaef7e6d",
   "outputs": [
    {
     "name": "stdout",
     "output_type": "stream",
     "text": [
      "독립변수 개수: 36\n",
      "샘플 개수: 1603322\n",
      "주요 독립변수들:\n",
      "['transaction_count', 'avg_temp', 'max_temp', 'min_temp', 'amount_per_txn', 'temp_range', 'day_of_week_1', 'day_of_week_2', 'day_of_week_3', 'day_of_week_4']\n"
     ]
    }
   ],
   "execution_count": 108
  },
  {
   "metadata": {
    "ExecuteTime": {
     "end_time": "2025-06-04T04:10:26.857673Z",
     "start_time": "2025-05-30T05:21:03.119223Z"
    }
   },
   "cell_type": "code",
   "source": [
    "model = LinearRegression()\n",
    "model.fit(X, y)\n",
    "\n",
    "# 요일 변수들의 회귀계수 추출\n",
    "day_coefficients = {}\n",
    "for col in X.columns:\n",
    "    if 'day_of_week' in col:\n",
    "        coef_index = list(X.columns).index(col)\n",
    "        day_coefficients[col] = model.coef_[coef_index]\n",
    "\n",
    "print(\"요일별 회귀계수 (다른 조건 동일할 때 매출 차이):\")\n",
    "for day, coef in sorted(day_coefficients.items()):\n",
    "    day_num = day.split('_')[-1]\n",
    "    print(f\"요일 {day_num}: {coef:,.0f}원\")"
   ],
   "id": "d95bcd55180905aa",
   "outputs": [
    {
     "name": "stdout",
     "output_type": "stream",
     "text": [
      "요일별 회귀계수 (다른 조건 동일할 때 매출 차이):\n",
      "요일 1: -12,433원\n",
      "요일 2: -10,581원\n",
      "요일 3: -5,070원\n",
      "요일 4: -8,383원\n",
      "요일 5: -4,898원\n",
      "요일 6: 22,147원\n",
      "요일 7: 19,218원\n"
     ]
    }
   ],
   "execution_count": 111
  },
  {
   "metadata": {
    "ExecuteTime": {
     "end_time": "2025-06-04T04:10:26.858223Z",
     "start_time": "2025-05-30T05:21:20.039346Z"
    }
   },
   "cell_type": "code",
   "source": [
    "X_no_day = X[[col for col in X.columns if 'day_of_week' not in col]]\n",
    "model_no_day = LinearRegression()\n",
    "model_no_day.fit(X_no_day, y)\n",
    "\n",
    "# 모델 성능 비교\n",
    "r2_full = model.score(X, y)        # 요일 포함 모델의 설명력\n",
    "r2_no_day = model_no_day.score(X_no_day, y)  # 요일 제외 모델의 설명력\n",
    "\n",
    "day_contribution = r2_full - r2_no_day\n",
    "\n",
    "print(f\"전체 모델 설명력 (R²): {r2_full:.4f}\")\n",
    "print(f\"요일 제외 모델 설명력 (R²): {r2_no_day:.4f}\")\n",
    "print(f\"요일 변수의 순수 기여도: {day_contribution:.4f}\")\n",
    "print(f\"요일 변수의 기여 비율: {day_contribution/r2_full*100:.1f}%\")"
   ],
   "id": "1e43f06c5982b5c",
   "outputs": [
    {
     "name": "stdout",
     "output_type": "stream",
     "text": [
      "전체 모델 설명력 (R²): 0.4816\n",
      "요일 제외 모델 설명력 (R²): 0.4807\n",
      "요일 변수의 순수 기여도: 0.0008\n",
      "요일 변수의 기여 비율: 0.2%\n"
     ]
    }
   ],
   "execution_count": 112
  },
  {
   "metadata": {},
   "cell_type": "markdown",
   "source": "## \"연령대별 매출 소비 수준에 차이가 없다:",
   "id": "ba48a3e561f1c118"
  },
  {
   "metadata": {
    "ExecuteTime": {
     "end_time": "2025-06-04T04:10:26.858754Z",
     "start_time": "2025-05-30T05:03:07.588233Z"
    }
   },
   "cell_type": "code",
   "source": [
    "# 1-1. 연령대 현황 파악\n",
    "print(\"1. 연령대별 기본 현황:\")\n",
    "age_counts = df['age_group_code'].value_counts().sort_index()\n",
    "print(\"연령대별 고객 수:\")\n",
    "for age_code, count in age_counts.items():\n",
    "    percentage = count / len(df) * 100\n",
    "    print(f\"연령대 {age_code}: {count:,}명 ({percentage:.1f}%)\")"
   ],
   "id": "61d61460c3d24b1e",
   "outputs": [
    {
     "name": "stdout",
     "output_type": "stream",
     "text": [
      "1. 연령대별 기본 현황:\n",
      "연령대별 고객 수:\n",
      "연령대 1: 2명 (0.0%)\n",
      "연령대 2: 103,729명 (6.5%)\n",
      "연령대 3: 281,578명 (17.6%)\n",
      "연령대 4: 282,196명 (17.6%)\n",
      "연령대 5: 279,431명 (17.4%)\n",
      "연령대 6: 273,802명 (17.1%)\n",
      "연령대 7: 225,341명 (14.1%)\n",
      "연령대 8: 118,600명 (7.4%)\n",
      "연령대 9: 36,622명 (2.3%)\n",
      "연령대 10: 2,014명 (0.1%)\n",
      "연령대 11: 7명 (0.0%)\n"
     ]
    }
   ],
   "execution_count": 105
  },
  {
   "metadata": {
    "ExecuteTime": {
     "end_time": "2025-06-04T04:10:26.859268Z",
     "start_time": "2025-05-30T05:29:52.744709Z"
    }
   },
   "cell_type": "code",
   "source": [
    "age_stats = df.groupby('age_group_code')['transaction_amount'].describe()\n",
    "age_stats"
   ],
   "id": "80b9bd1e94d820c5",
   "outputs": [
    {
     "data": {
      "text/plain": [
       "                   count           mean            std     min       25%  \\\n",
       "age_group_code                                                             \n",
       "1                    2.0    3363.500000    2544.877305  1564.0   2463.75   \n",
       "2               103729.0   20834.771453   41762.472343    78.0   4693.00   \n",
       "3               281578.0  177927.642781  349408.194838   152.0  18398.00   \n",
       "4               282196.0  244193.144038  505541.735005    14.0  29881.00   \n",
       "5               279431.0  271524.629579  661975.492036    94.0  32090.00   \n",
       "6               273802.0  212304.141467  523778.331077   141.0  27901.00   \n",
       "7               225341.0  103323.008520  298783.046045     0.0  14659.00   \n",
       "8               118600.0   40996.321821  122840.893255    47.0   6884.00   \n",
       "9                36622.0   25192.532822   81464.113400    16.0   5365.00   \n",
       "10                2014.0   22399.358491   79064.077333   297.0   4693.00   \n",
       "11                   7.0   45302.000000   76045.017869  8448.0  15488.00   \n",
       "\n",
       "                    50%        75%         max  \n",
       "age_group_code                                  \n",
       "1                3363.5    4263.25      5163.0  \n",
       "2                9800.0   22997.00   7571965.0  \n",
       "3               55220.0  170953.75  17697419.0  \n",
       "4               84861.0  244936.00  33031231.0  \n",
       "5               95081.0  268371.50  54603977.0  \n",
       "6               82654.0  213878.75  28823436.0  \n",
       "7               39916.0   97677.00  16919934.0  \n",
       "8               16270.0   36995.00   7826580.0  \n",
       "9               11264.0   23467.00   4780976.0  \n",
       "10               9387.0   20025.00   1815144.0  \n",
       "11              18773.0   20729.00    217459.0  "
      ],
      "text/html": [
       "<div>\n",
       "<style scoped>\n",
       "    .dataframe tbody tr th:only-of-type {\n",
       "        vertical-align: middle;\n",
       "    }\n",
       "\n",
       "    .dataframe tbody tr th {\n",
       "        vertical-align: top;\n",
       "    }\n",
       "\n",
       "    .dataframe thead th {\n",
       "        text-align: right;\n",
       "    }\n",
       "</style>\n",
       "<table border=\"1\" class=\"dataframe\">\n",
       "  <thead>\n",
       "    <tr style=\"text-align: right;\">\n",
       "      <th></th>\n",
       "      <th>count</th>\n",
       "      <th>mean</th>\n",
       "      <th>std</th>\n",
       "      <th>min</th>\n",
       "      <th>25%</th>\n",
       "      <th>50%</th>\n",
       "      <th>75%</th>\n",
       "      <th>max</th>\n",
       "    </tr>\n",
       "    <tr>\n",
       "      <th>age_group_code</th>\n",
       "      <th></th>\n",
       "      <th></th>\n",
       "      <th></th>\n",
       "      <th></th>\n",
       "      <th></th>\n",
       "      <th></th>\n",
       "      <th></th>\n",
       "      <th></th>\n",
       "    </tr>\n",
       "  </thead>\n",
       "  <tbody>\n",
       "    <tr>\n",
       "      <th>1</th>\n",
       "      <td>2.0</td>\n",
       "      <td>3363.500000</td>\n",
       "      <td>2544.877305</td>\n",
       "      <td>1564.0</td>\n",
       "      <td>2463.75</td>\n",
       "      <td>3363.5</td>\n",
       "      <td>4263.25</td>\n",
       "      <td>5163.0</td>\n",
       "    </tr>\n",
       "    <tr>\n",
       "      <th>2</th>\n",
       "      <td>103729.0</td>\n",
       "      <td>20834.771453</td>\n",
       "      <td>41762.472343</td>\n",
       "      <td>78.0</td>\n",
       "      <td>4693.00</td>\n",
       "      <td>9800.0</td>\n",
       "      <td>22997.00</td>\n",
       "      <td>7571965.0</td>\n",
       "    </tr>\n",
       "    <tr>\n",
       "      <th>3</th>\n",
       "      <td>281578.0</td>\n",
       "      <td>177927.642781</td>\n",
       "      <td>349408.194838</td>\n",
       "      <td>152.0</td>\n",
       "      <td>18398.00</td>\n",
       "      <td>55220.0</td>\n",
       "      <td>170953.75</td>\n",
       "      <td>17697419.0</td>\n",
       "    </tr>\n",
       "    <tr>\n",
       "      <th>4</th>\n",
       "      <td>282196.0</td>\n",
       "      <td>244193.144038</td>\n",
       "      <td>505541.735005</td>\n",
       "      <td>14.0</td>\n",
       "      <td>29881.00</td>\n",
       "      <td>84861.0</td>\n",
       "      <td>244936.00</td>\n",
       "      <td>33031231.0</td>\n",
       "    </tr>\n",
       "    <tr>\n",
       "      <th>5</th>\n",
       "      <td>279431.0</td>\n",
       "      <td>271524.629579</td>\n",
       "      <td>661975.492036</td>\n",
       "      <td>94.0</td>\n",
       "      <td>32090.00</td>\n",
       "      <td>95081.0</td>\n",
       "      <td>268371.50</td>\n",
       "      <td>54603977.0</td>\n",
       "    </tr>\n",
       "    <tr>\n",
       "      <th>6</th>\n",
       "      <td>273802.0</td>\n",
       "      <td>212304.141467</td>\n",
       "      <td>523778.331077</td>\n",
       "      <td>141.0</td>\n",
       "      <td>27901.00</td>\n",
       "      <td>82654.0</td>\n",
       "      <td>213878.75</td>\n",
       "      <td>28823436.0</td>\n",
       "    </tr>\n",
       "    <tr>\n",
       "      <th>7</th>\n",
       "      <td>225341.0</td>\n",
       "      <td>103323.008520</td>\n",
       "      <td>298783.046045</td>\n",
       "      <td>0.0</td>\n",
       "      <td>14659.00</td>\n",
       "      <td>39916.0</td>\n",
       "      <td>97677.00</td>\n",
       "      <td>16919934.0</td>\n",
       "    </tr>\n",
       "    <tr>\n",
       "      <th>8</th>\n",
       "      <td>118600.0</td>\n",
       "      <td>40996.321821</td>\n",
       "      <td>122840.893255</td>\n",
       "      <td>47.0</td>\n",
       "      <td>6884.00</td>\n",
       "      <td>16270.0</td>\n",
       "      <td>36995.00</td>\n",
       "      <td>7826580.0</td>\n",
       "    </tr>\n",
       "    <tr>\n",
       "      <th>9</th>\n",
       "      <td>36622.0</td>\n",
       "      <td>25192.532822</td>\n",
       "      <td>81464.113400</td>\n",
       "      <td>16.0</td>\n",
       "      <td>5365.00</td>\n",
       "      <td>11264.0</td>\n",
       "      <td>23467.00</td>\n",
       "      <td>4780976.0</td>\n",
       "    </tr>\n",
       "    <tr>\n",
       "      <th>10</th>\n",
       "      <td>2014.0</td>\n",
       "      <td>22399.358491</td>\n",
       "      <td>79064.077333</td>\n",
       "      <td>297.0</td>\n",
       "      <td>4693.00</td>\n",
       "      <td>9387.0</td>\n",
       "      <td>20025.00</td>\n",
       "      <td>1815144.0</td>\n",
       "    </tr>\n",
       "    <tr>\n",
       "      <th>11</th>\n",
       "      <td>7.0</td>\n",
       "      <td>45302.000000</td>\n",
       "      <td>76045.017869</td>\n",
       "      <td>8448.0</td>\n",
       "      <td>15488.00</td>\n",
       "      <td>18773.0</td>\n",
       "      <td>20729.00</td>\n",
       "      <td>217459.0</td>\n",
       "    </tr>\n",
       "  </tbody>\n",
       "</table>\n",
       "</div>"
      ]
     },
     "execution_count": 114,
     "metadata": {},
     "output_type": "execute_result"
    }
   ],
   "execution_count": 114
  },
  {
   "metadata": {
    "ExecuteTime": {
     "end_time": "2025-06-04T04:10:26.859842Z",
     "start_time": "2025-05-30T03:20:29.381890Z"
    }
   },
   "cell_type": "code",
   "source": [
    "age_mean = df.groupby('age_group_code')['transaction_amount'].mean().sort_values(ascending=False)\n",
    "for i, (age_code, avg_amount) in enumerate(age_mean.items(), 1):\n",
    "    print(f\"{i}위. 연령대 {age_code}: {avg_amount:,.0f}원\")"
   ],
   "id": "9f286d1aa8a02944",
   "outputs": [
    {
     "name": "stdout",
     "output_type": "stream",
     "text": [
      "1위. 연령대 5: 271,525원\n",
      "2위. 연령대 4: 244,193원\n",
      "3위. 연령대 6: 212,304원\n",
      "4위. 연령대 3: 177,928원\n",
      "5위. 연령대 7: 103,323원\n",
      "6위. 연령대 11: 45,302원\n",
      "7위. 연령대 8: 40,996원\n",
      "8위. 연령대 9: 25,193원\n",
      "9위. 연령대 10: 22,399원\n",
      "10위. 연령대 2: 20,835원\n",
      "11위. 연령대 1: 3,364원\n"
     ]
    }
   ],
   "execution_count": 84
  },
  {
   "metadata": {
    "ExecuteTime": {
     "end_time": "2025-06-04T04:10:26.860365Z",
     "start_time": "2025-05-30T03:25:40.278167Z"
    }
   },
   "cell_type": "code",
   "source": [
    "highest_age = age_mean.index[0]\n",
    "lowest_age = age_mean.index[-1]\n",
    "highest_amount = age_mean.iloc[0]\n",
    "lowest_amount = age_mean.iloc[-1]\n",
    "\n",
    "print(f\"최고 소비: 연령대 {highest_age} ({highest_amount:,.0f}원)\")\n",
    "print(f\"최저 소비: 연령대 {lowest_age} ({lowest_amount:,.0f}원)\")\n",
    "print(f\"절대 차이: {highest_amount - lowest_amount:,.0f}원\")\n",
    "print(f\"상대 차이: {(highest_amount / lowest_amount - 1) * 100:.1f}%\")"
   ],
   "id": "8ce5e002f1498d58",
   "outputs": [
    {
     "name": "stdout",
     "output_type": "stream",
     "text": [
      "최고 소비: 연령대 5 (271,525원)\n",
      "최저 소비: 연령대 1 (3,364원)\n",
      "절대 차이: 268,161원\n",
      "상대 차이: 7972.7%\n"
     ]
    }
   ],
   "execution_count": 96
  },
  {
   "metadata": {
    "ExecuteTime": {
     "end_time": "2025-06-04T04:10:26.860897Z",
     "start_time": "2025-05-30T03:23:20.063273Z"
    }
   },
   "cell_type": "code",
   "source": [
    "# 1-5. 연령대별 소비 분포 시각화\n",
    "fig, axes = plt.subplots(2,2, figsize=(15, 10))\n",
    "\n",
    "# 박스플롯 - 연령대별 매출 분포\n",
    "sns.boxplot(data=df, x='age_group_code', y='transaction_amount', ax=axes[0,0])\n",
    "axes[0,0].set_title('연령대별 매출 분포 (박스플롯)')\n",
    "axes[0,0].set_xlabel('연령대')\n",
    "axes[0,0].set_ylabel('매출 금액 (원)')\n",
    "axes[0,0].tick_params(axis='x', rotation=45)\n",
    "\n",
    "# 막대그래프 - 연령대별 평균 매출\n",
    "age_mean.plot(kind='bar', ax=axes[0,1], color='skyblue', alpha=0.8)\n",
    "axes[0,1].set_title('연령대별 평균 매출')\n",
    "axes[0,1].set_xlabel('연령대')\n",
    "axes[0,1].set_ylabel('평균 매출 (원)')\n",
    "axes[0,1].tick_params(axis='x', rotation=45)\n",
    "\n",
    "# 고객 수 분포\n",
    "age_counts.plot(kind='bar', ax=axes[1,0], color='lightcoral', alpha=0.8)\n",
    "axes[1,0].set_title('연령대별 고객 수 분포')\n",
    "axes[1,0].set_xlabel('연령대')\n",
    "axes[1,0].set_ylabel('고객 수 (명)')\n",
    "axes[1,0].tick_params(axis='x', rotation=45)\n",
    "\n",
    "plt.tight_layout()\n",
    "plt.show()"
   ],
   "id": "72b336bb792cf3d7",
   "outputs": [
    {
     "data": {
      "text/plain": [
       "<Figure size 1500x1000 with 4 Axes>"
      ],
      "image/png": "[encoded data removed]"
     },
     "metadata": {},
     "output_type": "display_data"
    }
   ],
   "execution_count": 92
  },
  {
   "metadata": {
    "ExecuteTime": {
     "end_time": "2025-06-04T04:10:26.861440Z",
     "start_time": "2025-05-30T03:24:39.186568Z"
    }
   },
   "cell_type": "code",
   "source": [
    "print(\"\\n5. 소비 수준별 연령대 그룹화:\")\n",
    "age_mean_sorted = age_mean.sort_values(ascending=False)\n",
    "total_ages = len(age_mean_sorted)\n",
    "\n",
    "# 3등분으로 그룹화\n",
    "high_spenders = age_mean_sorted.iloc[:total_ages//3]\n",
    "medium_spenders = age_mean_sorted.iloc[total_ages//3:2*total_ages//3]\n",
    "low_spenders = age_mean_sorted.iloc[2*total_ages//3:]\n",
    "\n",
    "print(\"고소비군 (상위 1/3):\")\n",
    "for age_code, amount in high_spenders.items():\n",
    "    print(f\"  연령대 {age_code}: {amount:,.0f}원\")\n",
    "\n",
    "print(\"중간소비군 (중위 1/3):\")\n",
    "for age_code, amount in medium_spenders.items():\n",
    "    print(f\"  연령대 {age_code}: {amount:,.0f}원\")\n",
    "\n",
    "print(\"저소비군 (하위 1/3):\")\n",
    "for age_code, amount in low_spenders.items():\n",
    "    print(f\"  연령대 {age_code}: {amount:,.0f}원\")\n"
   ],
   "id": "2b21b64423354fe2",
   "outputs": [
    {
     "name": "stdout",
     "output_type": "stream",
     "text": [
      "\n",
      "5. 소비 수준별 연령대 그룹화:\n",
      "고소비군 (상위 1/3):\n",
      "  연령대 5: 271,525원\n",
      "  연령대 4: 244,193원\n",
      "  연령대 6: 212,304원\n",
      "중간소비군 (중위 1/3):\n",
      "  연령대 3: 177,928원\n",
      "  연령대 7: 103,323원\n",
      "  연령대 11: 45,302원\n",
      "  연령대 8: 40,996원\n",
      "저소비군 (하위 1/3):\n",
      "  연령대 9: 25,193원\n",
      "  연령대 10: 22,399원\n",
      "  연령대 2: 20,835원\n",
      "  연령대 1: 3,364원\n"
     ]
    }
   ],
   "execution_count": 94
  },
  {
   "metadata": {
    "ExecuteTime": {
     "end_time": "2025-06-04T04:10:26.861970Z",
     "start_time": "2025-05-30T03:30:11.187443Z"
    }
   },
   "cell_type": "code",
   "source": [
    "cv_age = df.groupby('age_group_code')['transaction_amount'].agg(['mean', 'std'])\n",
    "cv_age['cv'] = cv_age['std'] / cv_age['mean']\n",
    "avg_cv = cv_age['cv'].mean()\n",
    "\n",
    "if (highest_amount / lowest_amount) > 1.5:  # 50% 이상 차이\n",
    "    print(\"가설 기각 가능성 높음 - 연령대별 뚜렷한 소비 차이 관찰\")\n",
    "elif (highest_amount / lowest_amount) > 1.2:  # 20% 이상 차이\n",
    "    print(\"가설 기각 가능성 있음 - 연령대별 중간 정도 차이 관찰\")\n",
    "else:\n",
    "    print(\"가설 채택 가능성 있음 - 연령대별 차이가 미미\")\n",
    "\n",
    "print(f\"최대 연령대 간 차이: {(highest_amount / lowest_amount - 1) * 100:.1f}%\")\n",
    "print(f\"연령대별 평균 변동계수: {avg_cv:.2f}\")"
   ],
   "id": "a1a48a35616a3598",
   "outputs": [
    {
     "name": "stdout",
     "output_type": "stream",
     "text": [
      "가설 기각 가능성 높음 - 연령대별 뚜렷한 소비 차이 관찰\n",
      "최대 연령대 간 차이: 7972.7%\n",
      "연령대별 평균 변동계수: 2.37\n"
     ]
    }
   ],
   "execution_count": 97
  },
  {
   "metadata": {
    "ExecuteTime": {
     "end_time": "2025-06-04T04:10:26.862491Z",
     "start_time": "2025-05-30T05:46:46.342724Z"
    }
   },
   "cell_type": "code",
   "source": [
    "from sklearn.ensemble import RandomForestRegressor\n",
    "from sklearn.model_selection import train_test_split\n",
    "from sklearn.metrics import mean_absolute_error, mean_squared_error, r2_score\n",
    "\n",
    "# 변수 선택\n",
    "features = ['age_group_code', 'gender']  # 필요시 추가\n",
    "X = df[features]\n",
    "y = df['transaction_amount']\n",
    "\n",
    "# 범주형 인코딩\n",
    "X = pd.get_dummies(X, columns=['age_group_code', 'gender'], drop_first=True)\n",
    "\n",
    "# 데이터 분리\n",
    "X_train, X_test, y_train, y_test = train_test_split(X, y, test_size=0.2, random_state=42)\n",
    "\n",
    "# 모델 훈련\n",
    "model = RandomForestRegressor(n_estimators=100, random_state=42)\n",
    "model.fit(X_train, y_train)\n",
    "\n",
    "# 예측\n",
    "y_pred = model.predict(X_test)\n",
    "\n",
    "# 평가\n",
    "mae = mean_absolute_error(y_test, y_pred)\n",
    "rmse = np.sqrt(mean_squared_error(y_test, y_pred))\n",
    "r2 = r2_score(y_test, y_pred)\n",
    "\n",
    "print(f\"MAE: {mae:,.0f}원\")\n",
    "print(f\"RMSE: {rmse:,.0f}원\")\n",
    "print(f\"R² Score: {r2:.4f}\")"
   ],
   "id": "72a025eadbbe41c8",
   "outputs": [
    {
     "name": "stdout",
     "output_type": "stream",
     "text": [
      "MAE: 187,102원\n",
      "RMSE: 445,926원\n",
      "R² Score: 0.0330\n"
     ]
    }
   ],
   "execution_count": 125
  },
  {
   "metadata": {
    "ExecuteTime": {
     "end_time": "2025-06-04T05:31:12.436447Z",
     "start_time": "2025-06-04T05:31:03.171577Z"
    }
   },
   "cell_type": "code",
   "source": [
    "# 1. 샘플링으로 빠른 테스트 (10% 샘플)\n",
    "df_sample = df.sample(n=50000, random_state=42)  # 5만개 샘플\n",
    "print(f\"샘플 데이터 크기: {df_sample.shape}\")\n",
    "\n",
    "# 2. 기본 전처리\n",
    "df_sample['transaction_date'] = pd.to_datetime(df_sample['transaction_date'])\n",
    "df_sample['year'] = df_sample['transaction_date'].dt.year\n",
    "df_sample['month'] = df_sample['transaction_date'].dt.month\n",
    "df_sample['day'] = df_sample['transaction_date'].dt.day\n",
    "\n",
    "# 성별 원핫 인코딩\n",
    "df_encoded = pd.get_dummies(df_sample, columns=['gender'])\n",
    "\n",
    "# 3. 간단한 특성만 사용 (피처 엔지니어링 제외)\n",
    "X = df_encoded[['gender_F', 'gender_M', 'age_group_code',\n",
    "                'time_block_code', 'day_of_week', 'avg_temp', 'district_code',\n",
    "                'year', 'month', 'day']]\n",
    "y = df_encoded['transaction_amount']\n",
    "\n",
    "print(\"기본 모델 훈련 시작...\")\n",
    "\n",
    "# 4. 모델 훈련 (빠른 설정)\n",
    "X_train, X_test, y_train, y_test = train_test_split(X, y, test_size=0.2, random_state=42)\n",
    "\n",
    "# 간단한 모델들 비교\n",
    "models = {\n",
    "    'RandomForest_Small': RandomForestRegressor(n_estimators=50, max_depth=10, random_state=42),\n",
    "    'RandomForest_Medium': RandomForestRegressor(n_estimators=100, max_depth=15, random_state=42)\n",
    "}\n",
    "\n",
    "results = {}\n",
    "for name, model in models.items():\n",
    "    print(f\"{name} 훈련 중...\")\n",
    "    model.fit(X_train, y_train)\n",
    "    y_pred = model.predict(X_test)\n",
    "\n",
    "    rmse = np.sqrt(mean_squared_error(y_test, y_pred))\n",
    "    r2 = r2_score(y_test, y_pred)\n",
    "\n",
    "    results[name] = {'RMSE': rmse, 'R2': r2}\n",
    "    print(f\"{name} 완료!\")\n",
    "\n",
    "# 5. 결과 출력\n",
    "print(\"\\n=== 샘플 데이터 모델 성능 ===\")\n",
    "for name, metrics in results.items():\n",
    "    print(f\"{name}:\")\n",
    "    print(f\"  RMSE: {metrics['RMSE']:,.2f}\")\n",
    "    print(f\"  R²: {metrics['R2']:.4f}\")\n",
    "    print(f\"  설명력: {metrics['R2']*100:.2f}%\")\n",
    "    print()\n",
    "\n",
    "print(\"\\n✅ 샘플 테스트 완료!\")\n",
    "print(\"성능이 만족스럽다면 전체 데이터로 확장하세요.\")"
   ],
   "id": "1a33557addedd5e",
   "outputs": [
    {
     "name": "stdout",
     "output_type": "stream",
     "text": [
      "샘플 데이터 크기: (50000, 18)\n",
      "기본 모델 훈련 시작...\n",
      "RandomForest_Small 훈련 중...\n",
      "RandomForest_Small 완료!\n",
      "RandomForest_Medium 훈련 중...\n",
      "RandomForest_Medium 완료!\n",
      "\n",
      "=== 샘플 데이터 모델 성능 ===\n",
      "RandomForest_Small:\n",
      "  RMSE: 428,676.70\n",
      "  R²: 0.1066\n",
      "  설명력: 10.66%\n",
      "\n",
      "RandomForest_Medium:\n",
      "  RMSE: 462,833.51\n",
      "  R²: -0.0414\n",
      "  설명력: -4.14%\n",
      "\n",
      "\n",
      "✅ 샘플 테스트 완료!\n",
      "성능이 만족스럽다면 전체 데이터로 확장하세요.\n"
     ]
    }
   ],
   "execution_count": 33
  },
  {
   "metadata": {
    "ExecuteTime": {
     "end_time": "2025-06-04T05:37:51.483824Z",
     "start_time": "2025-06-04T05:37:49.810704Z"
    }
   },
   "cell_type": "code",
   "source": [
    "# 구매 패턴 분석 및 예측 옵션\n",
    "import pandas as pd\n",
    "import numpy as np\n",
    "import matplotlib.pyplot as plt\n",
    "import seaborn as sns\n",
    "from sklearn.model_selection import train_test_split\n",
    "from sklearn.ensemble import RandomForestClassifier\n",
    "from sklearn.metrics import classification_report, accuracy_score, roc_auc_score\n",
    "from sklearn.preprocessing import LabelEncoder\n",
    "import warnings\n",
    "warnings.filterwarnings('ignore')\n",
    "\n",
    "print(\"🔄 문제 재정의: 데이터 분석 및 예측 옵션 탐색\")\n",
    "print(\"=\"*60)\n",
    "\n",
    "# 1. 현재 데이터 구조 분석\n",
    "print(\"📊 1. 현재 데이터 구조 분석\")\n",
    "print(\"-\" * 30)\n",
    "print(f\"데이터 크기: {df.shape}\")\n",
    "print(f\"컬럼들: {list(df.columns)}\")\n",
    "print()\n",
    "\n",
    "# 주요 변수들의 분포 확인\n",
    "print(\"주요 변수 분포:\")\n",
    "print(f\"거래금액 범위: {df['transaction_amount'].min():,}원 ~ {df['transaction_amount'].max():,}원\")\n",
    "print(f\"거래횟수 범위: {df['transaction_count'].min()} ~ {df['transaction_count'].max()}회\")\n",
    "print(f\"성별 분포:\\n{df['gender'].value_counts()}\")\n",
    "print(f\"연령대 분포:\\n{df['age_group_code'].value_counts().sort_index()}\")\n",
    "print(f\"지역 분포:\\n{df['district_code'].value_counts().head()}\")\n",
    "\n",
    "# 2. 예측 가능한 문제들 정의\n",
    "print(f\"\\n\" + \"=\"*60)\n",
    "print(\"🎯 2. 예측 가능한 문제들 정의\")\n",
    "print(\"=\"*60)\n",
    "\n",
    "# 2-1. 고액 구매 여부 예측 (이진 분류)\n",
    "threshold_high = df['transaction_amount'].quantile(0.7)  # 상위 30%\n",
    "df['is_high_spender'] = (df['transaction_amount'] >= threshold_high).astype(int)\n",
    "\n",
    "print(f\"💰 문제 1: 고액 구매 예측 (이진 분류)\")\n",
    "print(f\"  기준: {threshold_high:,.0f}원 이상\")\n",
    "print(f\"  고액 구매자: {df['is_high_spender'].sum():,}명 ({df['is_high_spender'].mean()*100:.1f}%)\")\n",
    "\n",
    "# 2-2. 구매 금액대 예측 (다중 분류)\n",
    "df['amount_category'] = pd.cut(df['transaction_amount'],\n",
    "                              bins=[0, 20000, 50000, 100000, 200000, float('inf')],\n",
    "                              labels=['소액(~2만)', '일반(2-5만)', '중액(5-10만)', '고액(10-20만)', '특고액(20만+)'])\n",
    "\n",
    "print(f\"\\n💳 문제 2: 구매 금액대 예측 (5개 카테고리)\")\n",
    "print(\"금액대별 분포:\")\n",
    "print(df['amount_category'].value_counts().sort_index())\n",
    "\n",
    "# 2-3. 다중 구매 여부 예측 (이진 분류)\n",
    "df['is_multiple_purchase'] = (df['transaction_count'] > 1).astype(int)\n",
    "\n",
    "print(f\"\\n🛒 문제 3: 다중 구매 여부 예측 (이진 분류)\")\n",
    "print(f\"  다중 구매자: {df['is_multiple_purchase'].sum():,}명 ({df['is_multiple_purchase'].mean()*100:.1f}%)\")\n",
    "\n",
    "# 2-4. 구매 빈도 카테고리 예측 (다중 분류)\n",
    "df['purchase_frequency'] = pd.cut(df['transaction_count'],\n",
    "                                 bins=[0, 1, 2, 3, float('inf')],\n",
    "                                 labels=['단일구매', '적음(2회)', '보통(3회)', '많음(4회+)'])\n",
    "\n",
    "print(f\"\\n📈 문제 4: 구매 빈도 예측 (4개 카테고리)\")\n",
    "print(\"구매 빈도별 분포:\")\n",
    "print(df['purchase_frequency'].value_counts().sort_index())\n",
    "\n",
    "# 2-5. 시간대별 구매 패턴 예측\n",
    "peak_hours = [5, 6, 7]  # 저녁 시간대\n",
    "df['is_peak_time_buyer'] = df['time_block_code'].isin(peak_hours).astype(int)\n",
    "\n",
    "print(f\"\\n⏰ 문제 5: 피크 시간대 구매 예측 (이진 분류)\")\n",
    "print(f\"  피크시간 구매자: {df['is_peak_time_buyer'].sum():,}명 ({df['is_peak_time_buyer'].mean()*100:.1f}%)\")\n",
    "\n",
    "# 3. 각 문제별 예측 성능 테스트\n",
    "print(f\"\\n\" + \"=\"*60)\n",
    "print(\"🔬 3. 각 문제별 예측 성능 빠른 테스트\")\n",
    "print(\"=\"*60)\n",
    "\n",
    "# 샘플 데이터로 빠른 테스트\n",
    "df_sample = df.sample(n=50000, random_state=42)\n",
    "\n",
    "# 기본 특성들 준비\n",
    "basic_features = ['gender', 'age_group_code', 'time_block_code', 'day_of_week', 'avg_temp', 'district_code']\n",
    "X_basic = pd.get_dummies(df_sample[basic_features], drop_first=True)\n",
    "\n",
    "# 각 예측 문제별 성능 테스트\n",
    "problems = {\n",
    "    '고액 구매 예측': df_sample['is_high_spender'],\n",
    "    '구매 금액대 예측': df_sample['amount_category'],\n",
    "    '다중 구매 예측': df_sample['is_multiple_purchase'],\n",
    "    '구매 빈도 예측': df_sample['purchase_frequency'],\n",
    "    '피크시간 구매 예측': df_sample['is_peak_time_buyer']\n",
    "}\n",
    "\n",
    "results = {}\n",
    "for problem_name, y_target in problems.items():\n",
    "    # 결측값 제거\n",
    "    valid_idx = y_target.notna()\n",
    "    X_clean = X_basic[valid_idx]\n",
    "    y_clean = y_target[valid_idx]\n",
    "\n",
    "    # 라벨 인코딩 (다중 분류용)\n",
    "    if y_clean.dtype == 'object' or y_clean.dtype.name == 'category':\n",
    "        le = LabelEncoder()\n",
    "        y_encoded = le.fit_transform(y_clean.astype(str))\n",
    "        is_multiclass = True\n",
    "        n_classes = len(le.classes_)\n",
    "    else:\n",
    "        y_encoded = y_clean\n",
    "        is_multiclass = False\n",
    "        n_classes = 2\n",
    "\n",
    "    # 데이터 분할\n",
    "    X_train, X_test, y_train, y_test = train_test_split(\n",
    "        X_clean, y_encoded, test_size=0.2, random_state=42, stratify=y_encoded\n",
    "    )\n",
    "\n",
    "    # 모델 훈련\n",
    "    model = RandomForestClassifier(n_estimators=100, max_depth=10, random_state=42, n_jobs=-1)\n",
    "\n",
    "    try:\n",
    "        model.fit(X_train, y_train)\n",
    "        y_pred = model.predict(X_test)\n",
    "        accuracy = accuracy_score(y_test, y_pred)\n",
    "\n",
    "        # AUC 계산 (이진 분류이고 클래스가 2개인 경우만)\n",
    "        if n_classes == 2 and len(model.classes_) == 2:\n",
    "            y_pred_proba = model.predict_proba(X_test)[:, 1]\n",
    "            auc = roc_auc_score(y_test, y_pred_proba)\n",
    "        else:\n",
    "            auc = \"N/A\"\n",
    "\n",
    "    except Exception as e:\n",
    "        print(f\"  ⚠️ 모델 훈련 오류: {str(e)}\")\n",
    "        accuracy = 0.0\n",
    "        auc = \"Error\"\n",
    "\n",
    "    results[problem_name] = {\n",
    "        'accuracy': accuracy,\n",
    "        'auc': auc,\n",
    "        'n_classes': n_classes,\n",
    "        'baseline': max(np.bincount(y_encoded)) / len(y_encoded),  # 최빈값 예측 기준\n",
    "        'sample_size': len(y_encoded)\n",
    "    }\n",
    "\n",
    "    print(f\"\\n📊 {problem_name}:\")\n",
    "    print(f\"  정확도: {accuracy:.3f}\")\n",
    "    print(f\"  AUC: {auc}\")\n",
    "    print(f\"  클래스 수: {n_classes}\")\n",
    "    print(f\"  샘플 수: {results[problem_name]['sample_size']:,}\")\n",
    "    print(f\"  베이스라인: {results[problem_name]['baseline']:.3f}\")\n",
    "\n",
    "    # 베이스라인 대비 개선도\n",
    "    if accuracy > 0:\n",
    "        improvement = (accuracy - results[problem_name]['baseline']) / results[problem_name]['baseline'] * 100\n",
    "        print(f\"  개선도: +{improvement:.1f}%\")\n",
    "    else:\n",
    "        print(f\"  개선도: 계산 불가\")\n",
    "\n",
    "# 4. 권장 문제 선택\n",
    "print(f\"\\n\" + \"=\"*60)\n",
    "print(\"🎯 4. 권장 문제 선택 및 근거\")\n",
    "print(\"=\"*60)\n",
    "\n",
    "# 성능 기준으로 정렬\n",
    "sorted_results = sorted(results.items(), key=lambda x: x[1]['accuracy'], reverse=True)\n",
    "\n",
    "print(\"성능 순위:\")\n",
    "for i, (problem, result) in enumerate(sorted_results, 1):\n",
    "    if result['accuracy'] > 0:\n",
    "        improvement = (result['accuracy'] - result['baseline']) / result['baseline'] * 100\n",
    "        print(f\"{i}. {problem}\")\n",
    "        print(f\"   정확도: {result['accuracy']:.3f} (베이스라인 대비 +{improvement:.1f}%)\")\n",
    "        if result['auc'] not in [\"N/A\", \"Error\"] and isinstance(result['auc'], float):\n",
    "            print(f\"   AUC: {result['auc']:.3f}\")\n",
    "        print()\n",
    "\n",
    "# 5. 비즈니스 관점에서의 가치 평가\n",
    "print(\"💼 비즈니스 관점에서의 가치:\")\n",
    "\n",
    "business_value = {\n",
    "    '고액 구매 예측': {\n",
    "        'value': '높음',\n",
    "        'use_cases': ['VIP 고객 관리', '개인화 마케팅', '매출 집중 관리'],\n",
    "        'impact': '직접적인 매출 증대'\n",
    "    },\n",
    "    '다중 구매 예측': {\n",
    "        'value': '높음',\n",
    "        'use_cases': ['교차 판매', '상품 추천', '매장 배치 최적화'],\n",
    "        'impact': '구매량 증가'\n",
    "    },\n",
    "    '피크시간 구매 예측': {\n",
    "        'value': '중간',\n",
    "        'use_cases': ['인력 배치', '재고 관리', '프로모션 타이밍'],\n",
    "        'impact': '운영 효율성'\n",
    "    },\n",
    "    '구매 금액대 예측': {\n",
    "        'value': '중간',\n",
    "        'use_cases': ['상품 진열', '가격 전략', '고객 세분화'],\n",
    "        'impact': '전략적 의사결정'\n",
    "    },\n",
    "    '구매 빈도 예측': {\n",
    "        'value': '중간',\n",
    "        'use_cases': ['충성도 프로그램', '리텐션 관리', '재방문 유도'],\n",
    "        'impact': '고객 생애가치'\n",
    "    }\n",
    "}\n",
    "\n",
    "for problem, info in business_value.items():\n",
    "    print(f\"\\n{problem}:\")\n",
    "    print(f\"  가치: {info['value']}\")\n",
    "    print(f\"  활용 사례: {', '.join(info['use_cases'])}\")\n",
    "    print(f\"  비즈니스 임팩트: {info['impact']}\")\n",
    "\n",
    "# 6. 최종 권장사항\n",
    "print(f\"\\n\" + \"=\"*60)\n",
    "print(\"🏆 최종 권장사항\")\n",
    "print(\"=\"*60)\n",
    "\n",
    "# 성능과 비즈니스 가치를 종합한 권장\n",
    "top_problem = sorted_results[0][0]\n",
    "print(f\"🥇 1순위 권장: {top_problem}\")\n",
    "print(f\"   이유: 가장 높은 예측 정확도 ({sorted_results[0][1]['accuracy']:.3f})\")\n",
    "\n",
    "print(f\"\\n💡 다음 단계:\")\n",
    "print(f\"1. '{top_problem}' 문제로 상세 모델링 진행\")\n",
    "print(f\"2. 특성 엔지니어링으로 성능 추가 개선\")\n",
    "print(f\"3. 하이퍼파라미터 튜닝\")\n",
    "print(f\"4. 실제 비즈니스 적용 테스트\")\n",
    "\n",
    "print(f\"\\n어떤 문제를 선택하시겠습니까?\")\n",
    "print(f\"권장: {top_problem} (정확도 {sorted_results[0][1]['accuracy']:.3f})\")"
   ],
   "id": "5a18ef3efdb1eea8",
   "outputs": [
    {
     "name": "stdout",
     "output_type": "stream",
     "text": [
      "🔄 문제 재정의: 데이터 분석 및 예측 옵션 탐색\n",
      "============================================================\n",
      "📊 1. 현재 데이터 구조 분석\n",
      "------------------------------\n",
      "데이터 크기: (1603322, 18)\n",
      "컬럼들: ['transaction_date', 'district_code', 'district_name', 'time_block_code', 'gender', 'age_group_code', 'day_of_week', 'transaction_amount', 'transaction_count', 'avg_temp', 'year', 'month', 'day', 'is_high_spender', 'amount_category', 'is_multiple_purchase', 'purchase_frequency', 'is_peak_time_buyer']\n",
      "\n",
      "주요 변수 분포:\n",
      "거래금액 범위: 0원 ~ 54,603,977원\n",
      "거래횟수 범위: 2 ~ 1009회\n",
      "성별 분포:\n",
      "gender\n",
      "M    830039\n",
      "F    773283\n",
      "Name: count, dtype: int64\n",
      "연령대 분포:\n",
      "age_group_code\n",
      "1          2\n",
      "2     103729\n",
      "3     281578\n",
      "4     282196\n",
      "5     279431\n",
      "6     273802\n",
      "7     225341\n",
      "8     118600\n",
      "9      36622\n",
      "10      2014\n",
      "11         7\n",
      "Name: count, dtype: int64\n",
      "지역 분포:\n",
      "district_code\n",
      "41117    458725\n",
      "41113    425788\n",
      "41111    374284\n",
      "41115    344525\n",
      "Name: count, dtype: int64\n",
      "\n",
      "============================================================\n",
      "🎯 2. 예측 가능한 문제들 정의\n",
      "============================================================\n",
      "💰 문제 1: 고액 구매 예측 (이진 분류)\n",
      "  기준: 124,210원 이상\n",
      "  고액 구매자: 481,000명 (30.0%)\n",
      "\n",
      "💳 문제 2: 구매 금액대 예측 (5개 카테고리)\n",
      "금액대별 분포:\n",
      "amount_category\n",
      "소액(~2만)       468098\n",
      "일반(2-5만)      319251\n",
      "중액(5-10만)     259534\n",
      "고액(10-20만)    222181\n",
      "특고액(20만+)     334257\n",
      "Name: count, dtype: int64\n",
      "\n",
      "🛒 문제 3: 다중 구매 여부 예측 (이진 분류)\n",
      "  다중 구매자: 1,603,322명 (100.0%)\n",
      "\n",
      "📈 문제 4: 구매 빈도 예측 (4개 카테고리)\n",
      "구매 빈도별 분포:\n",
      "purchase_frequency\n",
      "단일구매             0\n",
      "적음(2회)      303552\n",
      "보통(3회)      187689\n",
      "많음(4회+)    1112081\n",
      "Name: count, dtype: int64\n",
      "\n",
      "⏰ 문제 5: 피크 시간대 구매 예측 (이진 분류)\n",
      "  피크시간 구매자: 595,508명 (37.1%)\n",
      "\n",
      "============================================================\n",
      "🔬 3. 각 문제별 예측 성능 빠른 테스트\n",
      "============================================================\n",
      "\n",
      "📊 고액 구매 예측:\n",
      "  정확도: 0.748\n",
      "  AUC: 0.801165991805975\n",
      "  클래스 수: 2\n",
      "  샘플 수: 50,000\n",
      "  베이스라인: 0.702\n",
      "  개선도: +6.5%\n",
      "\n",
      "📊 구매 금액대 예측:\n",
      "  정확도: 0.438\n",
      "  AUC: N/A\n",
      "  클래스 수: 5\n",
      "  샘플 수: 50,000\n",
      "  베이스라인: 0.292\n",
      "  개선도: +50.2%\n",
      "\n",
      "📊 다중 구매 예측:\n",
      "  정확도: 1.000\n",
      "  AUC: N/A\n",
      "  클래스 수: 2\n",
      "  샘플 수: 50,000\n",
      "  베이스라인: 1.000\n",
      "  개선도: +0.0%\n",
      "\n",
      "📊 구매 빈도 예측:\n",
      "  정확도: 0.758\n",
      "  AUC: N/A\n",
      "  클래스 수: 3\n",
      "  샘플 수: 50,000\n",
      "  베이스라인: 0.693\n",
      "  개선도: +9.4%\n",
      "\n",
      "📊 피크시간 구매 예측:\n",
      "  정확도: 1.000\n",
      "  AUC: 1.0\n",
      "  클래스 수: 2\n",
      "  샘플 수: 50,000\n",
      "  베이스라인: 0.628\n",
      "  개선도: +59.1%\n",
      "\n",
      "============================================================\n",
      "🎯 4. 권장 문제 선택 및 근거\n",
      "============================================================\n",
      "성능 순위:\n",
      "1. 다중 구매 예측\n",
      "   정확도: 1.000 (베이스라인 대비 +0.0%)\n",
      "\n",
      "2. 피크시간 구매 예측\n",
      "   정확도: 1.000 (베이스라인 대비 +59.1%)\n",
      "   AUC: 1.000\n",
      "\n",
      "3. 구매 빈도 예측\n",
      "   정확도: 0.758 (베이스라인 대비 +9.4%)\n",
      "\n",
      "4. 고액 구매 예측\n",
      "   정확도: 0.748 (베이스라인 대비 +6.5%)\n",
      "   AUC: 0.801\n",
      "\n",
      "5. 구매 금액대 예측\n",
      "   정확도: 0.438 (베이스라인 대비 +50.2%)\n",
      "\n",
      "💼 비즈니스 관점에서의 가치:\n",
      "\n",
      "고액 구매 예측:\n",
      "  가치: 높음\n",
      "  활용 사례: VIP 고객 관리, 개인화 마케팅, 매출 집중 관리\n",
      "  비즈니스 임팩트: 직접적인 매출 증대\n",
      "\n",
      "다중 구매 예측:\n",
      "  가치: 높음\n",
      "  활용 사례: 교차 판매, 상품 추천, 매장 배치 최적화\n",
      "  비즈니스 임팩트: 구매량 증가\n",
      "\n",
      "피크시간 구매 예측:\n",
      "  가치: 중간\n",
      "  활용 사례: 인력 배치, 재고 관리, 프로모션 타이밍\n",
      "  비즈니스 임팩트: 운영 효율성\n",
      "\n",
      "구매 금액대 예측:\n",
      "  가치: 중간\n",
      "  활용 사례: 상품 진열, 가격 전략, 고객 세분화\n",
      "  비즈니스 임팩트: 전략적 의사결정\n",
      "\n",
      "구매 빈도 예측:\n",
      "  가치: 중간\n",
      "  활용 사례: 충성도 프로그램, 리텐션 관리, 재방문 유도\n",
      "  비즈니스 임팩트: 고객 생애가치\n",
      "\n",
      "============================================================\n",
      "🏆 최종 권장사항\n",
      "============================================================\n",
      "🥇 1순위 권장: 다중 구매 예측\n",
      "   이유: 가장 높은 예측 정확도 (1.000)\n",
      "\n",
      "💡 다음 단계:\n",
      "1. '다중 구매 예측' 문제로 상세 모델링 진행\n",
      "2. 특성 엔지니어링으로 성능 추가 개선\n",
      "3. 하이퍼파라미터 튜닝\n",
      "4. 실제 비즈니스 적용 테스트\n",
      "\n",
      "어떤 문제를 선택하시겠습니까?\n",
      "권장: 다중 구매 예측 (정확도 1.000)\n"
     ]
    }
   ],
   "execution_count": 37
  }
 ],
 "metadata": {
  "kernelspec": {
   "display_name": "Python 3",
   "language": "python",
   "name": "python3"
  },
  "language_info": {
   "codemirror_mode": {
    "name": "ipython",
    "version": 2
   },
   "file_extension": ".py",
   "mimetype": "text/x-python",
   "name": "python",
   "nbconvert_exporter": "python",
   "pygments_lexer": "ipython2",
   "version": "2.7.6"
  }
 },
 "nbformat": 4,
 "nbformat_minor": 5
}
