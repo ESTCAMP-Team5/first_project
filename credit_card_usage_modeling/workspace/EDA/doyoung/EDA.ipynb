{
 "cells": [
  {
   "metadata": {
    "collapsed": true,
    "ExecuteTime": {
     "end_time": "2025-05-28T05:42:07.068866Z",
     "start_time": "2025-05-28T05:42:07.066733Z"
    }
   },
   "cell_type": "code",
   "source": [
    "import os\n",
    "import pandas as pd\n",
    "import numpy as np\n",
    "import mysql.connector\n",
    "from dotenv import load_dotenv\n",
    "import seaborn as sns\n",
    "from scipy import stats"
   ],
   "id": "initial_id",
   "outputs": [],
   "execution_count": 34
  },
  {
   "metadata": {
    "ExecuteTime": {
     "end_time": "2025-05-28T03:56:49.546032Z",
     "start_time": "2025-05-28T03:56:49.544082Z"
    }
   },
   "cell_type": "code",
   "source": [
    "import matplotlib.pyplot as plt\n",
    "plt.rc('font', family='AppleGothic')\n",
    "plt.rcParams['axes.unicode_minus'] = False"
   ],
   "id": "96a9999538fbaf37",
   "outputs": [],
   "execution_count": 24
  },
  {
   "metadata": {
    "ExecuteTime": {
     "end_time": "2025-05-28T01:25:22.062685Z",
     "start_time": "2025-05-28T01:25:22.043024Z"
    }
   },
   "cell_type": "code",
   "source": [
    "# DB 연결\n",
    "load_dotenv()\n",
    "\n",
    "conn = mysql.connector.connect(\n",
    "    host=os.getenv(\"DB_HOST\"),\n",
    "    user=os.getenv(\"DB_USER\"),\n",
    "    password=os.getenv(\"DB_PASSWORD\"),\n",
    "    database=os.getenv(\"DB_DATABASE\")\n",
    ")\n",
    "\n",
    "cursor = conn.cursor()"
   ],
   "id": "122f30103a0abf7a",
   "outputs": [],
   "execution_count": 9
  },
  {
   "metadata": {
    "ExecuteTime": {
     "end_time": "2025-05-28T01:47:32.183410Z",
     "start_time": "2025-05-28T01:45:02.629693Z"
    }
   },
   "cell_type": "code",
   "source": [
    "# 쿼리 정의 (업종별 월평균 소비 EDA용)\n",
    "query = \"\"\"\n",
    "SELECT\n",
    "  r.sigungu_code AS city_code,\n",
    "  ic.sub_category AS industry,\n",
    "  DATE_FORMAT(ac.ymd, '%Y-%m') AS ym,\n",
    "  SUM(ac.amt) AS total_amt,\n",
    "  SUM(ac.cnt) AS total_cnt\n",
    "FROM aggregated_consumption ac\n",
    "JOIN regions r ON ac.region_id = r.id\n",
    "JOIN industry_categories ic ON ac.industry_id = ic.id\n",
    "GROUP BY r.sigungu_code, ic.sub_category, ym\n",
    "ORDER BY r.sigungu_code, ym, total_amt DESC;\n",
    "\"\"\"\n",
    "\n",
    "df = pd.read_sql(query, conn)\n",
    "conn.close()\n",
    "\n",
    "df"
   ],
   "id": "5d114a4fc34dc279",
   "outputs": [
    {
     "name": "stderr",
     "output_type": "stream",
     "text": [
      "/var/folders/36/pdpmp_4s2wv687klck6zglrm0000gn/T/ipykernel_75323/2379537012.py:16: UserWarning: pandas only supports SQLAlchemy connectable (engine/connection) or database string URI or sqlite3 DBAPI2 connection. Other DBAPI2 objects are not tested. Please consider using SQLAlchemy.\n",
      "  df = pd.read_sql(query, conn)\n"
     ]
    },
    {
     "data": {
      "text/plain": [
       "     city_code  industry       ym     total_amt  total_cnt\n",
       "0        41111     종합소매점  2025-01  3.283674e+10  1760589.0\n",
       "1        41111      연료판매  2025-01  1.442784e+10   306634.0\n",
       "2        41111  차량관리/서비스  2025-01  1.341227e+10   278535.0\n",
       "3        41111        기업  2025-01  1.058326e+10   242231.0\n",
       "4        41111        한식  2025-01  8.500557e+09   278578.0\n",
       "...        ...       ...      ...           ...        ...\n",
       "3709     41650       부동산  2025-03  1.838844e+06      123.0\n",
       "3710     41650  금융상품/서비스  2025-03  1.320019e+06      109.0\n",
       "3711     41650      유아용품  2025-03  1.154458e+06       20.0\n",
       "3712     41650     교통서비스  2025-03  6.923070e+05        4.0\n",
       "3713     41650      공연관람  2025-03  2.126730e+05       21.0\n",
       "\n",
       "[3714 rows x 5 columns]"
      ],
      "text/html": [
       "<div>\n",
       "<style scoped>\n",
       "    .dataframe tbody tr th:only-of-type {\n",
       "        vertical-align: middle;\n",
       "    }\n",
       "\n",
       "    .dataframe tbody tr th {\n",
       "        vertical-align: top;\n",
       "    }\n",
       "\n",
       "    .dataframe thead th {\n",
       "        text-align: right;\n",
       "    }\n",
       "</style>\n",
       "<table border=\"1\" class=\"dataframe\">\n",
       "  <thead>\n",
       "    <tr style=\"text-align: right;\">\n",
       "      <th></th>\n",
       "      <th>city_code</th>\n",
       "      <th>industry</th>\n",
       "      <th>ym</th>\n",
       "      <th>total_amt</th>\n",
       "      <th>total_cnt</th>\n",
       "    </tr>\n",
       "  </thead>\n",
       "  <tbody>\n",
       "    <tr>\n",
       "      <th>0</th>\n",
       "      <td>41111</td>\n",
       "      <td>종합소매점</td>\n",
       "      <td>2025-01</td>\n",
       "      <td>3.283674e+10</td>\n",
       "      <td>1760589.0</td>\n",
       "    </tr>\n",
       "    <tr>\n",
       "      <th>1</th>\n",
       "      <td>41111</td>\n",
       "      <td>연료판매</td>\n",
       "      <td>2025-01</td>\n",
       "      <td>1.442784e+10</td>\n",
       "      <td>306634.0</td>\n",
       "    </tr>\n",
       "    <tr>\n",
       "      <th>2</th>\n",
       "      <td>41111</td>\n",
       "      <td>차량관리/서비스</td>\n",
       "      <td>2025-01</td>\n",
       "      <td>1.341227e+10</td>\n",
       "      <td>278535.0</td>\n",
       "    </tr>\n",
       "    <tr>\n",
       "      <th>3</th>\n",
       "      <td>41111</td>\n",
       "      <td>기업</td>\n",
       "      <td>2025-01</td>\n",
       "      <td>1.058326e+10</td>\n",
       "      <td>242231.0</td>\n",
       "    </tr>\n",
       "    <tr>\n",
       "      <th>4</th>\n",
       "      <td>41111</td>\n",
       "      <td>한식</td>\n",
       "      <td>2025-01</td>\n",
       "      <td>8.500557e+09</td>\n",
       "      <td>278578.0</td>\n",
       "    </tr>\n",
       "    <tr>\n",
       "      <th>...</th>\n",
       "      <td>...</td>\n",
       "      <td>...</td>\n",
       "      <td>...</td>\n",
       "      <td>...</td>\n",
       "      <td>...</td>\n",
       "    </tr>\n",
       "    <tr>\n",
       "      <th>3709</th>\n",
       "      <td>41650</td>\n",
       "      <td>부동산</td>\n",
       "      <td>2025-03</td>\n",
       "      <td>1.838844e+06</td>\n",
       "      <td>123.0</td>\n",
       "    </tr>\n",
       "    <tr>\n",
       "      <th>3710</th>\n",
       "      <td>41650</td>\n",
       "      <td>금융상품/서비스</td>\n",
       "      <td>2025-03</td>\n",
       "      <td>1.320019e+06</td>\n",
       "      <td>109.0</td>\n",
       "    </tr>\n",
       "    <tr>\n",
       "      <th>3711</th>\n",
       "      <td>41650</td>\n",
       "      <td>유아용품</td>\n",
       "      <td>2025-03</td>\n",
       "      <td>1.154458e+06</td>\n",
       "      <td>20.0</td>\n",
       "    </tr>\n",
       "    <tr>\n",
       "      <th>3712</th>\n",
       "      <td>41650</td>\n",
       "      <td>교통서비스</td>\n",
       "      <td>2025-03</td>\n",
       "      <td>6.923070e+05</td>\n",
       "      <td>4.0</td>\n",
       "    </tr>\n",
       "    <tr>\n",
       "      <th>3713</th>\n",
       "      <td>41650</td>\n",
       "      <td>공연관람</td>\n",
       "      <td>2025-03</td>\n",
       "      <td>2.126730e+05</td>\n",
       "      <td>21.0</td>\n",
       "    </tr>\n",
       "  </tbody>\n",
       "</table>\n",
       "<p>3714 rows × 5 columns</p>\n",
       "</div>"
      ]
     },
     "execution_count": 12,
     "metadata": {},
     "output_type": "execute_result"
    }
   ],
   "execution_count": 12
  },
  {
   "metadata": {
    "ExecuteTime": {
     "end_time": "2025-05-28T02:22:54.784857Z",
     "start_time": "2025-05-28T02:22:54.777795Z"
    }
   },
   "cell_type": "code",
   "source": "df.head()",
   "id": "7b0df9955811f40e",
   "outputs": [
    {
     "data": {
      "text/plain": [
       "  city_code  industry       ym     total_amt  total_cnt\n",
       "0     41111     종합소매점  2025-01  3.283674e+10  1760589.0\n",
       "1     41111      연료판매  2025-01  1.442784e+10   306634.0\n",
       "2     41111  차량관리/서비스  2025-01  1.341227e+10   278535.0\n",
       "3     41111        기업  2025-01  1.058326e+10   242231.0\n",
       "4     41111        한식  2025-01  8.500557e+09   278578.0"
      ],
      "text/html": [
       "<div>\n",
       "<style scoped>\n",
       "    .dataframe tbody tr th:only-of-type {\n",
       "        vertical-align: middle;\n",
       "    }\n",
       "\n",
       "    .dataframe tbody tr th {\n",
       "        vertical-align: top;\n",
       "    }\n",
       "\n",
       "    .dataframe thead th {\n",
       "        text-align: right;\n",
       "    }\n",
       "</style>\n",
       "<table border=\"1\" class=\"dataframe\">\n",
       "  <thead>\n",
       "    <tr style=\"text-align: right;\">\n",
       "      <th></th>\n",
       "      <th>city_code</th>\n",
       "      <th>industry</th>\n",
       "      <th>ym</th>\n",
       "      <th>total_amt</th>\n",
       "      <th>total_cnt</th>\n",
       "    </tr>\n",
       "  </thead>\n",
       "  <tbody>\n",
       "    <tr>\n",
       "      <th>0</th>\n",
       "      <td>41111</td>\n",
       "      <td>종합소매점</td>\n",
       "      <td>2025-01</td>\n",
       "      <td>3.283674e+10</td>\n",
       "      <td>1760589.0</td>\n",
       "    </tr>\n",
       "    <tr>\n",
       "      <th>1</th>\n",
       "      <td>41111</td>\n",
       "      <td>연료판매</td>\n",
       "      <td>2025-01</td>\n",
       "      <td>1.442784e+10</td>\n",
       "      <td>306634.0</td>\n",
       "    </tr>\n",
       "    <tr>\n",
       "      <th>2</th>\n",
       "      <td>41111</td>\n",
       "      <td>차량관리/서비스</td>\n",
       "      <td>2025-01</td>\n",
       "      <td>1.341227e+10</td>\n",
       "      <td>278535.0</td>\n",
       "    </tr>\n",
       "    <tr>\n",
       "      <th>3</th>\n",
       "      <td>41111</td>\n",
       "      <td>기업</td>\n",
       "      <td>2025-01</td>\n",
       "      <td>1.058326e+10</td>\n",
       "      <td>242231.0</td>\n",
       "    </tr>\n",
       "    <tr>\n",
       "      <th>4</th>\n",
       "      <td>41111</td>\n",
       "      <td>한식</td>\n",
       "      <td>2025-01</td>\n",
       "      <td>8.500557e+09</td>\n",
       "      <td>278578.0</td>\n",
       "    </tr>\n",
       "  </tbody>\n",
       "</table>\n",
       "</div>"
      ]
     },
     "execution_count": 13,
     "metadata": {},
     "output_type": "execute_result"
    }
   ],
   "execution_count": 13
  },
  {
   "metadata": {
    "ExecuteTime": {
     "end_time": "2025-05-28T05:45:35.673076Z",
     "start_time": "2025-05-28T05:45:35.668133Z"
    }
   },
   "cell_type": "code",
   "source": "df.count()",
   "id": "847be8d68335b539",
   "outputs": [
    {
     "data": {
      "text/plain": [
       "city_code    3714\n",
       "industry     3714\n",
       "ym           3714\n",
       "total_amt    3714\n",
       "total_cnt    3714\n",
       "dtype: int64"
      ]
     },
     "execution_count": 37,
     "metadata": {},
     "output_type": "execute_result"
    }
   ],
   "execution_count": 37
  },
  {
   "metadata": {
    "ExecuteTime": {
     "end_time": "2025-05-28T02:23:19.960196Z",
     "start_time": "2025-05-28T02:23:19.951805Z"
    }
   },
   "cell_type": "code",
   "source": "df.info()",
   "id": "fb798cff8f461748",
   "outputs": [
    {
     "name": "stdout",
     "output_type": "stream",
     "text": [
      "<class 'pandas.core.frame.DataFrame'>\n",
      "RangeIndex: 3714 entries, 0 to 3713\n",
      "Data columns (total 5 columns):\n",
      " #   Column     Non-Null Count  Dtype  \n",
      "---  ------     --------------  -----  \n",
      " 0   city_code  3714 non-null   object \n",
      " 1   industry   3714 non-null   object \n",
      " 2   ym         3714 non-null   object \n",
      " 3   total_amt  3714 non-null   float64\n",
      " 4   total_cnt  3714 non-null   float64\n",
      "dtypes: float64(2), object(3)\n",
      "memory usage: 145.2+ KB\n"
     ]
    }
   ],
   "execution_count": 14
  },
  {
   "metadata": {
    "ExecuteTime": {
     "end_time": "2025-05-28T02:23:25.248966Z",
     "start_time": "2025-05-28T02:23:25.239892Z"
    }
   },
   "cell_type": "code",
   "source": "df.describe()",
   "id": "58e2ae2701dae171",
   "outputs": [
    {
     "data": {
      "text/plain": [
       "          total_amt     total_cnt\n",
       "count  3.714000e+03  3.714000e+03\n",
       "mean   3.391712e+09  9.946350e+04\n",
       "std    9.402386e+09  3.702021e+05\n",
       "min    3.590000e+03  2.000000e+00\n",
       "25%    1.062541e+08  1.528250e+03\n",
       "50%    7.910113e+08  1.414550e+04\n",
       "75%    2.640493e+09  6.434850e+04\n",
       "max    1.608099e+11  8.632500e+06"
      ],
      "text/html": [
       "<div>\n",
       "<style scoped>\n",
       "    .dataframe tbody tr th:only-of-type {\n",
       "        vertical-align: middle;\n",
       "    }\n",
       "\n",
       "    .dataframe tbody tr th {\n",
       "        vertical-align: top;\n",
       "    }\n",
       "\n",
       "    .dataframe thead th {\n",
       "        text-align: right;\n",
       "    }\n",
       "</style>\n",
       "<table border=\"1\" class=\"dataframe\">\n",
       "  <thead>\n",
       "    <tr style=\"text-align: right;\">\n",
       "      <th></th>\n",
       "      <th>total_amt</th>\n",
       "      <th>total_cnt</th>\n",
       "    </tr>\n",
       "  </thead>\n",
       "  <tbody>\n",
       "    <tr>\n",
       "      <th>count</th>\n",
       "      <td>3.714000e+03</td>\n",
       "      <td>3.714000e+03</td>\n",
       "    </tr>\n",
       "    <tr>\n",
       "      <th>mean</th>\n",
       "      <td>3.391712e+09</td>\n",
       "      <td>9.946350e+04</td>\n",
       "    </tr>\n",
       "    <tr>\n",
       "      <th>std</th>\n",
       "      <td>9.402386e+09</td>\n",
       "      <td>3.702021e+05</td>\n",
       "    </tr>\n",
       "    <tr>\n",
       "      <th>min</th>\n",
       "      <td>3.590000e+03</td>\n",
       "      <td>2.000000e+00</td>\n",
       "    </tr>\n",
       "    <tr>\n",
       "      <th>25%</th>\n",
       "      <td>1.062541e+08</td>\n",
       "      <td>1.528250e+03</td>\n",
       "    </tr>\n",
       "    <tr>\n",
       "      <th>50%</th>\n",
       "      <td>7.910113e+08</td>\n",
       "      <td>1.414550e+04</td>\n",
       "    </tr>\n",
       "    <tr>\n",
       "      <th>75%</th>\n",
       "      <td>2.640493e+09</td>\n",
       "      <td>6.434850e+04</td>\n",
       "    </tr>\n",
       "    <tr>\n",
       "      <th>max</th>\n",
       "      <td>1.608099e+11</td>\n",
       "      <td>8.632500e+06</td>\n",
       "    </tr>\n",
       "  </tbody>\n",
       "</table>\n",
       "</div>"
      ]
     },
     "execution_count": 15,
     "metadata": {},
     "output_type": "execute_result"
    }
   ],
   "execution_count": 15
  },
  {
   "metadata": {
    "ExecuteTime": {
     "end_time": "2025-05-28T05:44:15.441566Z",
     "start_time": "2025-05-28T05:44:15.426893Z"
    }
   },
   "cell_type": "code",
   "source": [
    "# 도시 간 소비액 차이\n",
    "cities_data = [group['total_amt'].values for name, group in df.groupby('city_code')]\n",
    "f_stat_city, p_value_city = stats.f_oneway(*cities_data)\n",
    "\n",
    "print(\"=== 1. 도시 간 소비액 차이 검정 ===\")\n",
    "print(f\"F-통계량: {f_stat_city:.4f}\")\n",
    "print(f\"p-value: {p_value_city:.4f}\")\n",
    "print(f\"결과: {'유의한 차이 있음' if p_value_city < 0.05 else '유의한 차이 없음'}\")\n",
    "\n",
    "# 업종 간 소비액 차이\n",
    "industries_data = [group['total_amt'].values for name, group in df.groupby('industry')]\n",
    "f_stat_industry, p_value_industry = stats.f_oneway(*industries_data)\n",
    "\n",
    "print(\"\\n=== 2. 업종 간 소비액 차이 검정 ===\")\n",
    "print(f\"F-통계량: {f_stat_industry:.4f}\")\n",
    "print(f\"p-value: {p_value_industry:.4f}\")\n",
    "print(f\"결과: {'유의한 차이 있음' if p_value_industry < 0.05 else '유의한 차이 없음'}\")\n",
    "\n",
    "# 특정 도시-업종 조합의 유의성 검정\n",
    "print(\"\\n=== 3. 특정 도시-업종 조합의 유의성 검정 ===\")\n",
    "\n",
    "# 상위 조합 vs 전체 평균 비교\n",
    "top_combination = df.groupby(['city_code', 'industry'])['total_amt'].mean().idxmax()\n",
    "top_city, top_industry = top_combination\n",
    "\n",
    "# 해당 조합의 데이터\n",
    "target_data = df[(df['city_code'] == top_city) & (df['industry'] == top_industry)]['total_amt']\n",
    "\n",
    "# 다른 모든 데이터\n",
    "other_data = df[~((df['city_code'] == top_city) & (df['industry'] == top_industry))]['total_amt']\n",
    "\n",
    "# t-검정\n",
    "t_stat, p_value_t = stats.ttest_ind(target_data, other_data)\n",
    "\n",
    "print(f\"최고 조합: 도시 {top_city}, 업종 {top_industry}\")\n",
    "print(f\"해당 조합 평균: {target_data.mean():.2f}\")\n",
    "print(f\"다른 조합 평균: {other_data.mean():.2f}\")\n",
    "print(f\"t-통계량: {t_stat:.4f}\")\n",
    "print(f\"p-value: {p_value_t:.4f}\")\n",
    "print(f\"결과: {'유의하게 높음' if p_value_t < 0.05 and t_stat > 0 else '유의한 차이 없음'}\")"
   ],
   "id": "50f899d7205001eb",
   "outputs": [
    {
     "name": "stdout",
     "output_type": "stream",
     "text": [
      "=== 1. 도시 간 소비액 차이 검정 ===\n",
      "F-통계량: 8.3896\n",
      "p-value: 0.0000\n",
      "결과: 유의한 차이 있음\n",
      "\n",
      "=== 2. 업종 간 소비액 차이 검정 ===\n",
      "F-통계량: 65.4386\n",
      "p-value: 0.0000\n",
      "결과: 유의한 차이 있음\n",
      "\n",
      "=== 3. 특정 도시-업종 조합의 유의성 검정 ===\n",
      "최고 조합: 도시 41590, 업종 종합소매점\n",
      "해당 조합 평균: 148476708792.67\n",
      "다른 조합 평균: 3274423863.85\n",
      "t-통계량: 29.7510\n",
      "p-value: 0.0000\n",
      "결과: 유의하게 높음\n"
     ]
    }
   ],
   "execution_count": 36
  }
 ],
 "metadata": {
  "kernelspec": {
   "display_name": "Python 3",
   "language": "python",
   "name": "python3"
  },
  "language_info": {
   "codemirror_mode": {
    "name": "ipython",
    "version": 2
   },
   "file_extension": ".py",
   "mimetype": "text/x-python",
   "name": "python",
   "nbconvert_exporter": "python",
   "pygments_lexer": "ipython2",
   "version": "2.7.6"
  }
 },
 "nbformat": 4,
 "nbformat_minor": 5
}
