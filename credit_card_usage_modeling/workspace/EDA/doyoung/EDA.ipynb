{
 "cells": [
  {
   "metadata": {
    "collapsed": true,
    "ExecuteTime": {
     "end_time": "2025-05-28T01:25:21.023678Z",
     "start_time": "2025-05-28T01:25:21.016398Z"
    }
   },
   "cell_type": "code",
   "source": [
    "import os\n",
    "import pandas as pd\n",
    "import numpy as np\n",
    "import mysql.connector\n",
    "from dotenv import load_dotenv"
   ],
   "id": "initial_id",
   "outputs": [],
   "execution_count": 8
  },
  {
   "metadata": {
    "ExecuteTime": {
     "end_time": "2025-05-28T01:25:22.062685Z",
     "start_time": "2025-05-28T01:25:22.043024Z"
    }
   },
   "cell_type": "code",
   "source": [
    "# DB 연결\n",
    "load_dotenv()\n",
    "\n",
    "conn = mysql.connector.connect(\n",
    "    host=os.getenv(\"DB_HOST\"),\n",
    "    user=os.getenv(\"DB_USER\"),\n",
    "    password=os.getenv(\"DB_PASSWORD\"),\n",
    "    database=os.getenv(\"DB_DATABASE\")\n",
    ")\n",
    "\n",
    "cursor = conn.cursor()"
   ],
   "id": "122f30103a0abf7a",
   "outputs": [],
   "execution_count": 9
  },
  {
   "metadata": {
    "ExecuteTime": {
     "end_time": "2025-05-28T01:47:32.183410Z",
     "start_time": "2025-05-28T01:45:02.629693Z"
    }
   },
   "cell_type": "code",
   "source": [
    "# 쿼리 정의 (업종별 월평균 소비 EDA용)\n",
    "query = \"\"\"\n",
    "SELECT\n",
    "  r.sigungu_code AS city_code,\n",
    "  ic.sub_category AS industry,\n",
    "  DATE_FORMAT(ac.ymd, '%Y-%m') AS ym,\n",
    "  SUM(ac.amt) AS total_amt,\n",
    "  SUM(ac.cnt) AS total_cnt\n",
    "FROM aggregated_consumption ac\n",
    "JOIN regions r ON ac.region_id = r.id\n",
    "JOIN industry_categories ic ON ac.industry_id = ic.id\n",
    "GROUP BY r.sigungu_code, ic.sub_category, ym\n",
    "ORDER BY r.sigungu_code, ym, total_amt DESC;\n",
    "\"\"\"\n",
    "\n",
    "df = pd.read_sql(query, conn)\n",
    "conn.close()\n",
    "\n",
    "df"
   ],
   "id": "5d114a4fc34dc279",
   "outputs": [
    {
     "name": "stderr",
     "output_type": "stream",
     "text": [
      "/var/folders/36/pdpmp_4s2wv687klck6zglrm0000gn/T/ipykernel_75323/2379537012.py:16: UserWarning: pandas only supports SQLAlchemy connectable (engine/connection) or database string URI or sqlite3 DBAPI2 connection. Other DBAPI2 objects are not tested. Please consider using SQLAlchemy.\n",
      "  df = pd.read_sql(query, conn)\n"
     ]
    },
    {
     "data": {
      "text/plain": [
       "     city_code  industry       ym     total_amt  total_cnt\n",
       "0        41111     종합소매점  2025-01  3.283674e+10  1760589.0\n",
       "1        41111      연료판매  2025-01  1.442784e+10   306634.0\n",
       "2        41111  차량관리/서비스  2025-01  1.341227e+10   278535.0\n",
       "3        41111        기업  2025-01  1.058326e+10   242231.0\n",
       "4        41111        한식  2025-01  8.500557e+09   278578.0\n",
       "...        ...       ...      ...           ...        ...\n",
       "3709     41650       부동산  2025-03  1.838844e+06      123.0\n",
       "3710     41650  금융상품/서비스  2025-03  1.320019e+06      109.0\n",
       "3711     41650      유아용품  2025-03  1.154458e+06       20.0\n",
       "3712     41650     교통서비스  2025-03  6.923070e+05        4.0\n",
       "3713     41650      공연관람  2025-03  2.126730e+05       21.0\n",
       "\n",
       "[3714 rows x 5 columns]"
      ],
      "text/html": [
       "<div>\n",
       "<style scoped>\n",
       "    .dataframe tbody tr th:only-of-type {\n",
       "        vertical-align: middle;\n",
       "    }\n",
       "\n",
       "    .dataframe tbody tr th {\n",
       "        vertical-align: top;\n",
       "    }\n",
       "\n",
       "    .dataframe thead th {\n",
       "        text-align: right;\n",
       "    }\n",
       "</style>\n",
       "<table border=\"1\" class=\"dataframe\">\n",
       "  <thead>\n",
       "    <tr style=\"text-align: right;\">\n",
       "      <th></th>\n",
       "      <th>city_code</th>\n",
       "      <th>industry</th>\n",
       "      <th>ym</th>\n",
       "      <th>total_amt</th>\n",
       "      <th>total_cnt</th>\n",
       "    </tr>\n",
       "  </thead>\n",
       "  <tbody>\n",
       "    <tr>\n",
       "      <th>0</th>\n",
       "      <td>41111</td>\n",
       "      <td>종합소매점</td>\n",
       "      <td>2025-01</td>\n",
       "      <td>3.283674e+10</td>\n",
       "      <td>1760589.0</td>\n",
       "    </tr>\n",
       "    <tr>\n",
       "      <th>1</th>\n",
       "      <td>41111</td>\n",
       "      <td>연료판매</td>\n",
       "      <td>2025-01</td>\n",
       "      <td>1.442784e+10</td>\n",
       "      <td>306634.0</td>\n",
       "    </tr>\n",
       "    <tr>\n",
       "      <th>2</th>\n",
       "      <td>41111</td>\n",
       "      <td>차량관리/서비스</td>\n",
       "      <td>2025-01</td>\n",
       "      <td>1.341227e+10</td>\n",
       "      <td>278535.0</td>\n",
       "    </tr>\n",
       "    <tr>\n",
       "      <th>3</th>\n",
       "      <td>41111</td>\n",
       "      <td>기업</td>\n",
       "      <td>2025-01</td>\n",
       "      <td>1.058326e+10</td>\n",
       "      <td>242231.0</td>\n",
       "    </tr>\n",
       "    <tr>\n",
       "      <th>4</th>\n",
       "      <td>41111</td>\n",
       "      <td>한식</td>\n",
       "      <td>2025-01</td>\n",
       "      <td>8.500557e+09</td>\n",
       "      <td>278578.0</td>\n",
       "    </tr>\n",
       "    <tr>\n",
       "      <th>...</th>\n",
       "      <td>...</td>\n",
       "      <td>...</td>\n",
       "      <td>...</td>\n",
       "      <td>...</td>\n",
       "      <td>...</td>\n",
       "    </tr>\n",
       "    <tr>\n",
       "      <th>3709</th>\n",
       "      <td>41650</td>\n",
       "      <td>부동산</td>\n",
       "      <td>2025-03</td>\n",
       "      <td>1.838844e+06</td>\n",
       "      <td>123.0</td>\n",
       "    </tr>\n",
       "    <tr>\n",
       "      <th>3710</th>\n",
       "      <td>41650</td>\n",
       "      <td>금융상품/서비스</td>\n",
       "      <td>2025-03</td>\n",
       "      <td>1.320019e+06</td>\n",
       "      <td>109.0</td>\n",
       "    </tr>\n",
       "    <tr>\n",
       "      <th>3711</th>\n",
       "      <td>41650</td>\n",
       "      <td>유아용품</td>\n",
       "      <td>2025-03</td>\n",
       "      <td>1.154458e+06</td>\n",
       "      <td>20.0</td>\n",
       "    </tr>\n",
       "    <tr>\n",
       "      <th>3712</th>\n",
       "      <td>41650</td>\n",
       "      <td>교통서비스</td>\n",
       "      <td>2025-03</td>\n",
       "      <td>6.923070e+05</td>\n",
       "      <td>4.0</td>\n",
       "    </tr>\n",
       "    <tr>\n",
       "      <th>3713</th>\n",
       "      <td>41650</td>\n",
       "      <td>공연관람</td>\n",
       "      <td>2025-03</td>\n",
       "      <td>2.126730e+05</td>\n",
       "      <td>21.0</td>\n",
       "    </tr>\n",
       "  </tbody>\n",
       "</table>\n",
       "<p>3714 rows × 5 columns</p>\n",
       "</div>"
      ]
     },
     "execution_count": 12,
     "metadata": {},
     "output_type": "execute_result"
    }
   ],
   "execution_count": 12
  },
  {
   "metadata": {},
   "cell_type": "code",
   "outputs": [],
   "execution_count": null,
   "source": "",
   "id": "7b0df9955811f40e"
  }
 ],
 "metadata": {
  "kernelspec": {
   "display_name": "Python 3",
   "language": "python",
   "name": "python3"
  },
  "language_info": {
   "codemirror_mode": {
    "name": "ipython",
    "version": 2
   },
   "file_extension": ".py",
   "mimetype": "text/x-python",
   "name": "python",
   "nbconvert_exporter": "python",
   "pygments_lexer": "ipython2",
   "version": "2.7.6"
  }
 },
 "nbformat": 4,
 "nbformat_minor": 5
}
